{
 "cells": [
  {
   "cell_type": "code",
   "execution_count": 1,
   "id": "0d766b2b-4604-4f3f-912c-1b431bdb22cd",
   "metadata": {},
   "outputs": [],
   "source": [
    "# Puxa as variáveis do arquivo Conversores para serem utilizadas neste arquivo\n",
    "%run Conversores.ipynb"
   ]
  },
  {
   "cell_type": "markdown",
   "id": "024b212d-aedb-407d-9d17-ac6267f51dfa",
   "metadata": {},
   "source": [
    "# Meta 2 - 2023"
   ]
  },
  {
   "cell_type": "code",
   "execution_count": 2,
   "id": "93c8028d-896e-40ee-b8b3-d08045ccc2cf",
   "metadata": {},
   "outputs": [],
   "source": [
    "# Meta 2 - 2023\n",
    "# Iniciando navegador\n",
    "driver = webdriver.Chrome()\n",
    "sleep(2)"
   ]
  },
  {
   "cell_type": "code",
   "execution_count": 3,
   "id": "252b684d-d457-4b0e-811e-18db37ca34f3",
   "metadata": {},
   "outputs": [],
   "source": [
    "# Entrando no site\n",
    "driver.get(ano[2023])\n",
    "sleep(5)"
   ]
  },
  {
   "cell_type": "code",
   "execution_count": 4,
   "id": "7a5d8abb-43c0-4e95-9ab9-c09cd2127a07",
   "metadata": {},
   "outputs": [],
   "source": [
    "# Fechando pop-up\n",
    "driver.find_element(By.CLASS_NAME, 'tileSVG').click()\n",
    "sleep(1)"
   ]
  },
  {
   "cell_type": "code",
   "execution_count": 5,
   "id": "d1c045f3-834f-483b-95c4-e7be28c2fb83",
   "metadata": {},
   "outputs": [],
   "source": [
    "# Clicando na meta \n",
    "driver.find_elements(By.CLASS_NAME, 'tileSVG')[4].click()\n",
    "sleep(3)"
   ]
  },
  {
   "cell_type": "code",
   "execution_count": 6,
   "id": "73f18883-c375-4a30-8267-5456024a651d",
   "metadata": {},
   "outputs": [],
   "source": [
    "# Selecionando o UF\n",
    "driver.find_elements(By.CSS_SELECTOR, '.slicer-dropdown-menu')[2].click()\n",
    "sleep(2)"
   ]
  },
  {
   "cell_type": "code",
   "execution_count": 7,
   "id": "1a440bf2-52e8-4ee5-a74b-42a0bb9d1654",
   "metadata": {},
   "outputs": [],
   "source": [
    "# Selecionando 07ª - CE\n",
    "driver.find_elements(By.CSS_SELECTOR, '.slicerText')[7].click()\n",
    "sleep(5)"
   ]
  },
  {
   "cell_type": "code",
   "execution_count": 8,
   "id": "23d37bdc-4bf6-4c16-9149-28109855e3a8",
   "metadata": {},
   "outputs": [],
   "source": [
    "# Selecionando a 1º Instância\n",
    "driver.find_elements(By.CSS_SELECTOR, '.slicer-dropdown-menu')[0].click()\n",
    "sleep(2)\n",
    "\n",
    "driver.find_elements(By.CSS_SELECTOR, '.slicerText')[1].click()\n",
    "sleep(5)"
   ]
  },
  {
   "cell_type": "code",
   "execution_count": 9,
   "id": "b4cf09fb-f9b3-4cd2-9c72-6a5723726a62",
   "metadata": {},
   "outputs": [],
   "source": [
    "# Expandindo as varas do estado\n",
    "driver.find_elements(By.CSS_SELECTOR, '.visual .pivotTableContainer .pivotTable .expandCollapseButton i.glyphicon, .visual .tableExContainer .tableEx .expandCollapseButton i.glyphicon')[0].click()\n",
    "sleep(3)"
   ]
  },
  {
   "cell_type": "code",
   "execution_count": 10,
   "id": "3035d254-40aa-4e4d-90fb-01740992ba4c",
   "metadata": {},
   "outputs": [],
   "source": [
    "# Selecionando a tabela\n",
    "tabela = driver.find_elements(By.CLASS_NAME, 'expandableCell')[0]\n",
    "tabela.click()"
   ]
  },
  {
   "cell_type": "code",
   "execution_count": 11,
   "id": "0b4d3b44-54fc-4fd3-adc7-0a1fe61319a8",
   "metadata": {},
   "outputs": [],
   "source": [
    "# Botão direito do mouse e copiar seleção\n",
    "action = ActionChains(driver)\n",
    "action.key_down(Keys.SHIFT).send_keys(Keys.F10).key_up(Keys.SHIFT).perform()\n",
    "sleep(1)\n",
    "action.key_down(Keys.RIGHT).key_up(Keys.RIGHT).perform()\n",
    "sleep(1)\n",
    "action.key_down(Keys.DOWN).key_up(Keys.DOWN).perform()\n",
    "sleep(1)\n",
    "action.key_down(Keys.ENTER).key_up(Keys.ENTER).perform()\n",
    "sleep(1)"
   ]
  },
  {
   "cell_type": "code",
   "execution_count": 12,
   "id": "55b6b438-488c-41b8-bdb0-c105fbeb903a",
   "metadata": {},
   "outputs": [],
   "source": [
    "# Transformando o texto em DataFrame\n",
    "tab = pyperclip.paste()\n",
    "tab = tab.replace(\".\", \"\")\n",
    "meta2_23 = pd.read_csv(StringIO(tab), sep=\"\\t\")"
   ]
  },
  {
   "cell_type": "code",
   "execution_count": 13,
   "id": "75a36c1b-1619-429a-ad03-b713fee00b7c",
   "metadata": {},
   "outputs": [],
   "source": [
    "# Removendo linhas do 2º grau\n",
    "meta2_23 = meta2_23[meta2_23[\"ORGAO_JULGADOR\"].isin(list(conversorNomeVara.keys()))]"
   ]
  },
  {
   "cell_type": "code",
   "execution_count": 14,
   "id": "9d714f52-2113-45fb-8413-b2853909ff6c",
   "metadata": {},
   "outputs": [],
   "source": [
    "# Removendo colunas desnecessárias\n",
    "meta2_23 = meta2_23.iloc[:, [1, 5]]\n",
    "meta2_23['ORGAO_JULGADOR'] = meta2_23['ORGAO_JULGADOR'].apply(lambda orgao: conversorNomeVara[orgao])"
   ]
  },
  {
   "cell_type": "code",
   "execution_count": 15,
   "id": "4ed5971e-b2ae-43e5-b944-370191a429b3",
   "metadata": {},
   "outputs": [],
   "source": [
    "# Inserindo o Ano\n",
    "meta2_23.insert(0, 'Ano', 2023)"
   ]
  },
  {
   "cell_type": "code",
   "execution_count": 16,
   "id": "332c9e96-d524-43e5-aa64-a669404563e9",
   "metadata": {},
   "outputs": [],
   "source": [
    "# Inserindo coluna de índices\n",
    "meta2_23.insert(0, 'Índices', meta2_23['ORGAO_JULGADOR'].map(id_vara))"
   ]
  },
  {
   "cell_type": "code",
   "execution_count": 17,
   "id": "dee84337-5975-4a45-a88c-7a2f73f102d6",
   "metadata": {},
   "outputs": [],
   "source": [
    "# Adicionando linha Total do 1º grau\n",
    "total1Grau = driver.find_elements(By.CLASS_NAME, 'row')[3].text.split('\\n')\n",
    "total1Grau.insert(0, id_vara['Total do 1º Grau'])\n",
    "total1Grau.insert(1, 2023)\n",
    "total1Grau.remove('07ª - CE')\n",
    "total1Grau.insert(2, 'Total do 1º Grau')\n",
    "total1Grau = total1Grau[0:7]\n",
    "total1Grau.pop(3)\n",
    "total1Grau.pop(3)\n",
    "total1Grau.pop(3)\n",
    "meta2_23.loc[len(meta2_23)] = total1Grau"
   ]
  },
  {
   "cell_type": "code",
   "execution_count": 18,
   "id": "25bf491e-078c-46fb-a8f8-017cac08a3e2",
   "metadata": {},
   "outputs": [
    {
     "data": {
      "text/plain": [
       "0      1\n",
       "1      2\n",
       "2      4\n",
       "3      5\n",
       "4      8\n",
       "5     12\n",
       "6     14\n",
       "7     15\n",
       "8     16\n",
       "9     17\n",
       "10    18\n",
       "11    19\n",
       "12    20\n",
       "13    21\n",
       "14    22\n",
       "15    23\n",
       "16    24\n",
       "17    25\n",
       "18    26\n",
       "19    27\n",
       "20    28\n",
       "21    29\n",
       "22    30\n",
       "23    31\n",
       "24    34\n",
       "25    38\n",
       "26    39\n",
       "27    40\n",
       "28    43\n",
       "29    46\n",
       "30    47\n",
       "31    48\n",
       "32    49\n",
       "33    51\n",
       "34    53\n",
       "35    54\n",
       "36    55\n",
       "37    37\n",
       "Name: index, dtype: int64"
      ]
     },
     "execution_count": 18,
     "metadata": {},
     "output_type": "execute_result"
    }
   ],
   "source": [
    "# Os índices foram resetados para que total7Regiao ficasse na última linha, esse comando cria uma coluna index com os indices antigos, ele é deletada.\n",
    "meta2_23 = meta2_23.reset_index()\n",
    "meta2_23.pop('index')"
   ]
  },
  {
   "cell_type": "code",
   "execution_count": 19,
   "id": "417bf707-1448-442c-9622-e89420256413",
   "metadata": {},
   "outputs": [],
   "source": [
    "# Adicionando linha Total do TRT7\n",
    "# Selecionando todas as instâncias\n",
    "driver.find_elements(By.CSS_SELECTOR, '.slicer-dropdown-menu')[0].click()\n",
    "sleep(2)\n",
    "driver.find_elements(By.CSS_SELECTOR, '.slicerText')[1].click()\n",
    "sleep(5)"
   ]
  },
  {
   "cell_type": "code",
   "execution_count": 20,
   "id": "4710f823-4d39-4217-886d-8f86f2742598",
   "metadata": {},
   "outputs": [],
   "source": [
    "total7regiao = driver.find_elements(By.CLASS_NAME, 'row')[3].text.split('\\n')\n",
    "total7regiao.insert(0, id_vara['Total da 7ª Região'])\n",
    "total7regiao.insert(1, 2023)\n",
    "total7regiao.remove('07ª - CE')\n",
    "total7regiao.insert(2, 'Total da 7ª Região')\n",
    "total7regiao = total7regiao[0:7]\n",
    "total7regiao.pop(3)\n",
    "total7regiao.pop(3)\n",
    "total7regiao.pop(3)\n",
    "meta2_23.loc[len(meta2_23)] = total7regiao\n",
    "meta2_23.columns = ['Índices', 'Ano', 'Unidade Judiciária',  'Resultado']"
   ]
  },
  {
   "cell_type": "code",
   "execution_count": 21,
   "id": "eb718825-06fe-47cb-a5ea-8ae1fa42e7bd",
   "metadata": {},
   "outputs": [],
   "source": [
    "driver.close()"
   ]
  },
  {
   "cell_type": "code",
   "execution_count": 22,
   "id": "df0f5e71-da21-44a7-a0e7-df3a7a06a475",
   "metadata": {},
   "outputs": [
    {
     "data": {
      "text/html": [
       "<div>\n",
       "<style scoped>\n",
       "    .dataframe tbody tr th:only-of-type {\n",
       "        vertical-align: middle;\n",
       "    }\n",
       "\n",
       "    .dataframe tbody tr th {\n",
       "        vertical-align: top;\n",
       "    }\n",
       "\n",
       "    .dataframe thead th {\n",
       "        text-align: right;\n",
       "    }\n",
       "</style>\n",
       "<table border=\"1\" class=\"dataframe\">\n",
       "  <thead>\n",
       "    <tr style=\"text-align: right;\">\n",
       "      <th></th>\n",
       "      <th>Índices</th>\n",
       "      <th>Ano</th>\n",
       "      <th>Unidade Judiciária</th>\n",
       "      <th>Resultado</th>\n",
       "    </tr>\n",
       "  </thead>\n",
       "  <tbody>\n",
       "    <tr>\n",
       "      <th>0</th>\n",
       "      <td>19</td>\n",
       "      <td>2023</td>\n",
       "      <td>1ª VT de Aracati</td>\n",
       "      <td>107,53%</td>\n",
       "    </tr>\n",
       "    <tr>\n",
       "      <th>1</th>\n",
       "      <td>20</td>\n",
       "      <td>2023</td>\n",
       "      <td>1ª VT de Baturité</td>\n",
       "      <td>110,15%</td>\n",
       "    </tr>\n",
       "    <tr>\n",
       "      <th>2</th>\n",
       "      <td>21</td>\n",
       "      <td>2023</td>\n",
       "      <td>1ª VT de Caucaia</td>\n",
       "      <td>106,96%</td>\n",
       "    </tr>\n",
       "    <tr>\n",
       "      <th>3</th>\n",
       "      <td>33</td>\n",
       "      <td>2023</td>\n",
       "      <td>2ª VT de Caucaia</td>\n",
       "      <td>107,13%</td>\n",
       "    </tr>\n",
       "    <tr>\n",
       "      <th>4</th>\n",
       "      <td>22</td>\n",
       "      <td>2023</td>\n",
       "      <td>1ª VT de Crateus</td>\n",
       "      <td>107,83%</td>\n",
       "    </tr>\n",
       "    <tr>\n",
       "      <th>5</th>\n",
       "      <td>23</td>\n",
       "      <td>2023</td>\n",
       "      <td>1ª VT de Eusébio</td>\n",
       "      <td>107,75%</td>\n",
       "    </tr>\n",
       "    <tr>\n",
       "      <th>6</th>\n",
       "      <td>10</td>\n",
       "      <td>2023</td>\n",
       "      <td>10ª VT de Fortaleza</td>\n",
       "      <td>104,83%</td>\n",
       "    </tr>\n",
       "    <tr>\n",
       "      <th>7</th>\n",
       "      <td>11</td>\n",
       "      <td>2023</td>\n",
       "      <td>11ª VT de Fortaleza</td>\n",
       "      <td>105,88%</td>\n",
       "    </tr>\n",
       "    <tr>\n",
       "      <th>8</th>\n",
       "      <td>12</td>\n",
       "      <td>2023</td>\n",
       "      <td>12ª VT de Fortaleza</td>\n",
       "      <td>107,03%</td>\n",
       "    </tr>\n",
       "    <tr>\n",
       "      <th>9</th>\n",
       "      <td>13</td>\n",
       "      <td>2023</td>\n",
       "      <td>13ª VT de Fortaleza</td>\n",
       "      <td>105,92%</td>\n",
       "    </tr>\n",
       "    <tr>\n",
       "      <th>10</th>\n",
       "      <td>14</td>\n",
       "      <td>2023</td>\n",
       "      <td>14ª VT de Fortaleza</td>\n",
       "      <td>107,53%</td>\n",
       "    </tr>\n",
       "    <tr>\n",
       "      <th>11</th>\n",
       "      <td>15</td>\n",
       "      <td>2023</td>\n",
       "      <td>15ª VT de Fortaleza</td>\n",
       "      <td>107,31%</td>\n",
       "    </tr>\n",
       "    <tr>\n",
       "      <th>12</th>\n",
       "      <td>16</td>\n",
       "      <td>2023</td>\n",
       "      <td>16ª VT de Fortaleza</td>\n",
       "      <td>107,29%</td>\n",
       "    </tr>\n",
       "    <tr>\n",
       "      <th>13</th>\n",
       "      <td>17</td>\n",
       "      <td>2023</td>\n",
       "      <td>17ª VT de Fortaleza</td>\n",
       "      <td>104,99%</td>\n",
       "    </tr>\n",
       "    <tr>\n",
       "      <th>14</th>\n",
       "      <td>18</td>\n",
       "      <td>2023</td>\n",
       "      <td>18ª VT de Fortaleza</td>\n",
       "      <td>106,81%</td>\n",
       "    </tr>\n",
       "    <tr>\n",
       "      <th>15</th>\n",
       "      <td>1</td>\n",
       "      <td>2023</td>\n",
       "      <td>1ª VT de Fortaleza</td>\n",
       "      <td>107,74%</td>\n",
       "    </tr>\n",
       "    <tr>\n",
       "      <th>16</th>\n",
       "      <td>2</td>\n",
       "      <td>2023</td>\n",
       "      <td>2ª VT de Fortaleza</td>\n",
       "      <td>107,36%</td>\n",
       "    </tr>\n",
       "    <tr>\n",
       "      <th>17</th>\n",
       "      <td>3</td>\n",
       "      <td>2023</td>\n",
       "      <td>3ª VT de Fortaleza</td>\n",
       "      <td>104,06%</td>\n",
       "    </tr>\n",
       "    <tr>\n",
       "      <th>18</th>\n",
       "      <td>4</td>\n",
       "      <td>2023</td>\n",
       "      <td>4ª VT de Fortaleza</td>\n",
       "      <td>104,14%</td>\n",
       "    </tr>\n",
       "    <tr>\n",
       "      <th>19</th>\n",
       "      <td>5</td>\n",
       "      <td>2023</td>\n",
       "      <td>5ª VT de Fortaleza</td>\n",
       "      <td>104,12%</td>\n",
       "    </tr>\n",
       "    <tr>\n",
       "      <th>20</th>\n",
       "      <td>6</td>\n",
       "      <td>2023</td>\n",
       "      <td>6ª VT de Fortaleza</td>\n",
       "      <td>103,22%</td>\n",
       "    </tr>\n",
       "    <tr>\n",
       "      <th>21</th>\n",
       "      <td>7</td>\n",
       "      <td>2023</td>\n",
       "      <td>7ª VT de Fortaleza</td>\n",
       "      <td>106,39%</td>\n",
       "    </tr>\n",
       "    <tr>\n",
       "      <th>22</th>\n",
       "      <td>8</td>\n",
       "      <td>2023</td>\n",
       "      <td>8ª VT de Fortaleza</td>\n",
       "      <td>106,97%</td>\n",
       "    </tr>\n",
       "    <tr>\n",
       "      <th>23</th>\n",
       "      <td>9</td>\n",
       "      <td>2023</td>\n",
       "      <td>9ª VT de Fortaleza</td>\n",
       "      <td>101,94%</td>\n",
       "    </tr>\n",
       "    <tr>\n",
       "      <th>24</th>\n",
       "      <td>24</td>\n",
       "      <td>2023</td>\n",
       "      <td>1ª VT de Iguatu</td>\n",
       "      <td>107,08%</td>\n",
       "    </tr>\n",
       "    <tr>\n",
       "      <th>25</th>\n",
       "      <td>26</td>\n",
       "      <td>2023</td>\n",
       "      <td>1ª VT de Limoeiro do Norte</td>\n",
       "      <td>107,53%</td>\n",
       "    </tr>\n",
       "    <tr>\n",
       "      <th>26</th>\n",
       "      <td>27</td>\n",
       "      <td>2023</td>\n",
       "      <td>1ª VT de Maracanau</td>\n",
       "      <td>107,69%</td>\n",
       "    </tr>\n",
       "    <tr>\n",
       "      <th>27</th>\n",
       "      <td>35</td>\n",
       "      <td>2023</td>\n",
       "      <td>2ª VT de Maracanau</td>\n",
       "      <td>107,53%</td>\n",
       "    </tr>\n",
       "    <tr>\n",
       "      <th>28</th>\n",
       "      <td>28</td>\n",
       "      <td>2023</td>\n",
       "      <td>1ª VT de Pacajus</td>\n",
       "      <td>106,64%</td>\n",
       "    </tr>\n",
       "    <tr>\n",
       "      <th>29</th>\n",
       "      <td>29</td>\n",
       "      <td>2023</td>\n",
       "      <td>1ª VT de Quixadá</td>\n",
       "      <td>102,75%</td>\n",
       "    </tr>\n",
       "    <tr>\n",
       "      <th>30</th>\n",
       "      <td>25</td>\n",
       "      <td>2023</td>\n",
       "      <td>1ª VT da Região do Cariri</td>\n",
       "      <td>107,34%</td>\n",
       "    </tr>\n",
       "    <tr>\n",
       "      <th>31</th>\n",
       "      <td>34</td>\n",
       "      <td>2023</td>\n",
       "      <td>2ª VT da Região do Cariri</td>\n",
       "      <td>106,90%</td>\n",
       "    </tr>\n",
       "    <tr>\n",
       "      <th>32</th>\n",
       "      <td>37</td>\n",
       "      <td>2023</td>\n",
       "      <td>3ª VT da Região do Cariri</td>\n",
       "      <td>107,27%</td>\n",
       "    </tr>\n",
       "    <tr>\n",
       "      <th>33</th>\n",
       "      <td>30</td>\n",
       "      <td>2023</td>\n",
       "      <td>1ª VT de São Gonçalo do Amarante</td>\n",
       "      <td>106,36%</td>\n",
       "    </tr>\n",
       "    <tr>\n",
       "      <th>34</th>\n",
       "      <td>31</td>\n",
       "      <td>2023</td>\n",
       "      <td>1ª VT de Sobral</td>\n",
       "      <td>108,04%</td>\n",
       "    </tr>\n",
       "    <tr>\n",
       "      <th>35</th>\n",
       "      <td>36</td>\n",
       "      <td>2023</td>\n",
       "      <td>2ª VT de Sobral</td>\n",
       "      <td>108,46%</td>\n",
       "    </tr>\n",
       "    <tr>\n",
       "      <th>36</th>\n",
       "      <td>32</td>\n",
       "      <td>2023</td>\n",
       "      <td>1ª VT de Tianguá</td>\n",
       "      <td>107,24%</td>\n",
       "    </tr>\n",
       "    <tr>\n",
       "      <th>37</th>\n",
       "      <td>38</td>\n",
       "      <td>2023</td>\n",
       "      <td>Total do 1º Grau</td>\n",
       "      <td>106,11%</td>\n",
       "    </tr>\n",
       "    <tr>\n",
       "      <th>38</th>\n",
       "      <td>39</td>\n",
       "      <td>2023</td>\n",
       "      <td>Total da 7ª Região</td>\n",
       "      <td>105,99%</td>\n",
       "    </tr>\n",
       "  </tbody>\n",
       "</table>\n",
       "</div>"
      ],
      "text/plain": [
       "    Índices   Ano                Unidade Judiciária Resultado\n",
       "0        19  2023                  1ª VT de Aracati   107,53%\n",
       "1        20  2023                 1ª VT de Baturité   110,15%\n",
       "2        21  2023                  1ª VT de Caucaia   106,96%\n",
       "3        33  2023                  2ª VT de Caucaia   107,13%\n",
       "4        22  2023                  1ª VT de Crateus   107,83%\n",
       "5        23  2023                  1ª VT de Eusébio   107,75%\n",
       "6        10  2023               10ª VT de Fortaleza   104,83%\n",
       "7        11  2023               11ª VT de Fortaleza   105,88%\n",
       "8        12  2023               12ª VT de Fortaleza   107,03%\n",
       "9        13  2023               13ª VT de Fortaleza   105,92%\n",
       "10       14  2023               14ª VT de Fortaleza   107,53%\n",
       "11       15  2023               15ª VT de Fortaleza   107,31%\n",
       "12       16  2023               16ª VT de Fortaleza   107,29%\n",
       "13       17  2023               17ª VT de Fortaleza   104,99%\n",
       "14       18  2023               18ª VT de Fortaleza   106,81%\n",
       "15        1  2023                1ª VT de Fortaleza   107,74%\n",
       "16        2  2023                2ª VT de Fortaleza   107,36%\n",
       "17        3  2023                3ª VT de Fortaleza   104,06%\n",
       "18        4  2023                4ª VT de Fortaleza   104,14%\n",
       "19        5  2023                5ª VT de Fortaleza   104,12%\n",
       "20        6  2023                6ª VT de Fortaleza   103,22%\n",
       "21        7  2023                7ª VT de Fortaleza   106,39%\n",
       "22        8  2023                8ª VT de Fortaleza   106,97%\n",
       "23        9  2023                9ª VT de Fortaleza   101,94%\n",
       "24       24  2023                   1ª VT de Iguatu   107,08%\n",
       "25       26  2023        1ª VT de Limoeiro do Norte   107,53%\n",
       "26       27  2023                1ª VT de Maracanau   107,69%\n",
       "27       35  2023                2ª VT de Maracanau   107,53%\n",
       "28       28  2023                  1ª VT de Pacajus   106,64%\n",
       "29       29  2023                  1ª VT de Quixadá   102,75%\n",
       "30       25  2023         1ª VT da Região do Cariri   107,34%\n",
       "31       34  2023         2ª VT da Região do Cariri   106,90%\n",
       "32       37  2023         3ª VT da Região do Cariri   107,27%\n",
       "33       30  2023  1ª VT de São Gonçalo do Amarante   106,36%\n",
       "34       31  2023                   1ª VT de Sobral   108,04%\n",
       "35       36  2023                   2ª VT de Sobral   108,46%\n",
       "36       32  2023                  1ª VT de Tianguá   107,24%\n",
       "37       38  2023                  Total do 1º Grau   106,11%\n",
       "38       39  2023                Total da 7ª Região   105,99%"
      ]
     },
     "execution_count": 22,
     "metadata": {},
     "output_type": "execute_result"
    }
   ],
   "source": [
    "meta2_23"
   ]
  },
  {
   "cell_type": "markdown",
   "id": "088ec33f-7651-40dd-b6cf-eb4e880c32ba",
   "metadata": {},
   "source": [
    "# Meta 2 - 2024"
   ]
  },
  {
   "cell_type": "code",
   "execution_count": 23,
   "id": "1cd6cd68-f976-4f2f-9a29-781912f5f488",
   "metadata": {},
   "outputs": [],
   "source": [
    "# Meta 2 - 2024\n",
    "# Iniciando navegador\n",
    "driver = webdriver.Chrome()\n",
    "sleep(2)"
   ]
  },
  {
   "cell_type": "code",
   "execution_count": 24,
   "id": "6ec91617-448b-4342-bc83-bccee1432015",
   "metadata": {},
   "outputs": [],
   "source": [
    "# Entrando no site\n",
    "driver.get(ano[2024])\n",
    "sleep(5)"
   ]
  },
  {
   "cell_type": "code",
   "execution_count": 25,
   "id": "2ad7d863-61ad-45e1-af83-93bdbf7a177d",
   "metadata": {},
   "outputs": [],
   "source": [
    "# Fechando pop-up\n",
    "driver.find_element(By.CLASS_NAME, 'tileSVG').click()\n",
    "sleep(1)"
   ]
  },
  {
   "cell_type": "code",
   "execution_count": 26,
   "id": "40c1a7f7-f382-45da-92e0-71c2da449765",
   "metadata": {},
   "outputs": [],
   "source": [
    "# Clicando na meta \n",
    "driver.find_elements(By.CLASS_NAME, 'tileSVG')[2].click()\n",
    "sleep(3)"
   ]
  },
  {
   "cell_type": "code",
   "execution_count": 27,
   "id": "e4d3fa7b-4294-4e58-af60-16a2954d7ea7",
   "metadata": {},
   "outputs": [],
   "source": [
    "# Selecionando o UF\n",
    "driver.find_elements(By.CSS_SELECTOR, '.slicer-dropdown-menu')[2].click()\n",
    "sleep(2)"
   ]
  },
  {
   "cell_type": "code",
   "execution_count": 28,
   "id": "e35a6b59-da4a-4be9-83e3-980cbd98baf0",
   "metadata": {},
   "outputs": [],
   "source": [
    "# Selecionando 07ª - CE\n",
    "driver.find_elements(By.CSS_SELECTOR, '.slicerText')[7].click()\n",
    "sleep(5)"
   ]
  },
  {
   "cell_type": "code",
   "execution_count": 29,
   "id": "7d3c4c56-4674-4e11-902e-e4af07a6544e",
   "metadata": {},
   "outputs": [],
   "source": [
    "# Selecionando a 1º Instância\n",
    "driver.find_elements(By.CSS_SELECTOR, '.slicer-dropdown-menu')[0].click()\n",
    "sleep(2)\n",
    "\n",
    "driver.find_elements(By.CSS_SELECTOR, '.slicerText')[1].click()\n",
    "sleep(5)"
   ]
  },
  {
   "cell_type": "code",
   "execution_count": 30,
   "id": "2c132dd8-cd1d-45b0-b40f-2161b98096c6",
   "metadata": {},
   "outputs": [],
   "source": [
    "# Expandindo as varas do estado\n",
    "driver.find_elements(By.CSS_SELECTOR, '.visual .pivotTableContainer .pivotTable .expandCollapseButton i.glyphicon, .visual .tableExContainer .tableEx .expandCollapseButton i.glyphicon')[0].click()\n",
    "sleep(3)"
   ]
  },
  {
   "cell_type": "code",
   "execution_count": 31,
   "id": "b770439d-db33-47ec-b775-1a20c14be91f",
   "metadata": {},
   "outputs": [],
   "source": [
    "# Selecionando a tabela\n",
    "tabela = driver.find_elements(By.CLASS_NAME, 'expandableCell')[0]\n",
    "tabela.click()"
   ]
  },
  {
   "cell_type": "code",
   "execution_count": 32,
   "id": "030d7d6f-8782-4b3a-8dcb-82cc854ebd0d",
   "metadata": {},
   "outputs": [],
   "source": [
    "# Botão direito do mouse e copiar seleção\n",
    "action = ActionChains(driver)\n",
    "action.key_down(Keys.SHIFT).send_keys(Keys.F10).key_up(Keys.SHIFT).perform()\n",
    "sleep(1)\n",
    "action.key_down(Keys.RIGHT).key_up(Keys.RIGHT).perform()\n",
    "sleep(1)\n",
    "action.key_down(Keys.DOWN).key_up(Keys.DOWN).perform()\n",
    "sleep(1)\n",
    "action.key_down(Keys.ENTER).key_up(Keys.ENTER).perform()\n",
    "sleep(1)"
   ]
  },
  {
   "cell_type": "code",
   "execution_count": 33,
   "id": "20f5c079-1933-4958-a032-d56443dfb514",
   "metadata": {},
   "outputs": [],
   "source": [
    "# Transformando o texto em DataFrame\n",
    "tab = pyperclip.paste()\n",
    "tab = tab.replace(\".\", \"\")\n",
    "meta2_24 = pd.read_csv(StringIO(tab), sep=\"\\t\")"
   ]
  },
  {
   "cell_type": "code",
   "execution_count": 34,
   "id": "08d690ca-e66a-4080-9904-0e8f86cf50e2",
   "metadata": {},
   "outputs": [],
   "source": [
    "# Removendo linhas do 2º grau\n",
    "meta2_24 = meta2_24[meta2_24[\"ORGAO_JULGADOR\"].isin(list(conversorNomeVara.keys()))]"
   ]
  },
  {
   "cell_type": "code",
   "execution_count": 35,
   "id": "dc773d62-f9a8-4b70-b8f7-a68ecc0bf41e",
   "metadata": {},
   "outputs": [],
   "source": [
    "# Removendo colunas desnecessárias\n",
    "meta2_24 = meta2_24.iloc[:, [1, 3]]\n",
    "meta2_24['ORGAO_JULGADOR'] = meta2_24['ORGAO_JULGADOR'].apply(lambda orgao: conversorNomeVara[orgao])"
   ]
  },
  {
   "cell_type": "code",
   "execution_count": 36,
   "id": "35fd03ed-bd6a-4c33-afee-8c63e497f5d2",
   "metadata": {},
   "outputs": [],
   "source": [
    "# Inserindo o Ano\n",
    "meta2_24.insert(0, 'Ano', 2024)"
   ]
  },
  {
   "cell_type": "code",
   "execution_count": 37,
   "id": "7f9a64be-2236-4e70-bee1-400280619383",
   "metadata": {},
   "outputs": [],
   "source": [
    "# Inserindo coluna de índices\n",
    "meta2_24.insert(0, 'Índices', meta2_24['ORGAO_JULGADOR'].map(id_vara))"
   ]
  },
  {
   "cell_type": "code",
   "execution_count": 38,
   "id": "00f980f6-d29d-4281-9b5b-0187eed9a2d4",
   "metadata": {},
   "outputs": [],
   "source": [
    "# Adicionando linha Total do 1º grau\n",
    "total1Grau = driver.find_elements(By.CLASS_NAME, 'row')[7].text.split('\\n')\n",
    "total1Grau.insert(0, id_vara['Total do 1º Grau'])\n",
    "total1Grau.insert(1, 2024)\n",
    "total1Grau.remove('07ª - CE')\n",
    "total1Grau.insert(2, 'Total do 1º Grau')\n",
    "total1Grau = total1Grau[0:6]\n",
    "total1Grau.pop(3)\n",
    "total1Grau.pop(4)\n",
    "meta2_24.loc[len(meta2_24)] = total1Grau"
   ]
  },
  {
   "cell_type": "code",
   "execution_count": 39,
   "id": "ed199e32-0c38-4b81-b110-ed7212dea3b7",
   "metadata": {},
   "outputs": [
    {
     "data": {
      "text/plain": [
       "0      1\n",
       "1      2\n",
       "2      4\n",
       "3      5\n",
       "4      8\n",
       "5     12\n",
       "6     14\n",
       "7     15\n",
       "8     16\n",
       "9     17\n",
       "10    18\n",
       "11    19\n",
       "12    20\n",
       "13    21\n",
       "14    22\n",
       "15    23\n",
       "16    24\n",
       "17    25\n",
       "18    26\n",
       "19    27\n",
       "20    28\n",
       "21    29\n",
       "22    30\n",
       "23    31\n",
       "24    35\n",
       "25    39\n",
       "26    40\n",
       "27    41\n",
       "28    44\n",
       "29    47\n",
       "30    48\n",
       "31    49\n",
       "32    50\n",
       "33    53\n",
       "34    54\n",
       "35    55\n",
       "36    56\n",
       "37    37\n",
       "Name: index, dtype: int64"
      ]
     },
     "execution_count": 39,
     "metadata": {},
     "output_type": "execute_result"
    }
   ],
   "source": [
    "# Os índices foram resetados para que total7Regiao ficasse na última linha, esse comando cria uma coluna index com os indices antigos, ele é deletada.\n",
    "meta2_24 = meta2_24.reset_index()\n",
    "meta2_24.pop('index')"
   ]
  },
  {
   "cell_type": "code",
   "execution_count": null,
   "id": "a5f38294-1116-4a8e-9cee-33bad7b0d697",
   "metadata": {},
   "outputs": [],
   "source": [
    "# Adicionando linha Total do TRT7\n",
    "# Selecionando todas as instâncias\n",
    "driver.find_elements(By.CSS_SELECTOR, '.slicer-dropdown-menu')[0].click()\n",
    "sleep(2)\n",
    "driver.find_elements(By.CSS_SELECTOR, '.slicerText')[1].click()\n",
    "sleep(5)"
   ]
  },
  {
   "cell_type": "code",
   "execution_count": null,
   "id": "be732449-6119-42ed-963c-6c87205661c9",
   "metadata": {},
   "outputs": [],
   "source": [
    "total7regiao = driver.find_elements(By.CLASS_NAME, 'row')[7].text.split('\\n')\n",
    "total7regiao.insert(0, id_vara['Total da 7ª Região'])\n",
    "total7regiao.insert(1, 2024)\n",
    "total7regiao.remove('07ª - CE')\n",
    "total7regiao.insert(2, 'Total da 7ª Região')\n",
    "total7regiao = total7regiao[0:6]\n",
    "total7regiao.pop(3)\n",
    "total7regiao.pop(4)\n",
    "meta2_24.loc[len(meta2_24)] = total7regiao\n",
    "meta2_24.columns = ['Índices', 'Ano', 'Unidade Judiciária',  'Resultado']"
   ]
  },
  {
   "cell_type": "code",
   "execution_count": null,
   "id": "d82744af-63b2-478a-83e6-f9afe62a337f",
   "metadata": {},
   "outputs": [],
   "source": [
    "driver.close()"
   ]
  },
  {
   "cell_type": "code",
   "execution_count": null,
   "id": "e11734b9-cce0-441d-9702-a09f8f943af3",
   "metadata": {},
   "outputs": [],
   "source": [
    "meta2_24"
   ]
  },
  {
   "cell_type": "markdown",
   "id": "7c246ae3-fb16-4b3a-bbeb-89e27bb6aa80",
   "metadata": {},
   "source": [
    "# União das tabelas"
   ]
  },
  {
   "cell_type": "code",
   "execution_count": null,
   "id": "77665fe5-e17a-4d9c-a071-157b6cc82744",
   "metadata": {},
   "outputs": [],
   "source": [
    "meta2_parte1 = pd.concat([meta2_23, meta2_24], ignore_index=True)\n",
    "meta2_parte1.sort_values(by=['Ano', 'Índices'], ascending=[True, True], inplace=True)\n",
    "meta2_parte1 = meta2_parte1[['Índices', 'Unidade Judiciária', 'Ano', 'Resultado']]\n",
    "meta2_parte1.to_csv('Resultados/Correições 2024 - Meta 2 Parte 1.csv' ,sep=',', index=False)"
   ]
  }
 ],
 "metadata": {
  "kernelspec": {
   "display_name": "Python 3 (ipykernel)",
   "language": "python",
   "name": "python3"
  },
  "language_info": {
   "codemirror_mode": {
    "name": "ipython",
    "version": 3
   },
   "file_extension": ".py",
   "mimetype": "text/x-python",
   "name": "python",
   "nbconvert_exporter": "python",
   "pygments_lexer": "ipython3",
   "version": "3.12.7"
  }
 },
 "nbformat": 4,
 "nbformat_minor": 5
}
