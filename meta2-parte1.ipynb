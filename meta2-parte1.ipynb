{
 "cells": [
  {
   "cell_type": "code",
   "execution_count": null,
   "id": "0d766b2b-4604-4f3f-912c-1b431bdb22cd",
   "metadata": {},
   "outputs": [],
   "source": [
    "# Puxa as variáveis do arquivo Conversores para serem utilizadas neste arquivo\n",
    "%run Conversores.ipynb"
   ]
  },
  {
   "cell_type": "markdown",
   "id": "024b212d-aedb-407d-9d17-ac6267f51dfa",
   "metadata": {},
   "source": [
    "# Meta 2 - 2023"
   ]
  },
  {
   "cell_type": "code",
   "execution_count": null,
   "id": "93c8028d-896e-40ee-b8b3-d08045ccc2cf",
   "metadata": {},
   "outputs": [],
   "source": [
    "# Meta 2 - 2023\n",
    "# Iniciando navegador\n",
    "driver = webdriver.Chrome()\n",
    "sleep(2)"
   ]
  },
  {
   "cell_type": "code",
   "execution_count": null,
   "id": "252b684d-d457-4b0e-811e-18db37ca34f3",
   "metadata": {},
   "outputs": [],
   "source": [
    "# Entrando no site\n",
    "driver.get(ano[2023])\n",
    "sleep(5)"
   ]
  },
  {
   "cell_type": "code",
   "execution_count": null,
   "id": "7a5d8abb-43c0-4e95-9ab9-c09cd2127a07",
   "metadata": {},
   "outputs": [],
   "source": [
    "# Fechando pop-up\n",
    "driver.find_element(By.CLASS_NAME, 'tileSVG').click()\n",
    "sleep(1)"
   ]
  },
  {
   "cell_type": "code",
   "execution_count": null,
   "id": "d1c045f3-834f-483b-95c4-e7be28c2fb83",
   "metadata": {},
   "outputs": [],
   "source": [
    "# Clicando na meta \n",
    "driver.find_elements(By.CLASS_NAME, 'tileSVG')[4].click()\n",
    "sleep(3)"
   ]
  },
  {
   "cell_type": "code",
   "execution_count": null,
   "id": "73f18883-c375-4a30-8267-5456024a651d",
   "metadata": {},
   "outputs": [],
   "source": [
    "# Selecionando o UF\n",
    "driver.find_elements(By.CSS_SELECTOR, '.slicer-dropdown-menu')[2].click()\n",
    "sleep(2)"
   ]
  },
  {
   "cell_type": "code",
   "execution_count": null,
   "id": "1a440bf2-52e8-4ee5-a74b-42a0bb9d1654",
   "metadata": {},
   "outputs": [],
   "source": [
    "# Selecionando 07ª - CE\n",
    "driver.find_elements(By.CSS_SELECTOR, '.slicerText')[7].click()\n",
    "sleep(5)"
   ]
  },
  {
   "cell_type": "code",
   "execution_count": null,
   "id": "23d37bdc-4bf6-4c16-9149-28109855e3a8",
   "metadata": {},
   "outputs": [],
   "source": [
    "# Selecionando a 1º Instância\n",
    "driver.find_elements(By.CSS_SELECTOR, '.slicer-dropdown-menu')[0].click()\n",
    "sleep(2)\n",
    "\n",
    "driver.find_elements(By.CSS_SELECTOR, '.slicerText')[1].click()\n",
    "sleep(5)"
   ]
  },
  {
   "cell_type": "code",
   "execution_count": null,
   "id": "b4cf09fb-f9b3-4cd2-9c72-6a5723726a62",
   "metadata": {},
   "outputs": [],
   "source": [
    "# Expandindo as varas do estado\n",
    "driver.find_elements(By.CSS_SELECTOR, '.visual .pivotTableContainer .pivotTable .expandCollapseButton i.glyphicon, .visual .tableExContainer .tableEx .expandCollapseButton i.glyphicon')[0].click()\n",
    "sleep(3)"
   ]
  },
  {
   "cell_type": "code",
   "execution_count": null,
   "id": "3035d254-40aa-4e4d-90fb-01740992ba4c",
   "metadata": {},
   "outputs": [],
   "source": [
    "# Selecionando a tabela\n",
    "tabela = driver.find_elements(By.CLASS_NAME, 'expandableCell')[0]\n",
    "tabela.click()"
   ]
  },
  {
   "cell_type": "code",
   "execution_count": null,
   "id": "0b4d3b44-54fc-4fd3-adc7-0a1fe61319a8",
   "metadata": {},
   "outputs": [],
   "source": [
    "# Botão direito do mouse e copiar seleção\n",
    "action = ActionChains(driver)\n",
    "action.key_down(Keys.SHIFT).send_keys(Keys.F10).key_up(Keys.SHIFT).perform()\n",
    "sleep(1)\n",
    "action.key_down(Keys.RIGHT).key_up(Keys.RIGHT).perform()\n",
    "sleep(1)\n",
    "action.key_down(Keys.DOWN).key_up(Keys.DOWN).perform()\n",
    "sleep(1)\n",
    "action.key_down(Keys.ENTER).key_up(Keys.ENTER).perform()\n",
    "sleep(1)"
   ]
  },
  {
   "cell_type": "code",
   "execution_count": null,
   "id": "55b6b438-488c-41b8-bdb0-c105fbeb903a",
   "metadata": {},
   "outputs": [],
   "source": [
    "# Transformando o texto em DataFrame\n",
    "tab = pyperclip.paste()\n",
    "tab = tab.replace(\".\", \"\")\n",
    "meta2_23 = pd.read_csv(StringIO(tab), sep=\"\\t\")"
   ]
  },
  {
   "cell_type": "code",
   "execution_count": null,
   "id": "75a36c1b-1619-429a-ad03-b713fee00b7c",
   "metadata": {},
   "outputs": [],
   "source": [
    "# Removendo linhas do 2º grau\n",
    "meta2_23 = meta2_23[meta2_23[\"ORGAO_JULGADOR\"].isin(list(conversorNomeVara.keys()))]"
   ]
  },
  {
   "cell_type": "code",
   "execution_count": null,
   "id": "9d714f52-2113-45fb-8413-b2853909ff6c",
   "metadata": {},
   "outputs": [],
   "source": [
    "# Removendo colunas desnecessárias\n",
    "meta2_23 = meta2_23.iloc[:, [1, 5]]\n",
    "meta2_23['ORGAO_JULGADOR'] = meta2_23['ORGAO_JULGADOR'].apply(lambda orgao: conversorNomeVara[orgao])"
   ]
  },
  {
   "cell_type": "code",
   "execution_count": null,
   "id": "4ed5971e-b2ae-43e5-b944-370191a429b3",
   "metadata": {},
   "outputs": [],
   "source": [
    "# Inserindo o Ano\n",
    "meta2_23.insert(0, 'Ano', 2023)"
   ]
  },
  {
   "cell_type": "code",
   "execution_count": null,
   "id": "332c9e96-d524-43e5-aa64-a669404563e9",
   "metadata": {},
   "outputs": [],
   "source": [
    "# Inserindo coluna de índices\n",
    "meta2_23.insert(0, 'Índices', meta2_23['ORGAO_JULGADOR'].map(id_vara))"
   ]
  },
  {
   "cell_type": "code",
   "execution_count": null,
   "id": "dee84337-5975-4a45-a88c-7a2f73f102d6",
   "metadata": {},
   "outputs": [],
   "source": [
    "# Adicionando linha Total do 1º grau\n",
    "total1Grau = driver.find_elements(By.CLASS_NAME, 'row')[3].text.split('\\n')\n",
    "total1Grau.insert(0, id_vara['Total do 1º Grau'])\n",
    "total1Grau.insert(1, 2023)\n",
    "total1Grau.remove('07ª - CE')\n",
    "total1Grau.insert(2, 'Total do 1º Grau')\n",
    "total1Grau = total1Grau[0:7]\n",
    "total1Grau.pop(3)\n",
    "total1Grau.pop(3)\n",
    "total1Grau.pop(3)\n",
    "meta2_23.loc[len(meta2_23)] = total1Grau"
   ]
  },
  {
   "cell_type": "code",
   "execution_count": null,
   "id": "25bf491e-078c-46fb-a8f8-017cac08a3e2",
   "metadata": {},
   "outputs": [],
   "source": [
    "# Os índices foram resetados para que total7Regiao ficasse na última linha, esse comando cria uma coluna index com os indices antigos, ele é deletada.\n",
    "meta2_23 = meta2_23.reset_index()\n",
    "meta2_23.pop('index')"
   ]
  },
  {
   "cell_type": "code",
   "execution_count": null,
   "id": "417bf707-1448-442c-9622-e89420256413",
   "metadata": {},
   "outputs": [],
   "source": [
    "# Adicionando linha Total do TRT7\n",
    "# Selecionando todas as instâncias\n",
    "driver.find_elements(By.CSS_SELECTOR, '.slicer-dropdown-menu')[0].click()\n",
    "sleep(2)\n",
    "driver.find_elements(By.CSS_SELECTOR, '.slicerText')[1].click()\n",
    "sleep(5)"
   ]
  },
  {
   "cell_type": "code",
   "execution_count": null,
   "id": "4710f823-4d39-4217-886d-8f86f2742598",
   "metadata": {},
   "outputs": [],
   "source": [
    "total7regiao = driver.find_elements(By.CLASS_NAME, 'row')[3].text.split('\\n')\n",
    "total7regiao.insert(0, id_vara['Total da 7ª Região'])\n",
    "total7regiao.insert(1, 2023)\n",
    "total7regiao.remove('07ª - CE')\n",
    "total7regiao.insert(2, 'Total da 7ª Região')\n",
    "total7regiao = total7regiao[0:7]\n",
    "total7regiao.pop(3)\n",
    "total7regiao.pop(3)\n",
    "total7regiao.pop(3)\n",
    "meta2_23.loc[len(meta2_23)] = total7regiao\n",
    "meta2_23.columns = ['Índices', 'Ano', 'Unidade Judiciária',  'Resultado']"
   ]
  },
  {
   "cell_type": "code",
   "execution_count": null,
   "id": "eb718825-06fe-47cb-a5ea-8ae1fa42e7bd",
   "metadata": {},
   "outputs": [],
   "source": [
    "driver.close()"
   ]
  },
  {
   "cell_type": "code",
   "execution_count": null,
   "id": "df0f5e71-da21-44a7-a0e7-df3a7a06a475",
   "metadata": {},
   "outputs": [],
   "source": [
    "meta2_23"
   ]
  },
  {
   "cell_type": "markdown",
   "id": "088ec33f-7651-40dd-b6cf-eb4e880c32ba",
   "metadata": {},
   "source": [
    "# Meta 2 - 2024"
   ]
  },
  {
   "cell_type": "code",
   "execution_count": null,
   "id": "1cd6cd68-f976-4f2f-9a29-781912f5f488",
   "metadata": {},
   "outputs": [],
   "source": [
    "# Meta 2 - 2024\n",
    "# Iniciando navegador\n",
    "driver = webdriver.Chrome()\n",
    "sleep(2)"
   ]
  },
  {
   "cell_type": "code",
   "execution_count": null,
   "id": "6ec91617-448b-4342-bc83-bccee1432015",
   "metadata": {},
   "outputs": [],
   "source": [
    "# Entrando no site\n",
    "driver.get(ano[2024])\n",
    "sleep(5)"
   ]
  },
  {
   "cell_type": "code",
   "execution_count": null,
   "id": "2ad7d863-61ad-45e1-af83-93bdbf7a177d",
   "metadata": {},
   "outputs": [],
   "source": [
    "# Fechando pop-up\n",
    "driver.find_element(By.CLASS_NAME, 'tileSVG').click()\n",
    "sleep(1)"
   ]
  },
  {
   "cell_type": "code",
   "execution_count": null,
   "id": "40c1a7f7-f382-45da-92e0-71c2da449765",
   "metadata": {},
   "outputs": [],
   "source": [
    "# Clicando na meta \n",
    "driver.find_elements(By.CLASS_NAME, 'tileSVG')[2].click()\n",
    "sleep(3)"
   ]
  },
  {
   "cell_type": "code",
   "execution_count": null,
   "id": "e4d3fa7b-4294-4e58-af60-16a2954d7ea7",
   "metadata": {},
   "outputs": [],
   "source": [
    "# Selecionando o UF\n",
    "driver.find_elements(By.CSS_SELECTOR, '.slicer-dropdown-menu')[2].click()\n",
    "sleep(2)"
   ]
  },
  {
   "cell_type": "code",
   "execution_count": null,
   "id": "e35a6b59-da4a-4be9-83e3-980cbd98baf0",
   "metadata": {},
   "outputs": [],
   "source": [
    "# Selecionando 07ª - CE\n",
    "driver.find_elements(By.CSS_SELECTOR, '.slicerText')[7].click()\n",
    "sleep(5)"
   ]
  },
  {
   "cell_type": "code",
   "execution_count": null,
   "id": "7d3c4c56-4674-4e11-902e-e4af07a6544e",
   "metadata": {},
   "outputs": [],
   "source": [
    "# Selecionando a 1º Instância\n",
    "driver.find_elements(By.CSS_SELECTOR, '.slicer-dropdown-menu')[0].click()\n",
    "sleep(2)\n",
    "\n",
    "driver.find_elements(By.CSS_SELECTOR, '.slicerText')[1].click()\n",
    "sleep(5)"
   ]
  },
  {
   "cell_type": "code",
   "execution_count": null,
   "id": "2c132dd8-cd1d-45b0-b40f-2161b98096c6",
   "metadata": {},
   "outputs": [],
   "source": [
    "# Expandindo as varas do estado\n",
    "driver.find_elements(By.CSS_SELECTOR, '.visual .pivotTableContainer .pivotTable .expandCollapseButton i.glyphicon, .visual .tableExContainer .tableEx .expandCollapseButton i.glyphicon')[0].click()\n",
    "sleep(3)"
   ]
  },
  {
   "cell_type": "code",
   "execution_count": null,
   "id": "b770439d-db33-47ec-b775-1a20c14be91f",
   "metadata": {},
   "outputs": [],
   "source": [
    "# Selecionando a tabela\n",
    "tabela = driver.find_elements(By.CLASS_NAME, 'expandableCell')[0]\n",
    "tabela.click()"
   ]
  },
  {
   "cell_type": "code",
   "execution_count": null,
   "id": "030d7d6f-8782-4b3a-8dcb-82cc854ebd0d",
   "metadata": {},
   "outputs": [],
   "source": [
    "# Botão direito do mouse e copiar seleção\n",
    "action = ActionChains(driver)\n",
    "action.key_down(Keys.SHIFT).send_keys(Keys.F10).key_up(Keys.SHIFT).perform()\n",
    "sleep(1)\n",
    "action.key_down(Keys.RIGHT).key_up(Keys.RIGHT).perform()\n",
    "sleep(1)\n",
    "action.key_down(Keys.DOWN).key_up(Keys.DOWN).perform()\n",
    "sleep(1)\n",
    "action.key_down(Keys.ENTER).key_up(Keys.ENTER).perform()\n",
    "sleep(1)"
   ]
  },
  {
   "cell_type": "code",
   "execution_count": null,
   "id": "20f5c079-1933-4958-a032-d56443dfb514",
   "metadata": {},
   "outputs": [],
   "source": [
    "# Transformando o texto em DataFrame\n",
    "tab = pyperclip.paste()\n",
    "tab = tab.replace(\".\", \"\")\n",
    "meta2_24 = pd.read_csv(StringIO(tab), sep=\"\\t\")"
   ]
  },
  {
   "cell_type": "code",
   "execution_count": null,
   "id": "08d690ca-e66a-4080-9904-0e8f86cf50e2",
   "metadata": {},
   "outputs": [],
   "source": [
    "# Removendo linhas do 2º grau\n",
    "meta2_24 = meta2_24[meta2_24[\"ORGAO_JULGADOR\"].isin(list(conversorNomeVara.keys()))]"
   ]
  },
  {
   "cell_type": "code",
   "execution_count": null,
   "id": "dc773d62-f9a8-4b70-b8f7-a68ecc0bf41e",
   "metadata": {},
   "outputs": [],
   "source": [
    "# Removendo colunas desnecessárias\n",
    "meta2_24 = meta2_24.iloc[:, [1, 3]]\n",
    "meta2_24['ORGAO_JULGADOR'] = meta2_24['ORGAO_JULGADOR'].apply(lambda orgao: conversorNomeVara[orgao])"
   ]
  },
  {
   "cell_type": "code",
   "execution_count": null,
   "id": "35fd03ed-bd6a-4c33-afee-8c63e497f5d2",
   "metadata": {},
   "outputs": [],
   "source": [
    "# Inserindo o Ano\n",
    "meta2_24.insert(0, 'Ano', 2024)"
   ]
  },
  {
   "cell_type": "code",
   "execution_count": null,
   "id": "7f9a64be-2236-4e70-bee1-400280619383",
   "metadata": {},
   "outputs": [],
   "source": [
    "# Inserindo coluna de índices\n",
    "meta2_24.insert(0, 'Índices', meta2_24['ORGAO_JULGADOR'].map(id_vara))"
   ]
  },
  {
   "cell_type": "code",
   "execution_count": null,
   "id": "00f980f6-d29d-4281-9b5b-0187eed9a2d4",
   "metadata": {},
   "outputs": [],
   "source": [
    "# Adicionando linha Total do 1º grau\n",
    "total1Grau = driver.find_elements(By.CLASS_NAME, 'row')[7].text.split('\\n')\n",
    "total1Grau.insert(0, id_vara['Total do 1º Grau'])\n",
    "total1Grau.insert(1, 2024)\n",
    "total1Grau.remove('07ª - CE')\n",
    "total1Grau.insert(2, 'Total do 1º Grau')\n",
    "total1Grau = total1Grau[0:6]\n",
    "total1Grau.pop(3)\n",
    "total1Grau.pop(4)\n",
    "meta2_24.loc[len(meta2_24)] = total1Grau"
   ]
  },
  {
   "cell_type": "code",
   "execution_count": null,
   "id": "ed199e32-0c38-4b81-b110-ed7212dea3b7",
   "metadata": {},
   "outputs": [],
   "source": [
    "# Os índices foram resetados para que total7Regiao ficasse na última linha, esse comando cria uma coluna index com os indices antigos, ele é deletada.\n",
    "meta2_24 = meta2_24.reset_index()\n",
    "meta2_24.pop('index')"
   ]
  },
  {
   "cell_type": "code",
   "execution_count": null,
   "id": "a5f38294-1116-4a8e-9cee-33bad7b0d697",
   "metadata": {},
   "outputs": [],
   "source": [
    "# Adicionando linha Total do TRT7\n",
    "# Selecionando todas as instâncias\n",
    "driver.find_elements(By.CSS_SELECTOR, '.slicer-dropdown-menu')[0].click()\n",
    "sleep(2)\n",
    "driver.find_elements(By.CSS_SELECTOR, '.slicerText')[1].click()\n",
    "sleep(5)"
   ]
  },
  {
   "cell_type": "code",
   "execution_count": null,
   "id": "be732449-6119-42ed-963c-6c87205661c9",
   "metadata": {},
   "outputs": [],
   "source": [
    "total7regiao = driver.find_elements(By.CLASS_NAME, 'row')[7].text.split('\\n')\n",
    "total7regiao.insert(0, id_vara['Total da 7ª Região'])\n",
    "total7regiao.insert(1, 2024)\n",
    "total7regiao.remove('07ª - CE')\n",
    "total7regiao.insert(2, 'Total da 7ª Região')\n",
    "total7regiao = total7regiao[0:6]\n",
    "total7regiao.pop(3)\n",
    "total7regiao.pop(4)\n",
    "meta2_24.loc[len(meta2_24)] = total7regiao\n",
    "meta2_24.columns = ['Índices', 'Ano', 'Unidade Judiciária',  'Resultado']"
   ]
  },
  {
   "cell_type": "code",
   "execution_count": null,
   "id": "d82744af-63b2-478a-83e6-f9afe62a337f",
   "metadata": {},
   "outputs": [],
   "source": [
    "driver.close()"
   ]
  },
  {
   "cell_type": "code",
   "execution_count": null,
   "id": "e11734b9-cce0-441d-9702-a09f8f943af3",
   "metadata": {},
   "outputs": [],
   "source": [
    "meta2_24"
   ]
  },
  {
   "cell_type": "markdown",
   "id": "7c246ae3-fb16-4b3a-bbeb-89e27bb6aa80",
   "metadata": {},
   "source": [
    "# União das tabelas"
   ]
  },
  {
   "cell_type": "code",
   "execution_count": null,
   "id": "77665fe5-e17a-4d9c-a071-157b6cc82744",
   "metadata": {},
   "outputs": [],
   "source": [
    "meta2_parte1 = pd.concat([meta2_23, meta2_24], ignore_index=True)\n",
    "meta2_parte1.sort_values(by=['Ano', 'Índices'], ascending=[True, True], inplace=True)\n",
    "meta2_parte1 = meta2_parte1[['Índices', 'Unidade Judiciária', 'Ano', 'Resultado']]\n",
    "meta2_parte1.to_csv('Resultados/Correições 2024 - Meta 2 Parte 1.csv' ,sep=',', index=False)"
   ]
  }
 ],
 "metadata": {
  "kernelspec": {
   "display_name": "Python 3 (ipykernel)",
   "language": "python",
   "name": "python3"
  },
  "language_info": {
   "codemirror_mode": {
    "name": "ipython",
    "version": 3
   },
   "file_extension": ".py",
   "mimetype": "text/x-python",
   "name": "python",
   "nbconvert_exporter": "python",
   "pygments_lexer": "ipython3",
   "version": "3.12.7"
  }
 },
 "nbformat": 4,
 "nbformat_minor": 5
}
