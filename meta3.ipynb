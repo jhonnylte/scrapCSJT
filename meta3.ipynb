{
 "cells": [
  {
   "cell_type": "code",
   "execution_count": null,
   "id": "15e5a613-3e3f-4bcf-af98-c61ed7db4570",
   "metadata": {},
   "outputs": [],
   "source": [
    "# Puxa as variáveis do arquivo Conversores para serem utilizadas neste arquivo\n",
    "%run Conversores.ipynb"
   ]
  },
  {
   "cell_type": "code",
   "execution_count": null,
   "id": "5e83e3bb-db1d-4159-bf56-de54a8907ffd",
   "metadata": {},
   "outputs": [],
   "source": [
    "# Meta 3 - 2023\n",
    "# Iniciando navegador\n",
    "driver = webdriver.Chrome()\n",
    "sleep(2)"
   ]
  },
  {
   "cell_type": "code",
   "execution_count": null,
   "id": "7f7c1b4d-dae3-4293-8bb5-f70fb463327a",
   "metadata": {},
   "outputs": [],
   "source": [
    "# Entrando no site\n",
    "driver.get(ano[2023])\n",
    "sleep(8)"
   ]
  },
  {
   "cell_type": "code",
   "execution_count": null,
   "id": "18074f6d-598e-4fab-8ba2-01f3edaac750",
   "metadata": {},
   "outputs": [],
   "source": [
    "# Fechando pop-up\n",
    "driver.find_element(By.CLASS_NAME, 'tileSVG').click()\n",
    "sleep(1)"
   ]
  },
  {
   "cell_type": "code",
   "execution_count": null,
   "id": "1ed88f45-1c9c-4154-a2d8-31c4fde0ddb2",
   "metadata": {},
   "outputs": [],
   "source": [
    "# Clicando na meta \n",
    "driver.find_elements(By.CLASS_NAME, 'tileSVG')[5].click()\n",
    "sleep(3)"
   ]
  },
  {
   "cell_type": "code",
   "execution_count": null,
   "id": "178a9b8b-7494-46a2-8ea8-2248e81d8520",
   "metadata": {},
   "outputs": [],
   "source": [
    "# Selecionando o UF\n",
    "driver.find_elements(By.CSS_SELECTOR, '.slicer-dropdown-menu')[0].click()\n",
    "sleep(2)"
   ]
  },
  {
   "cell_type": "code",
   "execution_count": null,
   "id": "2f38131e-4ace-44b0-8538-461a5531f0d7",
   "metadata": {},
   "outputs": [],
   "source": [
    "# Selecionando 07ª - CE\n",
    "driver.find_elements(By.CSS_SELECTOR, '.slicerText')[7].click()\n",
    "sleep(5)"
   ]
  },
  {
   "cell_type": "code",
   "execution_count": null,
   "id": "8cc837aa-2e8a-47a8-a02c-2fac41dc3e7f",
   "metadata": {},
   "outputs": [],
   "source": [
    "# Expandindo as varas do estado\n",
    "driver.find_elements(By.CSS_SELECTOR, '.visual .pivotTableContainer .pivotTable .expandCollapseButton i.glyphicon, .visual .tableExContainer .tableEx .expandCollapseButton i.glyphicon')[0].click()\n",
    "sleep(3)"
   ]
  },
  {
   "cell_type": "code",
   "execution_count": null,
   "id": "6c0bf3ff-bb50-4c8a-9c43-f5b6191ef6de",
   "metadata": {},
   "outputs": [],
   "source": [
    "# Selecionando a tabela\n",
    "tabela = driver.find_elements(By.CLASS_NAME, 'expandableCell')[0]\n",
    "tabela.click()"
   ]
  },
  {
   "cell_type": "code",
   "execution_count": null,
   "id": "dec93d33-7da3-4e5c-9872-4f65724a230b",
   "metadata": {},
   "outputs": [],
   "source": [
    "# Botão direito do mouse e copiar seleção\n",
    "action = ActionChains(driver)\n",
    "action.key_down(Keys.SHIFT).send_keys(Keys.F10).key_up(Keys.SHIFT).perform()\n",
    "sleep(1)\n",
    "action.key_down(Keys.RIGHT).key_up(Keys.RIGHT).perform()\n",
    "sleep(1)\n",
    "action.key_down(Keys.DOWN).key_up(Keys.DOWN).perform()\n",
    "sleep(1)\n",
    "action.key_down(Keys.ENTER).key_up(Keys.ENTER).perform()\n",
    "sleep(1)"
   ]
  },
  {
   "cell_type": "code",
   "execution_count": null,
   "id": "b70b1dc1-cf96-484a-a661-8374faeaa98e",
   "metadata": {},
   "outputs": [],
   "source": [
    "# Transformando o texto em DataFrame\n",
    "tab = pyperclip.paste()\n",
    "tab = tab.replace(\".\", \"\")\n",
    "meta3_23 = pd.read_csv(StringIO(tab), sep=\"\\t\")"
   ]
  },
  {
   "cell_type": "code",
   "execution_count": null,
   "id": "ec6f7e16-4d6c-4abc-a201-d3b095175da8",
   "metadata": {},
   "outputs": [],
   "source": [
    "# Removendo colunas desnecessárias\n",
    "meta3_23 = meta3_23.iloc[:, [1, 2, 3, 4, 5, 6]]\n",
    "meta3_23['ORGAO_JULGADOR'] = meta3_23['ORGAO_JULGADOR'].apply(lambda orgao: conversorNomeVara[orgao])\n",
    "meta3_23 = meta3_23.iloc[:, [0, 2, 1, 3, 5, 4]]"
   ]
  },
  {
   "cell_type": "code",
   "execution_count": null,
   "id": "c9615e63-91c1-45d0-b2ce-0733f3e91cbf",
   "metadata": {},
   "outputs": [],
   "source": [
    "meta3_23.columns = ['Unidade Judiciária', 'Conciliados', 'Solucionados', 'Índice de conciliação iConc', 'Resultado iConc em relação à meta', 'Média do biênio']"
   ]
  },
  {
   "cell_type": "code",
   "execution_count": null,
   "id": "65e8e1bb-5d41-46ec-9108-720d02b661cf",
   "metadata": {},
   "outputs": [],
   "source": [
    "# Inserindo o Ano\n",
    "meta3_23.insert(1, 'Ano', 2023)"
   ]
  },
  {
   "cell_type": "code",
   "execution_count": null,
   "id": "bfdceccf-5c44-4f47-a56c-52b94fd1640c",
   "metadata": {},
   "outputs": [],
   "source": [
    "# Inserindo coluna de índices\n",
    "meta3_23.insert(0, 'Índices', meta3_23['Unidade Judiciária'].map(id_vara))"
   ]
  },
  {
   "cell_type": "code",
   "execution_count": null,
   "id": "e51e7fb2-5a1b-4aa9-be51-c6c6089dfe5c",
   "metadata": {},
   "outputs": [],
   "source": [
    "# Adicionando linha do 1º grau\n",
    "total1Grau = driver.find_elements(By.CLASS_NAME, 'row')[3].text.split('\\n')\n",
    "total1Grau[1], total1Grau[2] = total1Grau[2], total1Grau[1]\n",
    "total1Grau[4], total1Grau[5] = total1Grau[5], total1Grau[4]\n",
    "total1Grau.remove('07ª - CE')\n",
    "total1Grau.insert(0, 'Total do 1º Grau')\n",
    "total1Grau.insert(0, id_vara['Total do 1º Grau'])\n",
    "total1Grau.insert(2, 2023)\n",
    "meta3_23.loc[len(meta3_23)] = total1Grau\n",
    "meta3_23['Média do biênio comentário'] = meta3_23['Média do biênio'].apply(lambda x : x+' (Cláusula de barreira 40% - caso seja atingido esse percentual a meta será considerada cumprida)')"
   ]
  },
  {
   "cell_type": "code",
   "execution_count": null,
   "id": "ca588a2c-5a50-4d7e-9fb9-b7b7c1e54305",
   "metadata": {},
   "outputs": [],
   "source": [
    "driver.close()"
   ]
  },
  {
   "cell_type": "code",
   "execution_count": null,
   "id": "e6d9f467-3d4f-460c-8108-dd759fc0b4ac",
   "metadata": {},
   "outputs": [],
   "source": [
    "meta3_23"
   ]
  },
  {
   "cell_type": "code",
   "execution_count": null,
   "id": "850f8f37-edf2-492b-b2a8-823fe7760db5",
   "metadata": {},
   "outputs": [],
   "source": [
    "# Meta 3 - 2024\n",
    "# Iniciando navegador\n",
    "driver = webdriver.Chrome()\n",
    "sleep(2)"
   ]
  },
  {
   "cell_type": "code",
   "execution_count": null,
   "id": "f0528622-38ff-4cff-8028-bb8e08856e8e",
   "metadata": {},
   "outputs": [],
   "source": [
    "# Entrando no site\n",
    "driver.get(ano[2024])\n",
    "sleep(8)"
   ]
  },
  {
   "cell_type": "code",
   "execution_count": null,
   "id": "af54c91a-0683-45ba-b1c8-40de02800885",
   "metadata": {},
   "outputs": [],
   "source": [
    "# Fechando pop-up\n",
    "driver.find_element(By.CLASS_NAME, 'tileSVG').click()\n",
    "sleep(1)"
   ]
  },
  {
   "cell_type": "code",
   "execution_count": null,
   "id": "810b47cf-a8d4-4ac8-a0b3-9d0717011b4a",
   "metadata": {},
   "outputs": [],
   "source": [
    "# Clicando na meta \n",
    "driver.find_elements(By.CLASS_NAME, 'tileSVG')[3].click()\n",
    "sleep(3)"
   ]
  },
  {
   "cell_type": "code",
   "execution_count": null,
   "id": "6b276b08-d687-4e4e-8de3-f765f65711e9",
   "metadata": {},
   "outputs": [],
   "source": [
    "# Selecionando o UF\n",
    "driver.find_elements(By.CSS_SELECTOR, '.slicer-dropdown-menu')[0].click()\n",
    "sleep(2)"
   ]
  },
  {
   "cell_type": "code",
   "execution_count": null,
   "id": "34cc1fb5-a01e-414c-8335-b857365be3e4",
   "metadata": {},
   "outputs": [],
   "source": [
    "# Selecionando 07ª - CE\n",
    "driver.find_elements(By.CSS_SELECTOR, '.slicerText')[7].click()\n",
    "sleep(5)"
   ]
  },
  {
   "cell_type": "code",
   "execution_count": null,
   "id": "b032c51a-eda3-4ed9-bf95-57530e317e07",
   "metadata": {},
   "outputs": [],
   "source": [
    "# Expandindo as varas do estado\n",
    "driver.find_elements(By.CSS_SELECTOR, '.visual .pivotTableContainer .pivotTable .expandCollapseButton i.glyphicon, .visual .tableExContainer .tableEx .expandCollapseButton i.glyphicon')[0].click()\n",
    "sleep(3)"
   ]
  },
  {
   "cell_type": "code",
   "execution_count": null,
   "id": "da9a51b3-ea77-4111-9da7-ac433cefa73e",
   "metadata": {},
   "outputs": [],
   "source": [
    "# Selecionando a tabela\n",
    "tabela = driver.find_elements(By.CLASS_NAME, 'expandableCell')[0]\n",
    "tabela.click()"
   ]
  },
  {
   "cell_type": "code",
   "execution_count": null,
   "id": "180c673c-ecdb-4cf5-bfb4-3f9113751140",
   "metadata": {},
   "outputs": [],
   "source": [
    "# Botão direito do mouse e copiar seleção\n",
    "action = ActionChains(driver)\n",
    "action.key_down(Keys.SHIFT).send_keys(Keys.F10).key_up(Keys.SHIFT).perform()\n",
    "sleep(1)\n",
    "action.key_down(Keys.RIGHT).key_up(Keys.RIGHT).perform()\n",
    "sleep(1)\n",
    "action.key_down(Keys.DOWN).key_up(Keys.DOWN).perform()\n",
    "sleep(1)\n",
    "action.key_down(Keys.ENTER).key_up(Keys.ENTER).perform()\n",
    "sleep(1)"
   ]
  },
  {
   "cell_type": "code",
   "execution_count": null,
   "id": "f0880a7a-7548-4f41-bc41-94b9624e36aa",
   "metadata": {},
   "outputs": [],
   "source": [
    "# Transformando o texto em DataFrame\n",
    "tab = pyperclip.paste()\n",
    "tab = tab.replace(\".\", \"\")\n",
    "meta3_24 = pd.read_csv(StringIO(tab), sep=\"\\t\")"
   ]
  },
  {
   "cell_type": "code",
   "execution_count": null,
   "id": "9fd19c21-d72c-4aff-b051-459d5e56ceed",
   "metadata": {},
   "outputs": [],
   "source": [
    "# Removendo colunas desnecessárias\n",
    "meta3_24 = meta3_24.iloc[:, [1, 2, 3, 4, 5, 6]]\n",
    "meta3_24['ORGAO_JULGADOR'] = meta3_24['ORGAO_JULGADOR'].apply(lambda orgao: conversorNomeVara[orgao])\n",
    "meta3_24 = meta3_24.iloc[:, [0, 2, 1, 3, 5, 4]]"
   ]
  },
  {
   "cell_type": "code",
   "execution_count": null,
   "id": "5dc87d5a-fd37-400d-a917-68b9aa027e92",
   "metadata": {},
   "outputs": [],
   "source": [
    "meta3_24.columns = ['Unidade Judiciária', 'Conciliados', 'Solucionados', 'Índice de conciliação iConc', 'Resultado iConc em relação à meta', 'Média do biênio']"
   ]
  },
  {
   "cell_type": "code",
   "execution_count": null,
   "id": "e373ea65-419e-4c46-9216-e2e32681ab15",
   "metadata": {},
   "outputs": [],
   "source": [
    "# Inserindo o Ano\n",
    "meta3_24.insert(1, 'Ano', 2024)"
   ]
  },
  {
   "cell_type": "code",
   "execution_count": null,
   "id": "009b4134-a204-4b98-b14d-af1de270475c",
   "metadata": {},
   "outputs": [],
   "source": [
    "# Inserindo coluna de índices\n",
    "meta3_24.insert(0, 'Índices', meta3_24['Unidade Judiciária'].map(id_vara))"
   ]
  },
  {
   "cell_type": "code",
   "execution_count": null,
   "id": "f5cd5488-9992-4353-960e-43e819e82346",
   "metadata": {},
   "outputs": [],
   "source": [
    "# Adicionando linha do 1º grau\n",
    "total1Grau = driver.find_elements(By.CLASS_NAME, 'row')[3].text.split('\\n')\n",
    "total1Grau[1], total1Grau[2] = total1Grau[2], total1Grau[1]\n",
    "total1Grau[4], total1Grau[5] = total1Grau[5], total1Grau[4]\n",
    "total1Grau.remove('07ª - CE')\n",
    "total1Grau.insert(0, 'Total do 1º Grau')\n",
    "total1Grau.insert(0, id_vara['Total do 1º Grau'])\n",
    "total1Grau.insert(2, 2024)\n",
    "meta3_24.loc[len(meta3_24)] = total1Grau\n",
    "meta3_24['Média do biênio comentário'] = meta3_24['Média do biênio'].apply(lambda x : x+' (Cláusula de barreira 38% - caso seja atingido esse percentual a meta será considerada cumprida)')"
   ]
  },
  {
   "cell_type": "code",
   "execution_count": null,
   "id": "7f80ce6c-b393-48fb-bc0a-0755fa18abb3",
   "metadata": {},
   "outputs": [],
   "source": [
    "driver.close()"
   ]
  },
  {
   "cell_type": "code",
   "execution_count": null,
   "id": "f06e550c-6b04-4af9-bc68-743c2c99729e",
   "metadata": {},
   "outputs": [],
   "source": [
    "meta3_24"
   ]
  },
  {
   "cell_type": "code",
   "execution_count": null,
   "id": "92482eca-5ee0-46e0-acd4-9c4beef517f4",
   "metadata": {},
   "outputs": [],
   "source": [
    "meta3 = pd.concat([meta3_23, meta3_24], ignore_index=True)\n",
    "meta3.sort_values(by=['Ano', 'Índices'], ascending=[True, True], inplace=True)\n",
    "meta3.to_csv('Resultados/Correições 2024 - Meta 3.csv', sep=',', index=False)"
   ]
  }
 ],
 "metadata": {
  "kernelspec": {
   "display_name": "Python 3 (ipykernel)",
   "language": "python",
   "name": "python3"
  },
  "language_info": {
   "codemirror_mode": {
    "name": "ipython",
    "version": 3
   },
   "file_extension": ".py",
   "mimetype": "text/x-python",
   "name": "python",
   "nbconvert_exporter": "python",
   "pygments_lexer": "ipython3",
   "version": "3.12.7"
  }
 },
 "nbformat": 4,
 "nbformat_minor": 5
}
