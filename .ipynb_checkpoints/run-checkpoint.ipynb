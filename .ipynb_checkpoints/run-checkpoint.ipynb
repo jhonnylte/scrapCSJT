{
 "cells": [
  {
   "cell_type": "code",
   "execution_count": null,
   "id": "2a7bde62-6e43-47b7-a737-313cf343c9e5",
   "metadata": {},
   "outputs": [],
   "source": [
    "%run meta1.ipynb"
   ]
  },
  {
   "cell_type": "code",
   "execution_count": null,
   "id": "b60ad01a-9a31-40cc-a96c-63e6044ba15a",
   "metadata": {},
   "outputs": [],
   "source": [
    "%run meta2-parte1.ipynb "
   ]
  },
  {
   "cell_type": "code",
   "execution_count": 1,
   "id": "46624178-3d84-43ad-aee4-512d089e3ca8",
   "metadata": {},
   "outputs": [],
   "source": [
    "%run meta2-parte2.ipynb "
   ]
  },
  {
   "cell_type": "code",
   "execution_count": 2,
   "id": "32b9dd75-c675-4479-b24b-0bfa49a5cd5d",
   "metadata": {},
   "outputs": [],
   "source": [
    "%run meta3.ipynb "
   ]
  },
  {
   "cell_type": "code",
   "execution_count": null,
   "id": "bb421df3-7fd0-40b7-9d8f-d5910c9eebfd",
   "metadata": {},
   "outputs": [],
   "source": [
    "%run meta5.ipynb "
   ]
  }
 ],
 "metadata": {
  "kernelspec": {
   "display_name": "Python 3 (ipykernel)",
   "language": "python",
   "name": "python3"
  },
  "language_info": {
   "codemirror_mode": {
    "name": "ipython",
    "version": 3
   },
   "file_extension": ".py",
   "mimetype": "text/x-python",
   "name": "python",
   "nbconvert_exporter": "python",
   "pygments_lexer": "ipython3",
   "version": "3.12.7"
  }
 },
 "nbformat": 4,
 "nbformat_minor": 5
}
