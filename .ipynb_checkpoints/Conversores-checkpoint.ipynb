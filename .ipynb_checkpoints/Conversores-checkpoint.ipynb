{
 "cells": [
  {
   "cell_type": "code",
   "execution_count": null,
   "id": "cfaef753-0ca1-4c8c-aac3-a21c7187c4d8",
   "metadata": {},
   "outputs": [],
   "source": [
    "from selenium import webdriver\n",
    "from selenium.webdriver.common.by import By\n",
    "from time import sleep\n",
    "import pandas as pd\n",
    "import numpy as np\n",
    "import pyperclip\n",
    "from io import StringIO\n",
    "from selenium.webdriver.common.action_chains import ActionChains\n",
    "from selenium.webdriver.common.keys import Keys"
   ]
  },
  {
   "cell_type": "markdown",
   "id": "de8aaa03-a0fc-44bd-baee-caed7cd535d4",
   "metadata": {
    "jp-MarkdownHeadingCollapsed": true
   },
   "source": [
    "### Ano"
   ]
  },
  {
   "cell_type": "code",
   "execution_count": null,
   "id": "37f201f1-a403-40cd-a1d1-17beb0d80341",
   "metadata": {},
   "outputs": [],
   "source": [
    "ano = {\n",
    "    2023: 'https://app.powerbi.com/view?r=eyJrIjoiZTYzNmJlODktNjkyNi00NWFjLTg2MzEtYWVmMzdhNWY3OTQ1IiwidCI6ImNjZDk5MTdlLWNiNDctNDJhNS1hMjYyLWUyMjcyZGNlZjZhYiJ9',\n",
    "    2024: 'https://app.powerbi.com/view?r=eyJrIjoiNjQ1OGVjNGUtNmNhMi00YjlkLTljYTctNDE4OGZmODJhNDkwIiwidCI6ImNjZDk5MTdlLWNiNDctNDJhNS1hMjYyLWUyMjcyZGNlZjZhYiJ9'\n",
    "}"
   ]
  },
  {
   "cell_type": "markdown",
   "id": "bd58d8e8-d27b-4310-89e2-e2d2d911e32a",
   "metadata": {
    "jp-MarkdownHeadingCollapsed": true
   },
   "source": [
    "### Convertendo os nomes para o padrão do código"
   ]
  },
  {
   "cell_type": "code",
   "execution_count": null,
   "id": "d730931f-2f00-42f6-9513-5f3bc7e6c8e3",
   "metadata": {},
   "outputs": [],
   "source": [
    "conversorNomeVara = {\n",
    "   'Fortaleza - 1ª Vara'  : '1ª VT de Fortaleza',\n",
    "   'Fortaleza - 2ª Vara' : '2ª VT de Fortaleza',\n",
    "   'Fortaleza - 3ª Vara' : '3ª VT de Fortaleza',\n",
    "   'Fortaleza - 4ª Vara' : '4ª VT de Fortaleza',\n",
    "   'Fortaleza - 5ª Vara' : '5ª VT de Fortaleza',\n",
    "   'Fortaleza - 6ª Vara' : '6ª VT de Fortaleza',\n",
    "   'Fortaleza - 7ª Vara' : '7ª VT de Fortaleza',\n",
    "   'Fortaleza - 8ª Vara' : '8ª VT de Fortaleza',\n",
    "   'Fortaleza - 9ª Vara' : '9ª VT de Fortaleza',\n",
    "   'Fortaleza - 10ª Vara' : '10ª VT de Fortaleza',\n",
    "   'Fortaleza - 11ª Vara' : '11ª VT de Fortaleza',\n",
    "   'Fortaleza - 12ª Vara' : '12ª VT de Fortaleza',\n",
    "   'Fortaleza - 13ª Vara' : '13ª VT de Fortaleza',\n",
    "   'Fortaleza - 14ª Vara' : '14ª VT de Fortaleza',\n",
    "   'Fortaleza - 15ª Vara' : '15ª VT de Fortaleza',\n",
    "   'Fortaleza - 16ª Vara' : '16ª VT de Fortaleza',\n",
    "   'Fortaleza - 17ª Vara' : '17ª VT de Fortaleza',\n",
    "   'Fortaleza - 18ª Vara' : '18ª VT de Fortaleza',\n",
    "   'Aracati - Vara Única' : '1ª VT de Aracati',\n",
    "   'Baturité - Vara Única' : '1ª VT de Baturité',\n",
    "   'Caucaia - 1ª Vara' : '1ª VT de Caucaia',\n",
    "   'Crateús - Vara Única' : '1ª VT de Crateus',\n",
    "   'Eusébio - Vara Única' : '1ª VT de Eusébio',\n",
    "   'Iguatu - Vara Única' : '1ª VT de Iguatu',\n",
    "   'Região do Cariri - 1ª Vara' : '1ª VT da Região do Cariri',\n",
    "   'Limoeiro do Norte - Vara Única' : '1ª VT de Limoeiro do Norte',\n",
    "   'Maracanaú - 1ª Vara' : '1ª VT de Maracanau',\n",
    "   'Pacajus - Vara Única' : '1ª VT de Pacajus',\n",
    "   'Quixadá - Vara Única' : '1ª VT de Quixadá',\n",
    "   'São Gonçalo do Amarante - Vara Única' : '1ª VT de São Gonçalo do Amarante',\n",
    "   'Sobral - 1ª Vara' : '1ª VT de Sobral',\n",
    "   'Tianguá - Vara Única' : '1ª VT de Tianguá',\n",
    "   'Caucaia - 2ª Vara' : '2ª VT de Caucaia',\n",
    "   'Região do Cariri - 2ª Vara' : '2ª VT da Região do Cariri',\n",
    "   'Maracanaú - 2ª Vara' : '2ª VT de Maracanau',\n",
    "   'Sobral - 2ª Vara' : '2ª VT de Sobral',\n",
    "   'Região do Cariri - 3ª Vara' : '3ª VT da Região do Cariri'\n",
    "}"
   ]
  },
  {
   "cell_type": "markdown",
   "id": "edf6cc70-3562-4f87-bcb7-121b22297c41",
   "metadata": {
    "jp-MarkdownHeadingCollapsed": true
   },
   "source": [
    "### Id de cada vara no código"
   ]
  },
  {
   "cell_type": "code",
   "execution_count": 3,
   "id": "d5449a41-96c5-40eb-ba4a-66d7ddce6cc9",
   "metadata": {},
   "outputs": [],
   "source": [
    "id_vara = {\n",
    "    '1ª VT de Fortaleza' : 1,\n",
    "    '2ª VT de Fortaleza' : 2,\n",
    "    '3ª VT de Fortaleza' : 3,\n",
    "    '4ª VT de Fortaleza' : 4,\n",
    "    '5ª VT de Fortaleza' : 5,\n",
    "    '6ª VT de Fortaleza' : 6,\n",
    "    '7ª VT de Fortaleza' : 7,\n",
    "    '8ª VT de Fortaleza' : 8,\n",
    "    '9ª VT de Fortaleza' : 9,\n",
    "    '10ª VT de Fortaleza' : 10,\n",
    "    '11ª VT de Fortaleza' : 11,\n",
    "    '12ª VT de Fortaleza' : 12,\n",
    "    '13ª VT de Fortaleza' : 13,\n",
    "    '14ª VT de Fortaleza' : 14,\n",
    "    '15ª VT de Fortaleza' : 15,\n",
    "    '16ª VT de Fortaleza' : 16,\n",
    "    '17ª VT de Fortaleza' : 17,\n",
    "    '18ª VT de Fortaleza' : 18,\n",
    "    '1ª VT de Aracati' : 19,\n",
    "    '1ª VT de Baturité' : 20,\n",
    "    '1ª VT de Caucaia' : 21,\n",
    "    '1ª VT de Crateus' : 22,\n",
    "    '1ª VT de Eusébio' : 23,\n",
    "    '1ª VT de Iguatu' : 24,\n",
    "    '1ª VT da Região do Cariri' : 25,\n",
    "    '1ª VT de Limoeiro do Norte' : 26,\n",
    "    '1ª VT de Maracanau' : 27,\n",
    "    '1ª VT de Pacajus' : 28,\n",
    "    '1ª VT de Quixadá' : 29,\n",
    "    '1ª VT de São Gonçalo do Amarante' : 30,\n",
    "    '1ª VT de Sobral' : 31,\n",
    "    '1ª VT de Tianguá' : 32,\n",
    "    '2ª VT de Caucaia' : 33,\n",
    "    '2ª VT da Região do Cariri' : 34,\n",
    "    '2ª VT de Maracanau' : 35,\n",
    "    '2ª VT de Sobral' : 36,\n",
    "    '3ª VT da Região do Cariri': 37,\n",
    "    'Total do 1º Grau' : 38,\n",
    "    'Total da 7ª Região' : 39\n",
    "}"
   ]
  }
 ],
 "metadata": {
  "kernelspec": {
   "display_name": "Python 3 (ipykernel)",
   "language": "python",
   "name": "python3"
  },
  "language_info": {
   "codemirror_mode": {
    "name": "ipython",
    "version": 3
   },
   "file_extension": ".py",
   "mimetype": "text/x-python",
   "name": "python",
   "nbconvert_exporter": "python",
   "pygments_lexer": "ipython3",
   "version": "3.12.7"
  }
 },
 "nbformat": 4,
 "nbformat_minor": 5
}
