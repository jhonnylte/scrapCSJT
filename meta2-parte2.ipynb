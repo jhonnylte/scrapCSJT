{
 "cells": [
  {
   "cell_type": "code",
   "execution_count": null,
   "id": "f6daccd7-6eae-4972-b458-a4300284e207",
   "metadata": {
    "execution": {
     "iopub.execute_input": "2025-03-31T13:38:36.606967Z",
     "iopub.status.busy": "2025-03-31T13:38:36.606967Z",
     "iopub.status.idle": "2025-03-31T13:38:37.487280Z",
     "shell.execute_reply": "2025-03-31T13:38:37.487280Z"
    }
   },
   "outputs": [],
   "source": [
    "# Puxa as variáveis do arquivo Conversores para serem utilizadas neste arquivo\n",
    "%run Conversores.ipynb"
   ]
  },
  {
   "cell_type": "code",
   "execution_count": null,
   "id": "893ee890-0922-45b1-ae9d-f92562b7ea46",
   "metadata": {
    "execution": {
     "iopub.execute_input": "2025-03-31T13:38:37.487280Z",
     "iopub.status.busy": "2025-03-31T13:38:37.487280Z",
     "iopub.status.idle": "2025-03-31T13:38:37.498058Z",
     "shell.execute_reply": "2025-03-31T13:38:37.498058Z"
    }
   },
   "outputs": [],
   "source": [
    "def alterarInstancia():\n",
    "    action.key_down(Keys.ESCAPE).key_up(Keys.ESCAPE).perform()\n",
    "    sleep(1)\n",
    "    action.key_down(Keys.ENTER).key_up(Keys.ENTER).perform()\n",
    "    sleep(1)\n",
    "    action.key_down(Keys.PAGE_UP).key_up(Keys.PAGE_UP).perform()\n",
    "    sleep(1)\n",
    "    \n",
    "    # Desselecionando a 1º Instância\n",
    "    driver.find_elements(By.CSS_SELECTOR, '.slicer-dropdown-menu')[0].click()\n",
    "    sleep(2)\n",
    "    \n",
    "    driver.find_elements(By.CSS_SELECTOR, '.slicerText')[1].click()\n",
    "    sleep(5)\n",
    "    \n",
    "    driver.find_elements(By.CSS_SELECTOR, '.slicer-dropdown-menu')[0].click()\n",
    "    sleep(2)\n",
    "    \n",
    "    action.key_down(Keys.PAGE_DOWN).key_up(Keys.PAGE_DOWN)\n",
    "    sleep(2)\n",
    "    action.key_down(Keys.PAGE_DOWN).key_up(Keys.PAGE_DOWN)\n",
    "    \n",
    "    # Expandindo as varas do estado\n",
    "    try: \n",
    "        driver.find_elements(By.CSS_SELECTOR, '.visual .pivotTableContainer .pivotTable .expandCollapseButton i.glyphicon, .visual .tableExContainer .tableEx .expandCollapseButton i.glyphicon')[1].click()\n",
    "    except:\n",
    "        driver.find_elements(By.CSS_SELECTOR, '.visual .pivotTableContainer .pivotTable .expandCollapseButton i.glyphicon, .visual .tableExContainer .tableEx .expandCollapseButton i.glyphicon')[1].click()\n",
    "    sleep(3)\n",
    "    \n",
    "    # Selecionando a tabela\n",
    "    tabela = driver.find_elements(By.CLASS_NAME, 'row')[14]\n",
    "    tabela.click()\n",
    "    \n",
    "    # Botão direito do mouse e mostrar tabela\n",
    "    action.key_down(Keys.SHIFT).send_keys(Keys.F10).key_up(Keys.SHIFT).perform()\n",
    "    sleep(2)\n",
    "    action.key_down(Keys.DOWN).key_up(Keys.DOWN).perform()\n",
    "    sleep(2)\n",
    "    action.key_down(Keys.RIGHT).key_up(Keys.RIGHT).perform()\n",
    "    sleep(2)\n",
    "    action.key_down(Keys.ENTER).key_up(Keys.ENTER).perform()\n",
    "    sleep(2)\n",
    "    \n",
    "    # Subindo scroll\n",
    "    action.key_down(Keys.PAGE_UP).key_up(Keys.PAGE_UP)\n",
    "    sleep(1)\n",
    "    action.key_down(Keys.PAGE_UP).key_up(Keys.PAGE_UP)\n",
    "    sleep(1)"
   ]
  },
  {
   "cell_type": "code",
   "execution_count": null,
   "id": "0bee4642-fb88-43d9-b1fe-af62a67f7b98",
   "metadata": {
    "execution": {
     "iopub.execute_input": "2025-03-31T13:38:37.498058Z",
     "iopub.status.busy": "2025-03-31T13:38:37.498058Z",
     "iopub.status.idle": "2025-03-31T13:38:41.863010Z",
     "shell.execute_reply": "2025-03-31T13:38:41.863010Z"
    }
   },
   "outputs": [],
   "source": [
    "# Meta 2 - Parte 2 - 2024\n",
    "# Iniciando navegador\n",
    "driver = webdriver.Chrome()\n",
    "sleep(2)"
   ]
  },
  {
   "cell_type": "code",
   "execution_count": null,
   "id": "00ad2679-c258-4b29-838c-7f5c5db115e2",
   "metadata": {
    "execution": {
     "iopub.execute_input": "2025-03-31T13:38:41.863010Z",
     "iopub.status.busy": "2025-03-31T13:38:41.863010Z",
     "iopub.status.idle": "2025-03-31T13:38:50.180548Z",
     "shell.execute_reply": "2025-03-31T13:38:50.180548Z"
    }
   },
   "outputs": [],
   "source": [
    "# Entrando no site\n",
    "driver.get(ano[2024])\n",
    "sleep(5)"
   ]
  },
  {
   "cell_type": "code",
   "execution_count": null,
   "id": "5e9f6ae5-8132-49be-ba5f-1f8835fb0573",
   "metadata": {
    "execution": {
     "iopub.execute_input": "2025-03-31T13:38:50.180548Z",
     "iopub.status.busy": "2025-03-31T13:38:50.180548Z",
     "iopub.status.idle": "2025-03-31T13:38:51.322480Z",
     "shell.execute_reply": "2025-03-31T13:38:51.322480Z"
    }
   },
   "outputs": [],
   "source": [
    "# Fechando pop-up\n",
    "driver.find_element(By.CLASS_NAME, 'tileSVG').click()\n",
    "sleep(1)"
   ]
  },
  {
   "cell_type": "code",
   "execution_count": null,
   "id": "d9a25a4d-7bc6-4052-934a-9a064032d044",
   "metadata": {
    "execution": {
     "iopub.execute_input": "2025-03-31T13:38:51.325700Z",
     "iopub.status.busy": "2025-03-31T13:38:51.325700Z",
     "iopub.status.idle": "2025-03-31T13:38:55.404927Z",
     "shell.execute_reply": "2025-03-31T13:38:55.404927Z"
    }
   },
   "outputs": [],
   "source": [
    "# Clicando na meta \n",
    "driver.find_elements(By.CLASS_NAME, 'tileSVG')[2].click()\n",
    "sleep(3)"
   ]
  },
  {
   "cell_type": "code",
   "execution_count": null,
   "id": "c3bd6002-7ed9-46b5-be80-82549c9d498e",
   "metadata": {
    "execution": {
     "iopub.execute_input": "2025-03-31T13:38:55.404927Z",
     "iopub.status.busy": "2025-03-31T13:38:55.404927Z",
     "iopub.status.idle": "2025-03-31T13:38:57.563573Z",
     "shell.execute_reply": "2025-03-31T13:38:57.563573Z"
    }
   },
   "outputs": [],
   "source": [
    "# Selecionando o UF\n",
    "driver.find_elements(By.CSS_SELECTOR, '.slicer-dropdown-menu')[2].click()\n",
    "sleep(2)"
   ]
  },
  {
   "cell_type": "code",
   "execution_count": null,
   "id": "d2d74ae3-ca1f-4e6b-bace-594881c5054b",
   "metadata": {
    "execution": {
     "iopub.execute_input": "2025-03-31T13:38:57.567153Z",
     "iopub.status.busy": "2025-03-31T13:38:57.567153Z",
     "iopub.status.idle": "2025-03-31T13:39:03.165941Z",
     "shell.execute_reply": "2025-03-31T13:39:03.165941Z"
    }
   },
   "outputs": [],
   "source": [
    "# Selecionando 07ª - CE\n",
    "driver.find_elements(By.CSS_SELECTOR, '.slicerText')[7].click()\n",
    "sleep(5)"
   ]
  },
  {
   "cell_type": "code",
   "execution_count": null,
   "id": "94fa3c32-6dc9-46cf-9431-bd83ae6d7c5a",
   "metadata": {
    "execution": {
     "iopub.execute_input": "2025-03-31T13:39:03.165941Z",
     "iopub.status.busy": "2025-03-31T13:39:03.165941Z",
     "iopub.status.idle": "2025-03-31T13:39:12.921158Z",
     "shell.execute_reply": "2025-03-31T13:39:12.921158Z"
    }
   },
   "outputs": [],
   "source": [
    "# Selecionando a 1º Instância\n",
    "driver.find_elements(By.CSS_SELECTOR, '.slicer-dropdown-menu')[0].click()\n",
    "sleep(2)\n",
    "\n",
    "driver.find_elements(By.CSS_SELECTOR, '.slicerText')[1].click()\n",
    "sleep(5)\n",
    "\n",
    "driver.find_elements(By.CSS_SELECTOR, '.slicer-dropdown-menu')[0].click()\n",
    "sleep(2)"
   ]
  },
  {
   "cell_type": "code",
   "execution_count": null,
   "id": "a313fa1c-f79b-4580-a219-d74f83528be0",
   "metadata": {
    "execution": {
     "iopub.execute_input": "2025-03-31T13:39:12.921158Z",
     "iopub.status.busy": "2025-03-31T13:39:12.921158Z",
     "iopub.status.idle": "2025-03-31T13:39:14.934405Z",
     "shell.execute_reply": "2025-03-31T13:39:14.933902Z"
    }
   },
   "outputs": [],
   "source": [
    "action = ActionChains(driver)\n",
    "action.key_down(Keys.PAGE_DOWN).key_up(Keys.PAGE_DOWN)\n",
    "sleep(2)\n",
    "action.key_down(Keys.PAGE_DOWN).key_up(Keys.PAGE_DOWN)"
   ]
  },
  {
   "cell_type": "code",
   "execution_count": null,
   "id": "1fbec573-3cf6-457d-8b64-20ff02f155eb",
   "metadata": {
    "execution": {
     "iopub.execute_input": "2025-03-31T13:39:14.934405Z",
     "iopub.status.busy": "2025-03-31T13:39:14.934405Z",
     "iopub.status.idle": "2025-03-31T13:39:19.277518Z",
     "shell.execute_reply": "2025-03-31T13:39:19.277518Z"
    }
   },
   "outputs": [],
   "source": [
    "# Expandindo as varas do estado\n",
    "try: \n",
    "    driver.find_elements(By.CSS_SELECTOR, '.visual .pivotTableContainer .pivotTable .expandCollapseButton i.glyphicon, .visual .tableExContainer .tableEx .expandCollapseButton i.glyphicon')[1].click()\n",
    "except:\n",
    "    driver.find_elements(By.CSS_SELECTOR, '.visual .pivotTableContainer .pivotTable .expandCollapseButton i.glyphicon, .visual .tableExContainer .tableEx .expandCollapseButton i.glyphicon')[1].click()\n",
    "sleep(3)"
   ]
  },
  {
   "cell_type": "code",
   "execution_count": null,
   "id": "3f097407-51a0-4f35-ad50-4becb4f019c6",
   "metadata": {
    "execution": {
     "iopub.execute_input": "2025-03-31T13:39:19.277518Z",
     "iopub.status.busy": "2025-03-31T13:39:19.277518Z",
     "iopub.status.idle": "2025-03-31T13:39:19.869394Z",
     "shell.execute_reply": "2025-03-31T13:39:19.869394Z"
    }
   },
   "outputs": [],
   "source": [
    "# Selecionando a tabela\n",
    "tabela = driver.find_elements(By.CLASS_NAME, 'row')[14]\n",
    "tabela.click()"
   ]
  },
  {
   "cell_type": "code",
   "execution_count": null,
   "id": "25d21c2d-ad72-4ad4-82bb-7f6a5ac9f6ba",
   "metadata": {
    "execution": {
     "iopub.execute_input": "2025-03-31T13:39:19.873565Z",
     "iopub.status.busy": "2025-03-31T13:39:19.873565Z",
     "iopub.status.idle": "2025-03-31T13:39:40.446631Z",
     "shell.execute_reply": "2025-03-31T13:39:40.446631Z"
    }
   },
   "outputs": [],
   "source": [
    "# Botão direito do mouse e mostrar tabela\n",
    "action.key_down(Keys.SHIFT).send_keys(Keys.F10).key_up(Keys.SHIFT).perform()\n",
    "sleep(5)\n",
    "action.key_down(Keys.DOWN).key_up(Keys.DOWN).perform()\n",
    "sleep(5)\n",
    "action.key_down(Keys.RIGHT).key_up(Keys.RIGHT).perform()\n",
    "sleep(5)\n",
    "action.key_down(Keys.ENTER).key_up(Keys.ENTER).perform()\n",
    "sleep(5)"
   ]
  },
  {
   "cell_type": "code",
   "execution_count": null,
   "id": "5befcd35-1588-461e-acf5-181a2f0f15e4",
   "metadata": {
    "execution": {
     "iopub.execute_input": "2025-03-31T13:39:40.446631Z",
     "iopub.status.busy": "2025-03-31T13:39:40.446631Z",
     "iopub.status.idle": "2025-03-31T13:39:42.455704Z",
     "shell.execute_reply": "2025-03-31T13:39:42.455704Z"
    }
   },
   "outputs": [],
   "source": [
    "# Subindo scroll\n",
    "action.key_down(Keys.PAGE_UP).key_up(Keys.PAGE_UP)\n",
    "sleep(1)\n",
    "action.key_down(Keys.PAGE_UP).key_up(Keys.PAGE_UP)\n",
    "sleep(1)"
   ]
  },
  {
   "cell_type": "code",
   "execution_count": null,
   "id": "6c915617-16b4-4889-a986-04cb460ca1a4",
   "metadata": {
    "execution": {
     "iopub.execute_input": "2025-03-31T13:39:42.455704Z",
     "iopub.status.busy": "2025-03-31T13:39:42.455704Z",
     "iopub.status.idle": "2025-03-31T13:39:43.023510Z",
     "shell.execute_reply": "2025-03-31T13:39:43.023510Z"
    }
   },
   "outputs": [],
   "source": [
    "# Selecionando tabela novamente\n",
    "driver.find_elements(By.CLASS_NAME, 'expandableCell')[2].click()"
   ]
  },
  {
   "cell_type": "code",
   "execution_count": null,
   "id": "8345bfce-42d3-4bd6-a428-de034c7f9f5e",
   "metadata": {
    "execution": {
     "iopub.execute_input": "2025-03-31T13:39:43.027524Z",
     "iopub.status.busy": "2025-03-31T13:39:43.026505Z",
     "iopub.status.idle": "2025-03-31T13:39:47.357769Z",
     "shell.execute_reply": "2025-03-31T13:39:47.357769Z"
    }
   },
   "outputs": [],
   "source": [
    "# Botão direito do mouse e copiar seleção\n",
    "action.key_down(Keys.SHIFT).send_keys(Keys.F10).key_up(Keys.SHIFT).perform()\n",
    "sleep(1)\n",
    "action.key_down(Keys.RIGHT).key_up(Keys.RIGHT).perform()\n",
    "sleep(1)\n",
    "action.key_down(Keys.DOWN).key_up(Keys.DOWN).perform()\n",
    "sleep(1)\n",
    "action.key_down(Keys.ENTER).key_up(Keys.ENTER).perform()\n",
    "sleep(1)"
   ]
  },
  {
   "cell_type": "code",
   "execution_count": null,
   "id": "a626c5fd-28c7-4cd6-be65-422575912148",
   "metadata": {
    "execution": {
     "iopub.execute_input": "2025-03-31T13:39:47.357769Z",
     "iopub.status.busy": "2025-03-31T13:39:47.357769Z",
     "iopub.status.idle": "2025-03-31T13:39:47.368482Z",
     "shell.execute_reply": "2025-03-31T13:39:47.368482Z"
    }
   },
   "outputs": [],
   "source": [
    "# Transformando o texto em DataFrame\n",
    "tab = pyperclip.paste()\n",
    "tab = tab.replace(\".\", \"\")\n",
    "meta2_parte2 = pd.read_csv(StringIO(tab), sep=\"\\t\")"
   ]
  },
  {
   "cell_type": "code",
   "execution_count": null,
   "id": "618e3f25-7511-4bd3-a241-9d622087de79",
   "metadata": {
    "execution": {
     "iopub.execute_input": "2025-03-31T13:39:47.368482Z",
     "iopub.status.busy": "2025-03-31T13:39:47.368482Z",
     "iopub.status.idle": "2025-03-31T13:39:47.377160Z",
     "shell.execute_reply": "2025-03-31T13:39:47.377160Z"
    }
   },
   "outputs": [],
   "source": [
    "# Removendo linhas do 2º grau\n",
    "meta2_parte2 = meta2_parte2[meta2_parte2[\"ORGAO_JULGADOR\"].isin(list(conversorNomeVara.keys()))]"
   ]
  },
  {
   "cell_type": "code",
   "execution_count": null,
   "id": "6b75cc40-ac23-4993-957a-de65ec273cb2",
   "metadata": {
    "execution": {
     "iopub.execute_input": "2025-03-31T13:39:47.377160Z",
     "iopub.status.busy": "2025-03-31T13:39:47.377160Z",
     "iopub.status.idle": "2025-03-31T13:39:47.385954Z",
     "shell.execute_reply": "2025-03-31T13:39:47.385954Z"
    }
   },
   "outputs": [],
   "source": [
    "# Removendo colunas desnecessárias\n",
    "meta2_parte2 = meta2_parte2.iloc[:, [1, 3]]\n",
    "meta2_parte2['ORGAO_JULGADOR'] = meta2_parte2['ORGAO_JULGADOR'].apply(lambda orgao: conversorNomeVara[orgao])"
   ]
  },
  {
   "cell_type": "code",
   "execution_count": null,
   "id": "d92a1e4b-058d-45c3-a104-021cee1beef2",
   "metadata": {
    "execution": {
     "iopub.execute_input": "2025-03-31T13:39:47.385954Z",
     "iopub.status.busy": "2025-03-31T13:39:47.385954Z",
     "iopub.status.idle": "2025-03-31T13:39:47.393360Z",
     "shell.execute_reply": "2025-03-31T13:39:47.393360Z"
    }
   },
   "outputs": [],
   "source": [
    "# Inserindo o Ano\n",
    "meta2_parte2.insert(1, 'Ano', 2024)"
   ]
  },
  {
   "cell_type": "code",
   "execution_count": null,
   "id": "b30c9d9d-b51f-4205-a729-c09f8900c9ef",
   "metadata": {
    "execution": {
     "iopub.execute_input": "2025-03-31T13:39:47.393360Z",
     "iopub.status.busy": "2025-03-31T13:39:47.393360Z",
     "iopub.status.idle": "2025-03-31T13:39:47.401632Z",
     "shell.execute_reply": "2025-03-31T13:39:47.401632Z"
    }
   },
   "outputs": [],
   "source": [
    "# Inserindo coluna de índices\n",
    "meta2_parte2.insert(0, 'Índices', meta2_parte2['ORGAO_JULGADOR'].map(id_vara))"
   ]
  },
  {
   "cell_type": "code",
   "execution_count": null,
   "id": "e9021f9d-f9e0-4cf0-9a3f-11169256ae70",
   "metadata": {
    "execution": {
     "iopub.execute_input": "2025-03-31T13:39:47.401632Z",
     "iopub.status.busy": "2025-03-31T13:39:47.401632Z",
     "iopub.status.idle": "2025-03-31T13:39:47.444438Z",
     "shell.execute_reply": "2025-03-31T13:39:47.444438Z"
    }
   },
   "outputs": [],
   "source": [
    "# Adicionando linha Total do 1º grau\n",
    "total1Grau = [driver.find_elements(By.XPATH, '//*[@id=\"pvExplorationHost\"]/div/div/exploration/div/explore-canvas/div/div[2]/div/div[2]/div[2]/visual-container-repeat/visual-container[7]/transform/div/div[2]/div/div/visual-modern/div/div/div[2]/div[1]/div[3]/div')[0].text.split('\\n')[2]]\n",
    "total1Grau.insert(0, id_vara['Total do 1º Grau'])\n",
    "total1Grau.insert(1, 'Total do 1º Grau')\n",
    "total1Grau.insert(2, 2024)\n",
    "meta2_parte2.loc[len(meta2_parte2)] = total1Grau"
   ]
  },
  {
   "cell_type": "code",
   "execution_count": null,
   "id": "0a03351e-5feb-402d-b9f0-19c5357b391c",
   "metadata": {
    "execution": {
     "iopub.execute_input": "2025-03-31T13:39:47.444438Z",
     "iopub.status.busy": "2025-03-31T13:39:47.444438Z",
     "iopub.status.idle": "2025-03-31T13:40:17.638935Z",
     "shell.execute_reply": "2025-03-31T13:40:17.638935Z"
    }
   },
   "outputs": [],
   "source": [
    "alterarInstancia()"
   ]
  },
  {
   "cell_type": "code",
   "execution_count": null,
   "id": "a0a4fab8-89ea-4143-adf6-c0feb9bce829",
   "metadata": {
    "execution": {
     "iopub.execute_input": "2025-03-31T13:40:17.638935Z",
     "iopub.status.busy": "2025-03-31T13:40:17.638935Z",
     "iopub.status.idle": "2025-03-31T13:40:18.230027Z",
     "shell.execute_reply": "2025-03-31T13:40:18.230027Z"
    }
   },
   "outputs": [],
   "source": [
    "# Selecionando tabela novamente\n",
    "driver.find_elements(By.CLASS_NAME, 'expandableCell')[2].click()"
   ]
  },
  {
   "cell_type": "code",
   "execution_count": null,
   "id": "e65cbdaf-26b9-4098-9581-aff53c6c0313",
   "metadata": {
    "execution": {
     "iopub.execute_input": "2025-03-31T13:40:18.233894Z",
     "iopub.status.busy": "2025-03-31T13:40:18.233894Z",
     "iopub.status.idle": "2025-03-31T13:40:22.671575Z",
     "shell.execute_reply": "2025-03-31T13:40:22.671575Z"
    }
   },
   "outputs": [],
   "source": [
    "# Botão direito do mouse e copiar seleção\n",
    "action.key_down(Keys.SHIFT).send_keys(Keys.F10).key_up(Keys.SHIFT).perform()\n",
    "sleep(1)\n",
    "action.key_down(Keys.RIGHT).key_up(Keys.RIGHT).perform()\n",
    "sleep(1)\n",
    "action.key_down(Keys.DOWN).key_up(Keys.DOWN).perform()\n",
    "sleep(1)\n",
    "action.key_down(Keys.ENTER).key_up(Keys.ENTER).perform()\n",
    "sleep(1)"
   ]
  },
  {
   "cell_type": "code",
   "execution_count": null,
   "id": "f2fd35fd-6b62-4762-8af2-60da3489f737",
   "metadata": {
    "execution": {
     "iopub.execute_input": "2025-03-31T13:40:22.676617Z",
     "iopub.status.busy": "2025-03-31T13:40:22.676617Z",
     "iopub.status.idle": "2025-03-31T13:40:22.684219Z",
     "shell.execute_reply": "2025-03-31T13:40:22.684219Z"
    }
   },
   "outputs": [],
   "source": [
    "# Os índices foram resetados para que total7Regiao ficasse na última linha, esse comando cria uma coluna index com os indices antigos, ele é deletada.\n",
    "meta2_parte2 = meta2_parte2.reset_index()\n",
    "meta2_parte2.pop('index')"
   ]
  },
  {
   "cell_type": "code",
   "execution_count": null,
   "id": "acb22c88-a009-4a34-9ac3-f1c7557d6c26",
   "metadata": {
    "execution": {
     "iopub.execute_input": "2025-03-31T13:40:22.686781Z",
     "iopub.status.busy": "2025-03-31T13:40:22.686781Z",
     "iopub.status.idle": "2025-03-31T13:40:22.735395Z",
     "shell.execute_reply": "2025-03-31T13:40:22.735395Z"
    }
   },
   "outputs": [],
   "source": [
    "# Adicionando linha Total do 1º grau\n",
    "try:\n",
    "    total7Regiao = [driver.find_element(By.XPATH, '//*[@id=\"pvExplorationHost\"]/div/div/exploration/div/explore-canvas/div/div[2]/div/div[2]/div[2]/visual-container-repeat/visual-container[7]/transform/div/div[2]/div/div/visual-modern/div/div/div[2]/div[1]/div[3]/div').text.split('\\n')[2]]\n",
    "except: \n",
    "    total7Regiao = [driver.find_element(By.XPATH, '//*[@id=\"pvExplorationHost\"]/div/div/exploration/div/explore-canvas/div/div[2]/div/div[2]/div[2]/visual-container-repeat/visual-container-group[4]/transform/div/div[2]/visual-container-group/transform/div/div[2]/visual-container[6]/transform/div/div[3]/div/div/visual-modern/div/div/div[2]/div[1]/div[2]/div/div').text.split('\\n')[2]]"
   ]
  },
  {
   "cell_type": "code",
   "execution_count": null,
   "id": "92fa2059-91ad-44ac-a2ff-370407bc0ee0",
   "metadata": {
    "execution": {
     "iopub.execute_input": "2025-03-31T13:40:22.737436Z",
     "iopub.status.busy": "2025-03-31T13:40:22.737436Z",
     "iopub.status.idle": "2025-03-31T13:40:22.743709Z",
     "shell.execute_reply": "2025-03-31T13:40:22.743709Z"
    }
   },
   "outputs": [],
   "source": [
    "    \n",
    "total7Regiao.insert(0, id_vara['Total da 7ª Região'])\n",
    "total7Regiao.insert(1, 'Total da 7ª Região')\n",
    "total7Regiao.insert(2, 2024)\n",
    "meta2_parte2.loc[len(meta2_parte2)] = total7Regiao"
   ]
  },
  {
   "cell_type": "code",
   "execution_count": null,
   "id": "6013dae2-b033-4c14-8505-4e0b836bfc10",
   "metadata": {
    "execution": {
     "iopub.execute_input": "2025-03-31T13:40:22.743709Z",
     "iopub.status.busy": "2025-03-31T13:40:22.743709Z",
     "iopub.status.idle": "2025-03-31T13:40:22.751500Z",
     "shell.execute_reply": "2025-03-31T13:40:22.751500Z"
    }
   },
   "outputs": [],
   "source": [
    "meta2_parte2.columns = ['Índices', 'Unidade Judiciária', 'Ano', 'Resultado']\n",
    "meta2_parte2.sort_values(by=['Índices'], ascending=[True], inplace=True)"
   ]
  },
  {
   "cell_type": "code",
   "execution_count": null,
   "id": "d2c262b1-85a0-4d42-adce-ded9dad6b89b",
   "metadata": {
    "execution": {
     "iopub.execute_input": "2025-03-31T13:40:22.751500Z",
     "iopub.status.busy": "2025-03-31T13:40:22.751500Z",
     "iopub.status.idle": "2025-03-31T13:40:22.879315Z",
     "shell.execute_reply": "2025-03-31T13:40:22.879315Z"
    }
   },
   "outputs": [],
   "source": [
    "driver.close()"
   ]
  },
  {
   "cell_type": "code",
   "execution_count": null,
   "id": "0650e25d-b379-4c26-aa1e-eba971216c90",
   "metadata": {
    "execution": {
     "iopub.execute_input": "2025-03-31T13:40:22.880356Z",
     "iopub.status.busy": "2025-03-31T13:40:22.880356Z",
     "iopub.status.idle": "2025-03-31T13:40:22.898498Z",
     "shell.execute_reply": "2025-03-31T13:40:22.898498Z"
    }
   },
   "outputs": [],
   "source": [
    "meta2_parte2"
   ]
  },
  {
   "cell_type": "code",
   "execution_count": null,
   "id": "ff4f4f3c-d242-4ecb-8db9-64e97188ed8b",
   "metadata": {
    "execution": {
     "iopub.execute_input": "2025-03-31T13:40:22.900525Z",
     "iopub.status.busy": "2025-03-31T13:40:22.900525Z",
     "iopub.status.idle": "2025-03-31T13:40:22.912373Z",
     "shell.execute_reply": "2025-03-31T13:40:22.912373Z"
    }
   },
   "outputs": [],
   "source": [
    "meta2_parte2.to_csv('Resultados/Correições 2024 - Meta 2 Parte 2.csv' ,sep=',', index=False)"
   ]
  }
 ],
 "metadata": {
  "kernelspec": {
   "display_name": "Python 3 (ipykernel)",
   "language": "python",
   "name": "python3"
  },
  "language_info": {
   "codemirror_mode": {
    "name": "ipython",
    "version": 3
   },
   "file_extension": ".py",
   "mimetype": "text/x-python",
   "name": "python",
   "nbconvert_exporter": "python",
   "pygments_lexer": "ipython3",
   "version": "3.12.7"
  }
 },
 "nbformat": 4,
 "nbformat_minor": 5
}
