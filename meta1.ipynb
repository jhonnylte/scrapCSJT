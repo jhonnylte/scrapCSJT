{
 "cells": [
  {
   "cell_type": "code",
   "execution_count": 1,
   "id": "0d766b2b-4604-4f3f-912c-1b431bdb22cd",
   "metadata": {},
   "outputs": [],
   "source": [
    "# Puxa as variáveis do arquivo Conversores para serem utilizadas neste arquivo\n",
    "%run Conversores.ipynb"
   ]
  },
  {
   "cell_type": "markdown",
   "id": "d52c4d06-9e49-49f6-b037-1fc889cda5d5",
   "metadata": {
    "jp-MarkdownHeadingCollapsed": true
   },
   "source": [
    "# Meta 1 - 2023"
   ]
  },
  {
   "cell_type": "code",
   "execution_count": 2,
   "id": "072adbe7-c25b-4c6f-a9d7-30d1c31fc268",
   "metadata": {},
   "outputs": [],
   "source": [
    "# Meta 1 - 2023\n",
    "# Iniciando navegador\n",
    "driver = webdriver.Chrome()\n",
    "sleep(2)"
   ]
  },
  {
   "cell_type": "code",
   "execution_count": 3,
   "id": "20669f79-a020-4eee-bf34-359562fbf4f8",
   "metadata": {},
   "outputs": [],
   "source": [
    "# Entrando no site\n",
    "driver.get(ano[2023])\n",
    "sleep(5)"
   ]
  },
  {
   "cell_type": "code",
   "execution_count": 4,
   "id": "abf92d08-cc68-4621-9cbb-13878ab1ec6b",
   "metadata": {},
   "outputs": [],
   "source": [
    "# Fechando pop-up\n",
    "driver.find_element(By.CLASS_NAME, 'tileSVG').click()\n",
    "sleep(1)"
   ]
  },
  {
   "cell_type": "code",
   "execution_count": 5,
   "id": "36021dee-a1d3-4863-baad-31571299cdb1",
   "metadata": {},
   "outputs": [],
   "source": [
    "# Clicando na meta \n",
    "driver.find_elements(By.CLASS_NAME, 'tileSVG')[3].click()\n",
    "sleep(3)"
   ]
  },
  {
   "cell_type": "code",
   "execution_count": 6,
   "id": "7c3a7f7b-303f-43e4-8d0b-b2efa48622ef",
   "metadata": {},
   "outputs": [],
   "source": [
    "# Selecionando o UF\n",
    "driver.find_elements(By.CSS_SELECTOR, '.slicer-dropdown-menu')[2].click()\n",
    "sleep(2)"
   ]
  },
  {
   "cell_type": "code",
   "execution_count": 7,
   "id": "be59f76a-93b4-415b-8e7e-38cc33fb937a",
   "metadata": {},
   "outputs": [],
   "source": [
    "# Selecionando 07ª - CE\n",
    "driver.find_elements(By.CSS_SELECTOR, '.slicerText')[7].click()\n",
    "sleep(5)"
   ]
  },
  {
   "cell_type": "code",
   "execution_count": 8,
   "id": "6737f30a-65f9-4b20-af4d-da1cc56c7191",
   "metadata": {},
   "outputs": [],
   "source": [
    "# Selecionando a 1º Instância\n",
    "driver.find_elements(By.CSS_SELECTOR, '.slicer-dropdown-menu')[0].click()\n",
    "sleep(2)\n",
    "\n",
    "driver.find_elements(By.CSS_SELECTOR, '.slicerText')[1].click()\n",
    "sleep(5)"
   ]
  },
  {
   "cell_type": "code",
   "execution_count": 9,
   "id": "bf9ef7b1-6363-4c48-959c-843b988b4de0",
   "metadata": {},
   "outputs": [],
   "source": [
    "# Expandindo as varas do estado\n",
    "driver.find_elements(By.CSS_SELECTOR, '.visual .pivotTableContainer .pivotTable .expandCollapseButton i.glyphicon, .visual .tableExContainer .tableEx .expandCollapseButton i.glyphicon')[0].click()\n",
    "sleep(3)"
   ]
  },
  {
   "cell_type": "code",
   "execution_count": 10,
   "id": "b70feb85-7115-4a03-8854-2ca7f9edde27",
   "metadata": {},
   "outputs": [],
   "source": [
    "# Selecionando a tabela\n",
    "tabela = driver.find_elements(By.CLASS_NAME, 'expandableCell')[0]\n",
    "tabela.click()"
   ]
  },
  {
   "cell_type": "code",
   "execution_count": 11,
   "id": "8237caf4-a1e2-4b59-bb31-f5fffacd0f6f",
   "metadata": {},
   "outputs": [],
   "source": [
    "# Botão direito do mouse e copiar seleção\n",
    "action = ActionChains(driver)\n",
    "action.key_down(Keys.SHIFT).send_keys(Keys.F10).key_up(Keys.SHIFT).perform()\n",
    "sleep(1)\n",
    "action.key_down(Keys.RIGHT).key_up(Keys.RIGHT).perform()\n",
    "sleep(1)\n",
    "action.key_down(Keys.DOWN).key_up(Keys.DOWN).perform()\n",
    "sleep(1)\n",
    "action.key_down(Keys.ENTER).key_up(Keys.ENTER).perform()\n",
    "sleep(1)"
   ]
  },
  {
   "cell_type": "code",
   "execution_count": 12,
   "id": "164d2ea9-3950-4323-96d0-a8910251cec5",
   "metadata": {},
   "outputs": [],
   "source": [
    "# Transformando o texto em DataFrame\n",
    "tab = pyperclip.paste()\n",
    "tab = tab.replace(\".\", \"\")\n",
    "meta1_23 = pd.read_csv(StringIO(tab), sep=\"\\t\")"
   ]
  },
  {
   "cell_type": "code",
   "execution_count": 13,
   "id": "da0aee10-a373-44ed-b535-20e96fda3614",
   "metadata": {},
   "outputs": [],
   "source": [
    "# Removendo linhas do 2º grau\n",
    "# Esse trecho determina que meta1 terá apenas as linhas que a Clausula de Barreira NÃO são NA\n",
    "meta1_23 = meta1_23.loc[~meta1_23['Clausula de Barreira'].isna()]"
   ]
  },
  {
   "cell_type": "code",
   "execution_count": 14,
   "id": "d05ee123-c854-4a9b-b497-aca50e99fcd0",
   "metadata": {},
   "outputs": [],
   "source": [
    "# Removendo colunas desnecessárias\n",
    "meta1_23 = meta1_23.iloc[:, [1, 2, 3, 4]]\n",
    "meta1_23['ORGAO_JULGADOR'] = meta1_23['ORGAO_JULGADOR'].apply(lambda orgao: conversorNomeVara[orgao])"
   ]
  },
  {
   "cell_type": "code",
   "execution_count": 15,
   "id": "b5248a40-d10b-4cd8-a08a-abb0e3bcef10",
   "metadata": {},
   "outputs": [],
   "source": [
    "# Inserindo o Ano\n",
    "meta1_23.insert(0, 'Ano', 2023)"
   ]
  },
  {
   "cell_type": "code",
   "execution_count": 16,
   "id": "4fe7d794-0740-4021-a3b7-498d8527ee6d",
   "metadata": {},
   "outputs": [],
   "source": [
    "# Inserindo coluna de índices\n",
    "meta1_23.insert(0, 'Índices', meta1_23['ORGAO_JULGADOR'].map(id_vara))"
   ]
  },
  {
   "cell_type": "code",
   "execution_count": 17,
   "id": "4145203c-adcf-4a34-b3d1-feef089dcddf",
   "metadata": {},
   "outputs": [],
   "source": [
    "# Adicionando linha Total do 1º grau\n",
    "total1Grau = driver.find_elements(By.CLASS_NAME, 'row')[3].text.split('\\n')\n",
    "total1Grau.insert(0, id_vara['Total do 1º Grau'])\n",
    "total1Grau.insert(1, 2023)\n",
    "total1Grau.remove('07ª - CE')\n",
    "total1Grau.insert(2, 'Total do 1º Grau')\n",
    "total1Grau = total1Grau[0:6]\n",
    "meta1_23.loc[len(meta1_23)] = total1Grau"
   ]
  },
  {
   "cell_type": "code",
   "execution_count": 18,
   "id": "0b5b275f-7c87-4450-a4d3-34b37734e8cb",
   "metadata": {},
   "outputs": [
    {
     "data": {
      "text/plain": [
       "0      1\n",
       "1      2\n",
       "2      4\n",
       "3      5\n",
       "4      8\n",
       "5     12\n",
       "6     14\n",
       "7     15\n",
       "8     16\n",
       "9     17\n",
       "10    18\n",
       "11    19\n",
       "12    20\n",
       "13    21\n",
       "14    22\n",
       "15    23\n",
       "16    24\n",
       "17    25\n",
       "18    26\n",
       "19    27\n",
       "20    28\n",
       "21    29\n",
       "22    30\n",
       "23    31\n",
       "24    34\n",
       "25    38\n",
       "26    39\n",
       "27    40\n",
       "28    43\n",
       "29    46\n",
       "30    47\n",
       "31    48\n",
       "32    49\n",
       "33    51\n",
       "34    53\n",
       "35    54\n",
       "36    55\n",
       "37    37\n",
       "Name: index, dtype: int64"
      ]
     },
     "execution_count": 18,
     "metadata": {},
     "output_type": "execute_result"
    }
   ],
   "source": [
    "# Os índices foram resetados para que total7Regiao ficasse na última linha, esse comando cria uma coluna index com os indices antigos, ele é deletada.\n",
    "meta1_23 = meta1_23.reset_index()\n",
    "meta1_23.pop('index')"
   ]
  },
  {
   "cell_type": "code",
   "execution_count": 19,
   "id": "135a4a92-783f-4b32-8d0b-1b05eaa75023",
   "metadata": {},
   "outputs": [],
   "source": [
    "# Adicionando linha Total do TRT7\n",
    "# Selecionando todas as instâncias\n",
    "driver.find_elements(By.CSS_SELECTOR, '.slicer-dropdown-menu')[0].click()\n",
    "sleep(2)\n",
    "driver.find_elements(By.CSS_SELECTOR, '.slicerText')[1].click()\n",
    "sleep(5)"
   ]
  },
  {
   "cell_type": "code",
   "execution_count": 20,
   "id": "453b084c-ee0c-410d-b581-a78324998753",
   "metadata": {},
   "outputs": [],
   "source": [
    "total7regiao = driver.find_elements(By.CLASS_NAME, 'row')[3].text.split('\\n')\n",
    "total7regiao.insert(0, id_vara['Total da 7ª Região'])\n",
    "total7regiao.insert(1, 2023)\n",
    "total7regiao.remove('07ª - CE')\n",
    "total7regiao.insert(2, 'Total da 7ª Região')\n",
    "total7regiao = total7regiao[0:6]\n",
    "meta1_23.loc[len(meta1_23)] = total7regiao"
   ]
  },
  {
   "cell_type": "code",
   "execution_count": 21,
   "id": "c0e5d73f-80ac-4ceb-9d52-ae69b27b5e4f",
   "metadata": {},
   "outputs": [],
   "source": [
    "driver.close()"
   ]
  },
  {
   "cell_type": "markdown",
   "id": "1523cbd9-29a3-4e4e-a47b-df60517ebeac",
   "metadata": {
    "jp-MarkdownHeadingCollapsed": true
   },
   "source": [
    "# Meta 1 - 2024"
   ]
  },
  {
   "cell_type": "code",
   "execution_count": 22,
   "id": "34211ddf-3e6f-4a92-a8bb-d2058e09bfcd",
   "metadata": {
    "scrolled": true
   },
   "outputs": [],
   "source": [
    "# Meta 1 - 2024\n",
    "# Iniciando navegador\n",
    "driver = webdriver.Chrome()\n",
    "sleep(2)"
   ]
  },
  {
   "cell_type": "code",
   "execution_count": 23,
   "id": "05dcd891-7d10-4d4b-a284-aa180d11cc63",
   "metadata": {
    "scrolled": true
   },
   "outputs": [],
   "source": [
    "# Entrando no site\n",
    "driver.get(ano[2024])\n",
    "sleep(5)"
   ]
  },
  {
   "cell_type": "code",
   "execution_count": 24,
   "id": "0d1cbe54-b829-4d4a-bc0e-af044c8394cd",
   "metadata": {
    "scrolled": true
   },
   "outputs": [],
   "source": [
    "# Fechando pop-up\n",
    "driver.find_element(By.CLASS_NAME, 'tileSVG').click()\n",
    "sleep(1)"
   ]
  },
  {
   "cell_type": "code",
   "execution_count": 25,
   "id": "25129a19-1008-4862-b9c9-07d951199285",
   "metadata": {
    "scrolled": true
   },
   "outputs": [],
   "source": [
    "# Clicando na meta \n",
    "driver.find_elements(By.CLASS_NAME, 'tileSVG')[1].click()\n",
    "sleep(3)"
   ]
  },
  {
   "cell_type": "code",
   "execution_count": 26,
   "id": "5a805571-346a-4d14-8b26-eee3efdf694d",
   "metadata": {
    "scrolled": true
   },
   "outputs": [],
   "source": [
    "# Selecionando o UF\n",
    "driver.find_elements(By.CSS_SELECTOR, '.slicer-dropdown-menu')[2].click()\n",
    "sleep(2)"
   ]
  },
  {
   "cell_type": "code",
   "execution_count": 27,
   "id": "f9cbaa87-cfaf-435c-b321-a34c4b5589a5",
   "metadata": {
    "scrolled": true
   },
   "outputs": [],
   "source": [
    "# Selecionando 07ª - CE\n",
    "driver.find_elements(By.CSS_SELECTOR, '.slicerText')[7].click()\n",
    "sleep(5)"
   ]
  },
  {
   "cell_type": "code",
   "execution_count": 28,
   "id": "d62b8724-3682-4f2a-903d-ec90b9863db7",
   "metadata": {
    "scrolled": true
   },
   "outputs": [],
   "source": [
    "# Selecionando a 1º Instância\n",
    "driver.find_elements(By.CSS_SELECTOR, '.slicer-dropdown-menu')[0].click()\n",
    "sleep(2)\n",
    "\n",
    "driver.find_elements(By.CSS_SELECTOR, '.slicerText')[1].click()\n",
    "sleep(5)"
   ]
  },
  {
   "cell_type": "code",
   "execution_count": 29,
   "id": "86174538-54d0-450f-9f94-1e6a181b7761",
   "metadata": {
    "scrolled": true
   },
   "outputs": [],
   "source": [
    "# Expandindo as varas do estado\n",
    "driver.find_elements(By.CSS_SELECTOR, '.visual .pivotTableContainer .pivotTable .expandCollapseButton i.glyphicon, .visual .tableExContainer .tableEx .expandCollapseButton i.glyphicon')[0].click()\n",
    "sleep(3)"
   ]
  },
  {
   "cell_type": "code",
   "execution_count": 30,
   "id": "a0aace59-2493-4c15-9630-15e73310c8a0",
   "metadata": {
    "scrolled": true
   },
   "outputs": [],
   "source": [
    "# Selecionando a tabela\n",
    "tabela = driver.find_elements(By.CLASS_NAME, 'expandableCell')[0]\n",
    "tabela.click()"
   ]
  },
  {
   "cell_type": "code",
   "execution_count": 31,
   "id": "4ce0383c-deb4-494e-986a-972e7a689577",
   "metadata": {
    "scrolled": true
   },
   "outputs": [],
   "source": [
    "# Botão direito do mouse e copiar seleção\n",
    "action = ActionChains(driver)\n",
    "action.key_down(Keys.SHIFT).send_keys(Keys.F10).key_up(Keys.SHIFT).perform()\n",
    "sleep(1)\n",
    "action.key_down(Keys.RIGHT).key_up(Keys.RIGHT).perform()\n",
    "sleep(1)\n",
    "action.key_down(Keys.DOWN).key_up(Keys.DOWN).perform()\n",
    "sleep(1)\n",
    "action.key_down(Keys.ENTER).key_up(Keys.ENTER).perform()\n",
    "sleep(1)"
   ]
  },
  {
   "cell_type": "code",
   "execution_count": 32,
   "id": "79d83bff-9ef5-42f4-91b9-12908dce96c7",
   "metadata": {
    "scrolled": true
   },
   "outputs": [],
   "source": [
    "# Transformando o texto em DataFrame\n",
    "tab = pyperclip.paste()\n",
    "tab = tab.replace(\".\", \"\")\n",
    "meta1_24 = pd.read_csv(StringIO(tab), sep=\"\\t\")"
   ]
  },
  {
   "cell_type": "code",
   "execution_count": 33,
   "id": "e80dea5a-4313-4af8-9a96-3e8db7ccc489",
   "metadata": {
    "scrolled": true
   },
   "outputs": [],
   "source": [
    "# Removendo linhas do 2º grau\n",
    "# Esse trecho determina que meta1 terá apenas as linhas que a clausura de barreira NÃO são NA\n",
    "meta1_24 = meta1_24.query('IPJ != \"(Em branco)\"')"
   ]
  },
  {
   "cell_type": "code",
   "execution_count": 34,
   "id": "9f4c28af-70af-4e97-a3b0-1d39a2a72eec",
   "metadata": {
    "scrolled": true
   },
   "outputs": [],
   "source": [
    "# Removendo colunas desnecessárias\n",
    "meta1_24 = meta1_24.iloc[:, [1, 2, 3, 4]]\n",
    "meta1_24['ORGAO_JULGADOR'] = meta1_24['ORGAO_JULGADOR'].apply(lambda orgao: conversorNomeVara[orgao])"
   ]
  },
  {
   "cell_type": "code",
   "execution_count": 35,
   "id": "760a1557-4d33-46df-b920-392b4274723e",
   "metadata": {
    "scrolled": true
   },
   "outputs": [],
   "source": [
    "# Inserindo o Ano\n",
    "meta1_24.insert(0, 'Ano', 2024)"
   ]
  },
  {
   "cell_type": "code",
   "execution_count": 36,
   "id": "1115b338-5865-4f0c-9684-a3a7fef48583",
   "metadata": {
    "scrolled": true
   },
   "outputs": [],
   "source": [
    "# Inserindo coluna de índices\n",
    "meta1_24.insert(0, 'Índices', meta1_24['ORGAO_JULGADOR'].map(id_vara))"
   ]
  },
  {
   "cell_type": "code",
   "execution_count": 37,
   "id": "33a8f438-ef3b-44d4-9206-d6187cf6c781",
   "metadata": {
    "scrolled": true
   },
   "outputs": [],
   "source": [
    "# Adicionando linha Total do 1º grau\n",
    "total1Grau = driver.find_elements(By.CLASS_NAME, 'row')[4].text.split('\\n')\n",
    "total1Grau.insert(0, id_vara['Total do 1º Grau'])\n",
    "total1Grau.insert(1, 2024)\n",
    "total1Grau.remove('07ª - CE')\n",
    "total1Grau.insert(2, 'Total do 1º Grau')\n",
    "total1Grau = total1Grau[0:6]\n",
    "meta1_24.loc[len(meta1_24)] = total1Grau"
   ]
  },
  {
   "cell_type": "code",
   "execution_count": 38,
   "id": "29dbb783-a8d5-44ab-9d46-ee8fd45a9539",
   "metadata": {
    "scrolled": true
   },
   "outputs": [
    {
     "data": {
      "text/plain": [
       "0      1\n",
       "1      2\n",
       "2      4\n",
       "3      5\n",
       "4      8\n",
       "5     12\n",
       "6     14\n",
       "7     15\n",
       "8     16\n",
       "9     17\n",
       "10    18\n",
       "11    19\n",
       "12    20\n",
       "13    21\n",
       "14    22\n",
       "15    23\n",
       "16    24\n",
       "17    25\n",
       "18    26\n",
       "19    27\n",
       "20    28\n",
       "21    29\n",
       "22    30\n",
       "23    31\n",
       "24    35\n",
       "25    39\n",
       "26    40\n",
       "27    41\n",
       "28    44\n",
       "29    47\n",
       "30    48\n",
       "31    49\n",
       "32    50\n",
       "33    53\n",
       "34    54\n",
       "35    55\n",
       "36    56\n",
       "37    37\n",
       "Name: index, dtype: int64"
      ]
     },
     "execution_count": 38,
     "metadata": {},
     "output_type": "execute_result"
    }
   ],
   "source": [
    "# Os índices foram resetados para que total7Regiao ficasse na última linha, esse comando cria uma coluna index com os indices antigos, ele é deletada.\n",
    "meta1_24 = meta1_24.reset_index()\n",
    "meta1_24.pop('index')"
   ]
  },
  {
   "cell_type": "code",
   "execution_count": 39,
   "id": "bfbe644d-faba-4903-8b42-6bc1ed8f01e0",
   "metadata": {
    "scrolled": true
   },
   "outputs": [],
   "source": [
    "# Adicionando linha Total do TRT7\n",
    "# Selecionando todas as instâncias\n",
    "driver.find_elements(By.CSS_SELECTOR, '.slicer-dropdown-menu')[0].click()\n",
    "sleep(2)\n",
    "driver.find_elements(By.CSS_SELECTOR, '.slicerText')[1].click()\n",
    "sleep(5)\n",
    "total7regiao = driver.find_elements(By.CLASS_NAME, 'row')[4].text.split('\\n')\n",
    "total7regiao.insert(0, id_vara['Total da 7ª Região'])\n",
    "total7regiao.insert(1, 2024)\n",
    "total7regiao.remove('07ª - CE')\n",
    "total7regiao.insert(2, 'Total da 7ª Região')\n",
    "total7regiao = total7regiao[0:6]\n",
    "meta1_24.loc[len(meta1_24)] = total7regiao"
   ]
  },
  {
   "cell_type": "code",
   "execution_count": 40,
   "id": "9ec2b37b-3d9b-42c2-8ea2-16ebd94bcfb6",
   "metadata": {
    "scrolled": true
   },
   "outputs": [],
   "source": [
    "driver.close()"
   ]
  },
  {
   "cell_type": "markdown",
   "id": "b305771d-ca6f-4c7e-9395-f83aac46507e",
   "metadata": {},
   "source": [
    "# União das tabelas"
   ]
  },
  {
   "cell_type": "code",
   "execution_count": 41,
   "id": "91220821-2cc9-4b2a-bc3d-dd11dbd7752e",
   "metadata": {
    "scrolled": true
   },
   "outputs": [],
   "source": [
    "meta1 = pd.concat([meta1_23, meta1_24], ignore_index=True)\n",
    "meta1.columns = ['Índices', 'Ano', 'Unidade Judiciária', 'Distribuídos', 'Julgados', 'Resultado']\n",
    "meta1.sort_values(by=['Ano', 'Índices'], ascending=[True, True], inplace=True)\n",
    "meta1.to_csv('Resultados/Correições 2024 - Meta 1.csv' ,sep=',', index=False)"
   ]
  }
 ],
 "metadata": {
  "kernelspec": {
   "display_name": "Python 3 (ipykernel)",
   "language": "python",
   "name": "python3"
  },
  "language_info": {
   "codemirror_mode": {
    "name": "ipython",
    "version": 3
   },
   "file_extension": ".py",
   "mimetype": "text/x-python",
   "name": "python",
   "nbconvert_exporter": "python",
   "pygments_lexer": "ipython3",
   "version": "3.12.7"
  }
 },
 "nbformat": 4,
 "nbformat_minor": 5
}
