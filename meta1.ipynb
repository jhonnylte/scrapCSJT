{
 "cells": [
  {
   "cell_type": "code",
   "execution_count": null,
   "id": "0d766b2b-4604-4f3f-912c-1b431bdb22cd",
   "metadata": {
    "execution": {
     "iopub.execute_input": "2025-03-31T13:35:23.616075Z",
     "iopub.status.busy": "2025-03-31T13:35:23.616075Z",
     "iopub.status.idle": "2025-03-31T13:35:24.472544Z",
     "shell.execute_reply": "2025-03-31T13:35:24.472544Z"
    }
   },
   "outputs": [],
   "source": [
    "# Puxa as variáveis do arquivo Conversores para serem utilizadas neste arquivo\n",
    "%run Conversores.ipynb"
   ]
  },
  {
   "cell_type": "markdown",
   "id": "d52c4d06-9e49-49f6-b037-1fc889cda5d5",
   "metadata": {
    "jp-MarkdownHeadingCollapsed": true
   },
   "source": [
    "# Meta 1 - 2023"
   ]
  },
  {
   "cell_type": "code",
   "execution_count": null,
   "id": "072adbe7-c25b-4c6f-a9d7-30d1c31fc268",
   "metadata": {
    "execution": {
     "iopub.execute_input": "2025-03-31T13:35:24.475079Z",
     "iopub.status.busy": "2025-03-31T13:35:24.475079Z",
     "iopub.status.idle": "2025-03-31T13:35:30.724868Z",
     "shell.execute_reply": "2025-03-31T13:35:30.724868Z"
    }
   },
   "outputs": [],
   "source": [
    "# Meta 1 - 2023\n",
    "# Iniciando navegador\n",
    "driver = webdriver.Chrome()\n",
    "sleep(2)"
   ]
  },
  {
   "cell_type": "code",
   "execution_count": null,
   "id": "20669f79-a020-4eee-bf34-359562fbf4f8",
   "metadata": {
    "execution": {
     "iopub.execute_input": "2025-03-31T13:35:30.727382Z",
     "iopub.status.busy": "2025-03-31T13:35:30.727382Z",
     "iopub.status.idle": "2025-03-31T13:35:39.884599Z",
     "shell.execute_reply": "2025-03-31T13:35:39.884599Z"
    }
   },
   "outputs": [],
   "source": [
    "# Entrando no site\n",
    "driver.get(ano[2023])\n",
    "sleep(5)"
   ]
  },
  {
   "cell_type": "code",
   "execution_count": null,
   "id": "abf92d08-cc68-4621-9cbb-13878ab1ec6b",
   "metadata": {
    "execution": {
     "iopub.execute_input": "2025-03-31T13:35:39.888591Z",
     "iopub.status.busy": "2025-03-31T13:35:39.888591Z",
     "iopub.status.idle": "2025-03-31T13:35:41.789127Z",
     "shell.execute_reply": "2025-03-31T13:35:41.789127Z"
    }
   },
   "outputs": [],
   "source": [
    "# Fechando pop-up\n",
    "driver.find_element(By.CLASS_NAME, 'tileSVG').click()\n",
    "sleep(1)"
   ]
  },
  {
   "cell_type": "code",
   "execution_count": null,
   "id": "36021dee-a1d3-4863-baad-31571299cdb1",
   "metadata": {
    "execution": {
     "iopub.execute_input": "2025-03-31T13:35:41.793119Z",
     "iopub.status.busy": "2025-03-31T13:35:41.793119Z",
     "iopub.status.idle": "2025-03-31T13:35:45.676469Z",
     "shell.execute_reply": "2025-03-31T13:35:45.676469Z"
    }
   },
   "outputs": [],
   "source": [
    "# Clicando na meta \n",
    "driver.find_elements(By.CLASS_NAME, 'tileSVG')[3].click()\n",
    "sleep(3)"
   ]
  },
  {
   "cell_type": "code",
   "execution_count": null,
   "id": "7c3a7f7b-303f-43e4-8d0b-b2efa48622ef",
   "metadata": {
    "execution": {
     "iopub.execute_input": "2025-03-31T13:35:45.678065Z",
     "iopub.status.busy": "2025-03-31T13:35:45.678065Z",
     "iopub.status.idle": "2025-03-31T13:35:47.824929Z",
     "shell.execute_reply": "2025-03-31T13:35:47.824929Z"
    }
   },
   "outputs": [],
   "source": [
    "# Selecionando o UF\n",
    "driver.find_elements(By.CSS_SELECTOR, '.slicer-dropdown-menu')[2].click()\n",
    "sleep(2)"
   ]
  },
  {
   "cell_type": "code",
   "execution_count": null,
   "id": "be59f76a-93b4-415b-8e7e-38cc33fb937a",
   "metadata": {
    "execution": {
     "iopub.execute_input": "2025-03-31T13:35:47.826967Z",
     "iopub.status.busy": "2025-03-31T13:35:47.826967Z",
     "iopub.status.idle": "2025-03-31T13:35:53.290148Z",
     "shell.execute_reply": "2025-03-31T13:35:53.289148Z"
    }
   },
   "outputs": [],
   "source": [
    "# Selecionando 07ª - CE\n",
    "driver.find_elements(By.CSS_SELECTOR, '.slicerText')[7].click()\n",
    "sleep(5)"
   ]
  },
  {
   "cell_type": "code",
   "execution_count": null,
   "id": "6737f30a-65f9-4b20-af4d-da1cc56c7191",
   "metadata": {
    "execution": {
     "iopub.execute_input": "2025-03-31T13:35:53.292426Z",
     "iopub.status.busy": "2025-03-31T13:35:53.292426Z",
     "iopub.status.idle": "2025-03-31T13:36:00.813173Z",
     "shell.execute_reply": "2025-03-31T13:36:00.812152Z"
    }
   },
   "outputs": [],
   "source": [
    "# Selecionando a 1º Instância\n",
    "driver.find_elements(By.CSS_SELECTOR, '.slicer-dropdown-menu')[0].click()\n",
    "sleep(2)\n",
    "\n",
    "driver.find_elements(By.CSS_SELECTOR, '.slicerText')[1].click()\n",
    "sleep(5)"
   ]
  },
  {
   "cell_type": "code",
   "execution_count": null,
   "id": "bf9ef7b1-6363-4c48-959c-843b988b4de0",
   "metadata": {
    "execution": {
     "iopub.execute_input": "2025-03-31T13:36:00.817202Z",
     "iopub.status.busy": "2025-03-31T13:36:00.816167Z",
     "iopub.status.idle": "2025-03-31T13:36:03.948517Z",
     "shell.execute_reply": "2025-03-31T13:36:03.948517Z"
    }
   },
   "outputs": [],
   "source": [
    "# Expandindo as varas do estado\n",
    "driver.find_elements(By.CSS_SELECTOR, '.visual .pivotTableContainer .pivotTable .expandCollapseButton i.glyphicon, .visual .tableExContainer .tableEx .expandCollapseButton i.glyphicon')[0].click()\n",
    "sleep(3)"
   ]
  },
  {
   "cell_type": "code",
   "execution_count": null,
   "id": "b70feb85-7115-4a03-8854-2ca7f9edde27",
   "metadata": {
    "execution": {
     "iopub.execute_input": "2025-03-31T13:36:03.948517Z",
     "iopub.status.busy": "2025-03-31T13:36:03.948517Z",
     "iopub.status.idle": "2025-03-31T13:36:04.383886Z",
     "shell.execute_reply": "2025-03-31T13:36:04.383886Z"
    }
   },
   "outputs": [],
   "source": [
    "# Selecionando a tabela\n",
    "tabela = driver.find_elements(By.CLASS_NAME, 'expandableCell')[0]\n",
    "tabela.click()"
   ]
  },
  {
   "cell_type": "code",
   "execution_count": null,
   "id": "8237caf4-a1e2-4b59-bb31-f5fffacd0f6f",
   "metadata": {
    "execution": {
     "iopub.execute_input": "2025-03-31T13:36:04.387647Z",
     "iopub.status.busy": "2025-03-31T13:36:04.387647Z",
     "iopub.status.idle": "2025-03-31T13:36:08.637133Z",
     "shell.execute_reply": "2025-03-31T13:36:08.637133Z"
    }
   },
   "outputs": [],
   "source": [
    "# Botão direito do mouse e copiar seleção\n",
    "action = ActionChains(driver)\n",
    "action.key_down(Keys.SHIFT).send_keys(Keys.F10).key_up(Keys.SHIFT).perform()\n",
    "sleep(1)\n",
    "action.key_down(Keys.RIGHT).key_up(Keys.RIGHT).perform()\n",
    "sleep(1)\n",
    "action.key_down(Keys.DOWN).key_up(Keys.DOWN).perform()\n",
    "sleep(1)\n",
    "action.key_down(Keys.ENTER).key_up(Keys.ENTER).perform()\n",
    "sleep(1)"
   ]
  },
  {
   "cell_type": "code",
   "execution_count": null,
   "id": "164d2ea9-3950-4323-96d0-a8910251cec5",
   "metadata": {
    "execution": {
     "iopub.execute_input": "2025-03-31T13:36:08.637133Z",
     "iopub.status.busy": "2025-03-31T13:36:08.637133Z",
     "iopub.status.idle": "2025-03-31T13:36:08.647346Z",
     "shell.execute_reply": "2025-03-31T13:36:08.647346Z"
    }
   },
   "outputs": [],
   "source": [
    "# Transformando o texto em DataFrame\n",
    "tab = pyperclip.paste()\n",
    "tab = tab.replace(\".\", \"\")\n",
    "meta1_23 = pd.read_csv(StringIO(tab), sep=\"\\t\")"
   ]
  },
  {
   "cell_type": "code",
   "execution_count": null,
   "id": "da0aee10-a373-44ed-b535-20e96fda3614",
   "metadata": {
    "execution": {
     "iopub.execute_input": "2025-03-31T13:36:08.647346Z",
     "iopub.status.busy": "2025-03-31T13:36:08.647346Z",
     "iopub.status.idle": "2025-03-31T13:36:08.655229Z",
     "shell.execute_reply": "2025-03-31T13:36:08.655229Z"
    }
   },
   "outputs": [],
   "source": [
    "# Removendo linhas do 2º grau\n",
    "# Esse trecho determina que meta1 terá apenas as linhas que a Clausula de Barreira NÃO são NA\n",
    "meta1_23 = meta1_23.loc[~meta1_23['Clausula de Barreira'].isna()]"
   ]
  },
  {
   "cell_type": "code",
   "execution_count": null,
   "id": "d05ee123-c854-4a9b-b497-aca50e99fcd0",
   "metadata": {
    "execution": {
     "iopub.execute_input": "2025-03-31T13:36:08.655229Z",
     "iopub.status.busy": "2025-03-31T13:36:08.655229Z",
     "iopub.status.idle": "2025-03-31T13:36:08.664041Z",
     "shell.execute_reply": "2025-03-31T13:36:08.664041Z"
    }
   },
   "outputs": [],
   "source": [
    "# Removendo colunas desnecessárias\n",
    "meta1_23 = meta1_23.iloc[:, [1, 2, 3, 4]]\n",
    "meta1_23['ORGAO_JULGADOR'] = meta1_23['ORGAO_JULGADOR'].apply(lambda orgao: conversorNomeVara[orgao])"
   ]
  },
  {
   "cell_type": "code",
   "execution_count": null,
   "id": "b5248a40-d10b-4cd8-a08a-abb0e3bcef10",
   "metadata": {
    "execution": {
     "iopub.execute_input": "2025-03-31T13:36:08.664041Z",
     "iopub.status.busy": "2025-03-31T13:36:08.664041Z",
     "iopub.status.idle": "2025-03-31T13:36:08.672145Z",
     "shell.execute_reply": "2025-03-31T13:36:08.672145Z"
    }
   },
   "outputs": [],
   "source": [
    "# Inserindo o Ano\n",
    "meta1_23.insert(0, 'Ano', 2023)"
   ]
  },
  {
   "cell_type": "code",
   "execution_count": null,
   "id": "4fe7d794-0740-4021-a3b7-498d8527ee6d",
   "metadata": {
    "execution": {
     "iopub.execute_input": "2025-03-31T13:36:08.672145Z",
     "iopub.status.busy": "2025-03-31T13:36:08.672145Z",
     "iopub.status.idle": "2025-03-31T13:36:08.680036Z",
     "shell.execute_reply": "2025-03-31T13:36:08.680036Z"
    }
   },
   "outputs": [],
   "source": [
    "# Inserindo coluna de índices\n",
    "meta1_23.insert(0, 'Índices', meta1_23['ORGAO_JULGADOR'].map(id_vara))"
   ]
  },
  {
   "cell_type": "code",
   "execution_count": null,
   "id": "4145203c-adcf-4a34-b3d1-feef089dcddf",
   "metadata": {
    "execution": {
     "iopub.execute_input": "2025-03-31T13:36:08.680036Z",
     "iopub.status.busy": "2025-03-31T13:36:08.680036Z",
     "iopub.status.idle": "2025-03-31T13:36:08.725404Z",
     "shell.execute_reply": "2025-03-31T13:36:08.725404Z"
    }
   },
   "outputs": [],
   "source": [
    "# Adicionando linha Total do 1º grau\n",
    "total1Grau = driver.find_elements(By.CLASS_NAME, 'row')[3].text.split('\\n')\n",
    "total1Grau.insert(0, id_vara['Total do 1º Grau'])\n",
    "total1Grau.insert(1, 2023)\n",
    "total1Grau.remove('07ª - CE')\n",
    "total1Grau.insert(2, 'Total do 1º Grau')\n",
    "total1Grau = total1Grau[0:6]\n",
    "meta1_23.loc[len(meta1_23)] = total1Grau"
   ]
  },
  {
   "cell_type": "code",
   "execution_count": null,
   "id": "0b5b275f-7c87-4450-a4d3-34b37734e8cb",
   "metadata": {
    "execution": {
     "iopub.execute_input": "2025-03-31T13:36:08.725404Z",
     "iopub.status.busy": "2025-03-31T13:36:08.725404Z",
     "iopub.status.idle": "2025-03-31T13:36:08.737431Z",
     "shell.execute_reply": "2025-03-31T13:36:08.737431Z"
    }
   },
   "outputs": [],
   "source": [
    "# Os índices foram resetados para que total7Regiao ficasse na última linha, esse comando cria uma coluna index com os indices antigos, ele é deletada.\n",
    "meta1_23 = meta1_23.reset_index()\n",
    "meta1_23.pop('index')"
   ]
  },
  {
   "cell_type": "code",
   "execution_count": null,
   "id": "135a4a92-783f-4b32-8d0b-1b05eaa75023",
   "metadata": {
    "execution": {
     "iopub.execute_input": "2025-03-31T13:36:08.737431Z",
     "iopub.status.busy": "2025-03-31T13:36:08.737431Z",
     "iopub.status.idle": "2025-03-31T13:36:16.262568Z",
     "shell.execute_reply": "2025-03-31T13:36:16.262568Z"
    }
   },
   "outputs": [],
   "source": [
    "# Adicionando linha Total do TRT7\n",
    "# Selecionando todas as instâncias\n",
    "driver.find_elements(By.CSS_SELECTOR, '.slicer-dropdown-menu')[0].click()\n",
    "sleep(2)\n",
    "driver.find_elements(By.CSS_SELECTOR, '.slicerText')[1].click()\n",
    "sleep(5)"
   ]
  },
  {
   "cell_type": "code",
   "execution_count": null,
   "id": "453b084c-ee0c-410d-b581-a78324998753",
   "metadata": {
    "execution": {
     "iopub.execute_input": "2025-03-31T13:36:16.266646Z",
     "iopub.status.busy": "2025-03-31T13:36:16.266646Z",
     "iopub.status.idle": "2025-03-31T13:36:16.297653Z",
     "shell.execute_reply": "2025-03-31T13:36:16.297653Z"
    }
   },
   "outputs": [],
   "source": [
    "total7regiao = driver.find_elements(By.CLASS_NAME, 'row')[3].text.split('\\n')\n",
    "total7regiao.insert(0, id_vara['Total da 7ª Região'])\n",
    "total7regiao.insert(1, 2023)\n",
    "total7regiao.remove('07ª - CE')\n",
    "total7regiao.insert(2, 'Total da 7ª Região')\n",
    "total7regiao = total7regiao[0:6]\n",
    "meta1_23.loc[len(meta1_23)] = total7regiao"
   ]
  },
  {
   "cell_type": "code",
   "execution_count": null,
   "id": "c0e5d73f-80ac-4ceb-9d52-ae69b27b5e4f",
   "metadata": {
    "execution": {
     "iopub.execute_input": "2025-03-31T13:36:16.299239Z",
     "iopub.status.busy": "2025-03-31T13:36:16.299239Z",
     "iopub.status.idle": "2025-03-31T13:36:16.426850Z",
     "shell.execute_reply": "2025-03-31T13:36:16.426342Z"
    }
   },
   "outputs": [],
   "source": [
    "driver.close()"
   ]
  },
  {
   "cell_type": "markdown",
   "id": "1523cbd9-29a3-4e4e-a47b-df60517ebeac",
   "metadata": {
    "jp-MarkdownHeadingCollapsed": true
   },
   "source": [
    "# Meta 1 - 2024"
   ]
  },
  {
   "cell_type": "code",
   "execution_count": null,
   "id": "34211ddf-3e6f-4a92-a8bb-d2058e09bfcd",
   "metadata": {
    "execution": {
     "iopub.execute_input": "2025-03-31T13:36:16.430895Z",
     "iopub.status.busy": "2025-03-31T13:36:16.430895Z",
     "iopub.status.idle": "2025-03-31T13:36:20.802566Z",
     "shell.execute_reply": "2025-03-31T13:36:20.802566Z"
    }
   },
   "outputs": [],
   "source": [
    "# Meta 1 - 2024\n",
    "# Iniciando navegador\n",
    "driver = webdriver.Chrome()\n",
    "sleep(2)"
   ]
  },
  {
   "cell_type": "code",
   "execution_count": null,
   "id": "05dcd891-7d10-4d4b-a284-aa180d11cc63",
   "metadata": {
    "execution": {
     "iopub.execute_input": "2025-03-31T13:36:20.802566Z",
     "iopub.status.busy": "2025-03-31T13:36:20.802566Z",
     "iopub.status.idle": "2025-03-31T13:36:29.351290Z",
     "shell.execute_reply": "2025-03-31T13:36:29.351290Z"
    }
   },
   "outputs": [],
   "source": [
    "# Entrando no site\n",
    "driver.get(ano[2024])\n",
    "sleep(5)"
   ]
  },
  {
   "cell_type": "code",
   "execution_count": null,
   "id": "0d1cbe54-b829-4d4a-bc0e-af044c8394cd",
   "metadata": {
    "execution": {
     "iopub.execute_input": "2025-03-31T13:36:29.351290Z",
     "iopub.status.busy": "2025-03-31T13:36:29.351290Z",
     "iopub.status.idle": "2025-03-31T13:36:30.536490Z",
     "shell.execute_reply": "2025-03-31T13:36:30.535490Z"
    }
   },
   "outputs": [],
   "source": [
    "# Fechando pop-up\n",
    "driver.find_element(By.CLASS_NAME, 'tileSVG').click()\n",
    "sleep(1)"
   ]
  },
  {
   "cell_type": "code",
   "execution_count": null,
   "id": "25129a19-1008-4862-b9c9-07d951199285",
   "metadata": {
    "execution": {
     "iopub.execute_input": "2025-03-31T13:36:30.539483Z",
     "iopub.status.busy": "2025-03-31T13:36:30.539483Z",
     "iopub.status.idle": "2025-03-31T13:36:34.352585Z",
     "shell.execute_reply": "2025-03-31T13:36:34.352585Z"
    }
   },
   "outputs": [],
   "source": [
    "# Clicando na meta \n",
    "driver.find_elements(By.CLASS_NAME, 'tileSVG')[1].click()\n",
    "sleep(3)"
   ]
  },
  {
   "cell_type": "code",
   "execution_count": null,
   "id": "5a805571-346a-4d14-8b26-eee3efdf694d",
   "metadata": {
    "execution": {
     "iopub.execute_input": "2025-03-31T13:36:34.352585Z",
     "iopub.status.busy": "2025-03-31T13:36:34.352585Z",
     "iopub.status.idle": "2025-03-31T13:36:36.497928Z",
     "shell.execute_reply": "2025-03-31T13:36:36.497928Z"
    }
   },
   "outputs": [],
   "source": [
    "# Selecionando o UF\n",
    "driver.find_elements(By.CSS_SELECTOR, '.slicer-dropdown-menu')[2].click()\n",
    "sleep(2)"
   ]
  },
  {
   "cell_type": "code",
   "execution_count": null,
   "id": "f9cbaa87-cfaf-435c-b321-a34c4b5589a5",
   "metadata": {
    "execution": {
     "iopub.execute_input": "2025-03-31T13:36:36.497928Z",
     "iopub.status.busy": "2025-03-31T13:36:36.497928Z",
     "iopub.status.idle": "2025-03-31T13:36:41.977191Z",
     "shell.execute_reply": "2025-03-31T13:36:41.977191Z"
    }
   },
   "outputs": [],
   "source": [
    "# Selecionando 07ª - CE\n",
    "driver.find_elements(By.CSS_SELECTOR, '.slicerText')[7].click()\n",
    "sleep(5)"
   ]
  },
  {
   "cell_type": "code",
   "execution_count": null,
   "id": "d62b8724-3682-4f2a-903d-ec90b9863db7",
   "metadata": {
    "execution": {
     "iopub.execute_input": "2025-03-31T13:36:41.981254Z",
     "iopub.status.busy": "2025-03-31T13:36:41.981254Z",
     "iopub.status.idle": "2025-03-31T13:36:49.445742Z",
     "shell.execute_reply": "2025-03-31T13:36:49.445742Z"
    }
   },
   "outputs": [],
   "source": [
    "# Selecionando a 1º Instância\n",
    "driver.find_elements(By.CSS_SELECTOR, '.slicer-dropdown-menu')[0].click()\n",
    "sleep(2)\n",
    "\n",
    "driver.find_elements(By.CSS_SELECTOR, '.slicerText')[1].click()\n",
    "sleep(5)"
   ]
  },
  {
   "cell_type": "code",
   "execution_count": null,
   "id": "86174538-54d0-450f-9f94-1e6a181b7761",
   "metadata": {
    "execution": {
     "iopub.execute_input": "2025-03-31T13:36:49.445742Z",
     "iopub.status.busy": "2025-03-31T13:36:49.445742Z",
     "iopub.status.idle": "2025-03-31T13:36:52.585371Z",
     "shell.execute_reply": "2025-03-31T13:36:52.585371Z"
    }
   },
   "outputs": [],
   "source": [
    "# Expandindo as varas do estado\n",
    "driver.find_elements(By.CSS_SELECTOR, '.visual .pivotTableContainer .pivotTable .expandCollapseButton i.glyphicon, .visual .tableExContainer .tableEx .expandCollapseButton i.glyphicon')[0].click()\n",
    "sleep(3)"
   ]
  },
  {
   "cell_type": "code",
   "execution_count": null,
   "id": "a0aace59-2493-4c15-9630-15e73310c8a0",
   "metadata": {
    "execution": {
     "iopub.execute_input": "2025-03-31T13:36:52.589442Z",
     "iopub.status.busy": "2025-03-31T13:36:52.589442Z",
     "iopub.status.idle": "2025-03-31T13:36:52.985091Z",
     "shell.execute_reply": "2025-03-31T13:36:52.985091Z"
    }
   },
   "outputs": [],
   "source": [
    "# Selecionando a tabela\n",
    "tabela = driver.find_elements(By.CLASS_NAME, 'expandableCell')[0]\n",
    "tabela.click()"
   ]
  },
  {
   "cell_type": "code",
   "execution_count": null,
   "id": "4ce0383c-deb4-494e-986a-972e7a689577",
   "metadata": {
    "execution": {
     "iopub.execute_input": "2025-03-31T13:36:52.989279Z",
     "iopub.status.busy": "2025-03-31T13:36:52.989279Z",
     "iopub.status.idle": "2025-03-31T13:36:57.199261Z",
     "shell.execute_reply": "2025-03-31T13:36:57.199261Z"
    }
   },
   "outputs": [],
   "source": [
    "# Botão direito do mouse e copiar seleção\n",
    "action = ActionChains(driver)\n",
    "action.key_down(Keys.SHIFT).send_keys(Keys.F10).key_up(Keys.SHIFT).perform()\n",
    "sleep(1)\n",
    "action.key_down(Keys.RIGHT).key_up(Keys.RIGHT).perform()\n",
    "sleep(1)\n",
    "action.key_down(Keys.DOWN).key_up(Keys.DOWN).perform()\n",
    "sleep(1)\n",
    "action.key_down(Keys.ENTER).key_up(Keys.ENTER).perform()\n",
    "sleep(1)"
   ]
  },
  {
   "cell_type": "code",
   "execution_count": null,
   "id": "79d83bff-9ef5-42f4-91b9-12908dce96c7",
   "metadata": {
    "execution": {
     "iopub.execute_input": "2025-03-31T13:36:57.200845Z",
     "iopub.status.busy": "2025-03-31T13:36:57.200845Z",
     "iopub.status.idle": "2025-03-31T13:36:57.208966Z",
     "shell.execute_reply": "2025-03-31T13:36:57.208883Z"
    }
   },
   "outputs": [],
   "source": [
    "# Transformando o texto em DataFrame\n",
    "tab = pyperclip.paste()\n",
    "tab = tab.replace(\".\", \"\")\n",
    "meta1_24 = pd.read_csv(StringIO(tab), sep=\"\\t\")"
   ]
  },
  {
   "cell_type": "code",
   "execution_count": null,
   "id": "e80dea5a-4313-4af8-9a96-3e8db7ccc489",
   "metadata": {
    "execution": {
     "iopub.execute_input": "2025-03-31T13:36:57.211035Z",
     "iopub.status.busy": "2025-03-31T13:36:57.211035Z",
     "iopub.status.idle": "2025-03-31T13:36:57.220044Z",
     "shell.execute_reply": "2025-03-31T13:36:57.219141Z"
    }
   },
   "outputs": [],
   "source": [
    "# Removendo linhas do 2º grau\n",
    "# Esse trecho determina que meta1 terá apenas as linhas que a clausura de barreira NÃO são NA\n",
    "meta1_24 = meta1_24.query('IPJ != \"(Em branco)\"')"
   ]
  },
  {
   "cell_type": "code",
   "execution_count": null,
   "id": "9f4c28af-70af-4e97-a3b0-1d39a2a72eec",
   "metadata": {
    "execution": {
     "iopub.execute_input": "2025-03-31T13:36:57.222907Z",
     "iopub.status.busy": "2025-03-31T13:36:57.222907Z",
     "iopub.status.idle": "2025-03-31T13:36:57.227595Z",
     "shell.execute_reply": "2025-03-31T13:36:57.227595Z"
    }
   },
   "outputs": [],
   "source": [
    "# Removendo colunas desnecessárias\n",
    "meta1_24 = meta1_24.iloc[:, [1, 2, 3, 4]]\n",
    "meta1_24['ORGAO_JULGADOR'] = meta1_24['ORGAO_JULGADOR'].apply(lambda orgao: conversorNomeVara[orgao])"
   ]
  },
  {
   "cell_type": "code",
   "execution_count": null,
   "id": "760a1557-4d33-46df-b920-392b4274723e",
   "metadata": {
    "execution": {
     "iopub.execute_input": "2025-03-31T13:36:57.230581Z",
     "iopub.status.busy": "2025-03-31T13:36:57.230581Z",
     "iopub.status.idle": "2025-03-31T13:36:57.234226Z",
     "shell.execute_reply": "2025-03-31T13:36:57.234226Z"
    }
   },
   "outputs": [],
   "source": [
    "# Inserindo o Ano\n",
    "meta1_24.insert(0, 'Ano', 2024)"
   ]
  },
  {
   "cell_type": "code",
   "execution_count": null,
   "id": "1115b338-5865-4f0c-9684-a3a7fef48583",
   "metadata": {
    "execution": {
     "iopub.execute_input": "2025-03-31T13:36:57.237214Z",
     "iopub.status.busy": "2025-03-31T13:36:57.237214Z",
     "iopub.status.idle": "2025-03-31T13:36:57.242571Z",
     "shell.execute_reply": "2025-03-31T13:36:57.242232Z"
    }
   },
   "outputs": [],
   "source": [
    "# Inserindo coluna de índices\n",
    "meta1_24.insert(0, 'Índices', meta1_24['ORGAO_JULGADOR'].map(id_vara))"
   ]
  },
  {
   "cell_type": "code",
   "execution_count": null,
   "id": "33a8f438-ef3b-44d4-9206-d6187cf6c781",
   "metadata": {
    "execution": {
     "iopub.execute_input": "2025-03-31T13:36:57.243160Z",
     "iopub.status.busy": "2025-03-31T13:36:57.243160Z",
     "iopub.status.idle": "2025-03-31T13:36:57.284864Z",
     "shell.execute_reply": "2025-03-31T13:36:57.284864Z"
    }
   },
   "outputs": [],
   "source": [
    "# Adicionando linha Total do 1º grau\n",
    "total1Grau = driver.find_elements(By.CLASS_NAME, 'row')[4].text.split('\\n')\n",
    "total1Grau.insert(0, id_vara['Total do 1º Grau'])\n",
    "total1Grau.insert(1, 2024)\n",
    "total1Grau.remove('07ª - CE')\n",
    "total1Grau.insert(2, 'Total do 1º Grau')\n",
    "total1Grau = total1Grau[0:6]\n",
    "meta1_24.loc[len(meta1_24)] = total1Grau"
   ]
  },
  {
   "cell_type": "code",
   "execution_count": null,
   "id": "29dbb783-a8d5-44ab-9d46-ee8fd45a9539",
   "metadata": {
    "execution": {
     "iopub.execute_input": "2025-03-31T13:36:57.284864Z",
     "iopub.status.busy": "2025-03-31T13:36:57.284864Z",
     "iopub.status.idle": "2025-03-31T13:36:57.294955Z",
     "shell.execute_reply": "2025-03-31T13:36:57.294955Z"
    }
   },
   "outputs": [],
   "source": [
    "# Os índices foram resetados para que total7Regiao ficasse na última linha, esse comando cria uma coluna index com os indices antigos, ele é deletada.\n",
    "meta1_24 = meta1_24.reset_index()\n",
    "meta1_24.pop('index')"
   ]
  },
  {
   "cell_type": "code",
   "execution_count": null,
   "id": "bfbe644d-faba-4903-8b42-6bc1ed8f01e0",
   "metadata": {
    "execution": {
     "iopub.execute_input": "2025-03-31T13:36:57.294955Z",
     "iopub.status.busy": "2025-03-31T13:36:57.294955Z",
     "iopub.status.idle": "2025-03-31T13:37:04.871600Z",
     "shell.execute_reply": "2025-03-31T13:37:04.871600Z"
    }
   },
   "outputs": [],
   "source": [
    "# Adicionando linha Total do TRT7\n",
    "# Selecionando todas as instâncias\n",
    "driver.find_elements(By.CSS_SELECTOR, '.slicer-dropdown-menu')[0].click()\n",
    "sleep(2)\n",
    "driver.find_elements(By.CSS_SELECTOR, '.slicerText')[1].click()\n",
    "sleep(5)\n",
    "total7regiao = driver.find_elements(By.CLASS_NAME, 'row')[4].text.split('\\n')\n",
    "total7regiao.insert(0, id_vara['Total da 7ª Região'])\n",
    "total7regiao.insert(1, 2024)\n",
    "total7regiao.remove('07ª - CE')\n",
    "total7regiao.insert(2, 'Total da 7ª Região')\n",
    "total7regiao = total7regiao[0:6]\n",
    "meta1_24.loc[len(meta1_24)] = total7regiao"
   ]
  },
  {
   "cell_type": "code",
   "execution_count": null,
   "id": "9ec2b37b-3d9b-42c2-8ea2-16ebd94bcfb6",
   "metadata": {
    "execution": {
     "iopub.execute_input": "2025-03-31T13:37:04.873148Z",
     "iopub.status.busy": "2025-03-31T13:37:04.873148Z",
     "iopub.status.idle": "2025-03-31T13:37:04.991521Z",
     "shell.execute_reply": "2025-03-31T13:37:04.989001Z"
    }
   },
   "outputs": [],
   "source": [
    "driver.close()"
   ]
  },
  {
   "cell_type": "markdown",
   "id": "b305771d-ca6f-4c7e-9395-f83aac46507e",
   "metadata": {},
   "source": [
    "# União das tabelas"
   ]
  },
  {
   "cell_type": "code",
   "execution_count": null,
   "id": "91220821-2cc9-4b2a-bc3d-dd11dbd7752e",
   "metadata": {
    "execution": {
     "iopub.execute_input": "2025-03-31T13:37:04.991521Z",
     "iopub.status.busy": "2025-03-31T13:37:04.991521Z",
     "iopub.status.idle": "2025-03-31T13:37:05.009754Z",
     "shell.execute_reply": "2025-03-31T13:37:05.009754Z"
    }
   },
   "outputs": [],
   "source": [
    "meta1 = pd.concat([meta1_23, meta1_24], ignore_index=True)\n",
    "meta1.columns = ['Índices', 'Ano', 'Unidade Judiciária', 'Distribuídos', 'Julgados', 'Resultado']\n",
    "meta1.sort_values(by=['Ano', 'Índices'], ascending=[True, True], inplace=True)\n",
    "meta1.to_csv('Resultados/Correições 2024 - Meta 1.csv' ,sep=',', index=False)"
   ]
  }
 ],
 "metadata": {
  "kernelspec": {
   "display_name": "Python 3 (ipykernel)",
   "language": "python",
   "name": "python3"
  },
  "language_info": {
   "codemirror_mode": {
    "name": "ipython",
    "version": 3
   },
   "file_extension": ".py",
   "mimetype": "text/x-python",
   "name": "python",
   "nbconvert_exporter": "python",
   "pygments_lexer": "ipython3",
   "version": "3.12.7"
  }
 },
 "nbformat": 4,
 "nbformat_minor": 5
}
