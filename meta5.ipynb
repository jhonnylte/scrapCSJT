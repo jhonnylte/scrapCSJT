{
 "cells": [
  {
   "cell_type": "code",
   "execution_count": null,
   "id": "52c00adf-2c58-40da-a981-8ee41f05fecd",
   "metadata": {
    "execution": {
     "iopub.execute_input": "2025-03-31T13:41:57.342917Z",
     "iopub.status.busy": "2025-03-31T13:41:57.342917Z",
     "iopub.status.idle": "2025-03-31T13:41:58.208562Z",
     "shell.execute_reply": "2025-03-31T13:41:58.208562Z"
    }
   },
   "outputs": [],
   "source": [
    "# Puxa as variáveis do arquivo Conversores para serem utilizadas neste arquivo\n",
    "%run Conversores.ipynb"
   ]
  },
  {
   "cell_type": "markdown",
   "id": "76a2d3af-712d-441e-9576-1fd11d99a44c",
   "metadata": {},
   "source": [
    "# Meta 5 - 2023"
   ]
  },
  {
   "cell_type": "code",
   "execution_count": null,
   "id": "dc1055ff-31ad-43bb-b7b2-6b977855aa35",
   "metadata": {
    "execution": {
     "iopub.execute_input": "2025-03-31T13:41:58.208562Z",
     "iopub.status.busy": "2025-03-31T13:41:58.208562Z",
     "iopub.status.idle": "2025-03-31T13:42:03.583239Z",
     "shell.execute_reply": "2025-03-31T13:42:03.583239Z"
    }
   },
   "outputs": [],
   "source": [
    "# Meta 5 - 2023\n",
    "# Iniciando navegador\n",
    "driver = webdriver.Chrome()\n",
    "sleep(3)"
   ]
  },
  {
   "cell_type": "code",
   "execution_count": null,
   "id": "c81a5075-39a1-47ee-bd98-ec5a3735faff",
   "metadata": {
    "execution": {
     "iopub.execute_input": "2025-03-31T13:42:03.583239Z",
     "iopub.status.busy": "2025-03-31T13:42:03.583239Z",
     "iopub.status.idle": "2025-03-31T13:42:14.816264Z",
     "shell.execute_reply": "2025-03-31T13:42:14.815619Z"
    }
   },
   "outputs": [],
   "source": [
    "# Entrando no site\n",
    "driver.get(ano[2023])\n",
    "sleep(8)"
   ]
  },
  {
   "cell_type": "code",
   "execution_count": null,
   "id": "49bea9ce-56f2-4cbf-bf68-9b8a7cd5d136",
   "metadata": {
    "execution": {
     "iopub.execute_input": "2025-03-31T13:42:14.819285Z",
     "iopub.status.busy": "2025-03-31T13:42:14.819285Z",
     "iopub.status.idle": "2025-03-31T13:42:15.992315Z",
     "shell.execute_reply": "2025-03-31T13:42:15.991315Z"
    }
   },
   "outputs": [],
   "source": [
    "# Fechando pop-up\n",
    "driver.find_element(By.CLASS_NAME, 'tileSVG').click()\n",
    "sleep(1)"
   ]
  },
  {
   "cell_type": "code",
   "execution_count": null,
   "id": "da80bc42-efca-4547-9361-6433d36a0dce",
   "metadata": {
    "execution": {
     "iopub.execute_input": "2025-03-31T13:42:15.996304Z",
     "iopub.status.busy": "2025-03-31T13:42:15.996304Z",
     "iopub.status.idle": "2025-03-31T13:42:19.786243Z",
     "shell.execute_reply": "2025-03-31T13:42:19.786243Z"
    }
   },
   "outputs": [],
   "source": [
    "# Clicando na meta \n",
    "driver.find_elements(By.CLASS_NAME, 'tileSVG')[6].click()\n",
    "sleep(3)"
   ]
  },
  {
   "cell_type": "code",
   "execution_count": null,
   "id": "ea3053b8-364b-469e-a6ee-6d4ff8d1917f",
   "metadata": {
    "execution": {
     "iopub.execute_input": "2025-03-31T13:42:19.790904Z",
     "iopub.status.busy": "2025-03-31T13:42:19.790904Z",
     "iopub.status.idle": "2025-03-31T13:42:21.950512Z",
     "shell.execute_reply": "2025-03-31T13:42:21.950512Z"
    }
   },
   "outputs": [],
   "source": [
    "# Selecionando o UF\n",
    "driver.find_elements(By.CSS_SELECTOR, '.slicer-dropdown-menu')[2].click()\n",
    "sleep(2)"
   ]
  },
  {
   "cell_type": "code",
   "execution_count": null,
   "id": "42dc32de-e0e1-4031-b711-ba8558e40eb2",
   "metadata": {
    "execution": {
     "iopub.execute_input": "2025-03-31T13:42:21.951617Z",
     "iopub.status.busy": "2025-03-31T13:42:21.951617Z",
     "iopub.status.idle": "2025-03-31T13:42:27.458991Z",
     "shell.execute_reply": "2025-03-31T13:42:27.458059Z"
    }
   },
   "outputs": [],
   "source": [
    "# Selecionando 07ª - CE\n",
    "driver.find_elements(By.CSS_SELECTOR, '.slicerText')[7].click()\n",
    "sleep(5)"
   ]
  },
  {
   "cell_type": "code",
   "execution_count": null,
   "id": "25fbf5d9-c605-458c-b5fc-5c7f29e53adf",
   "metadata": {
    "execution": {
     "iopub.execute_input": "2025-03-31T13:42:27.462674Z",
     "iopub.status.busy": "2025-03-31T13:42:27.462498Z",
     "iopub.status.idle": "2025-03-31T13:42:34.948796Z",
     "shell.execute_reply": "2025-03-31T13:42:34.948201Z"
    }
   },
   "outputs": [],
   "source": [
    "# Selecionando a 1º Instância\n",
    "driver.find_elements(By.CSS_SELECTOR, '.slicer-dropdown-menu')[0].click()\n",
    "sleep(2)\n",
    "\n",
    "driver.find_elements(By.CSS_SELECTOR, '.slicerText')[1].click()\n",
    "sleep(5)"
   ]
  },
  {
   "cell_type": "code",
   "execution_count": null,
   "id": "bfa0c5f3-c6dc-4eae-8847-47db37e876c1",
   "metadata": {
    "execution": {
     "iopub.execute_input": "2025-03-31T13:42:34.952696Z",
     "iopub.status.busy": "2025-03-31T13:42:34.951727Z",
     "iopub.status.idle": "2025-03-31T13:42:35.236899Z",
     "shell.execute_reply": "2025-03-31T13:42:35.236305Z"
    }
   },
   "outputs": [],
   "source": [
    "table = driver.find_elements(By.XPATH, '//*[@id=\"pvExplorationHost\"]/div/div/exploration/div/explore-canvas/div/div[2]/div/div[2]/div[2]/visual-container-repeat/visual-container[16]/transform/div/div[3]/div/div/visual-modern/div/div/div[2]/div[1]/div[2]/div/div')\n",
    "table = [r.text for r in table]\n"
   ]
  },
  {
   "cell_type": "code",
   "execution_count": null,
   "id": "86bf7a8b-c0ed-489a-a9ef-5a2c5955a313",
   "metadata": {
    "execution": {
     "iopub.execute_input": "2025-03-31T13:42:35.239891Z",
     "iopub.status.busy": "2025-03-31T13:42:35.239891Z",
     "iopub.status.idle": "2025-03-31T13:42:37.257901Z",
     "shell.execute_reply": "2025-03-31T13:42:37.257901Z"
    }
   },
   "outputs": [],
   "source": [
    "# Tabela só é usada para scrollar, table que armazena os dados\n",
    "tabela = driver.find_elements(By.CLASS_NAME, 'mid-viewport')[1]\n",
    "driver.execute_script(\"arguments[0].scrollTop += 500;\", tabela)\n",
    "sleep(2)"
   ]
  },
  {
   "cell_type": "code",
   "execution_count": null,
   "id": "1e4cd5f4-6954-4f9c-9ea5-04a8e2979c73",
   "metadata": {
    "execution": {
     "iopub.execute_input": "2025-03-31T13:42:37.257901Z",
     "iopub.status.busy": "2025-03-31T13:42:37.257901Z",
     "iopub.status.idle": "2025-03-31T13:42:37.565506Z",
     "shell.execute_reply": "2025-03-31T13:42:37.565506Z"
    }
   },
   "outputs": [],
   "source": [
    "table2 = driver.find_elements(By.XPATH, '//*[@id=\"pvExplorationHost\"]/div/div/exploration/div/explore-canvas/div/div[2]/div/div[2]/div[2]/visual-container-repeat/visual-container[16]/transform/div/div[3]/div/div/visual-modern/div/div/div[2]/div[1]/div[2]/div/div')\n",
    "table2 = [r.text for r in table2]"
   ]
  },
  {
   "cell_type": "code",
   "execution_count": null,
   "id": "7e85d216-04db-4add-8e0b-563a687c3c83",
   "metadata": {
    "execution": {
     "iopub.execute_input": "2025-03-31T13:42:37.565506Z",
     "iopub.status.busy": "2025-03-31T13:42:37.565506Z",
     "iopub.status.idle": "2025-03-31T13:42:39.597607Z",
     "shell.execute_reply": "2025-03-31T13:42:39.597607Z"
    }
   },
   "outputs": [],
   "source": [
    "total1grau = driver.find_elements(By.XPATH, '//*[@id=\"pvExplorationHost\"]/div/div/exploration/div/explore-canvas/div/div[2]/div/div[2]/div[2]/visual-container-repeat/visual-container[16]/transform/div/div[3]/div/div/visual-modern/div/div/div[2]/div[1]/div[3]/div')\n",
    "total1grau = [r.text for r in total1grau]\n",
    "total1grau = [r.split('\\n') for r in total1grau]\n",
    "total1grau = total1grau[0]\n",
    "total1grau = [total1grau[0], total1grau[-1]]\n",
    "total1grau[0] = 'Total do 1º Grau'\n",
    "sleep(2)"
   ]
  },
  {
   "cell_type": "code",
   "execution_count": null,
   "id": "3bcc5535-dfc9-42e9-9c26-ecd0eb0bbebf",
   "metadata": {
    "execution": {
     "iopub.execute_input": "2025-03-31T13:42:39.597607Z",
     "iopub.status.busy": "2025-03-31T13:42:39.597607Z",
     "iopub.status.idle": "2025-03-31T13:42:45.078331Z",
     "shell.execute_reply": "2025-03-31T13:42:45.077319Z"
    }
   },
   "outputs": [],
   "source": [
    "# Selecionando todos os graus\n",
    "driver.find_elements(By.CSS_SELECTOR, '.slicerText')[1].click()\n",
    "sleep(5)"
   ]
  },
  {
   "cell_type": "code",
   "execution_count": null,
   "id": "5481bec2-edcc-4f25-8e87-211028d3ccd1",
   "metadata": {
    "execution": {
     "iopub.execute_input": "2025-03-31T13:42:45.082112Z",
     "iopub.status.busy": "2025-03-31T13:42:45.081115Z",
     "iopub.status.idle": "2025-03-31T13:42:45.111897Z",
     "shell.execute_reply": "2025-03-31T13:42:45.111897Z"
    }
   },
   "outputs": [],
   "source": [
    "totaltrt7 = driver.find_elements(By.XPATH, '//*[@id=\"pvExplorationHost\"]/div/div/exploration/div/explore-canvas/div/div[2]/div/div[2]/div[2]/visual-container-repeat/visual-container[13]/transform/div/div[3]/div/div/visual-modern/div/div/div[2]/div[1]/div[3]/div')\n",
    "totaltrt7 = [r.text for r in totaltrt7]\n",
    "totaltrt7 = [r.split('\\n') for r in totaltrt7]\n",
    "totaltrt7 = totaltrt7[0]\n",
    "totaltrt7 = [totaltrt7[0], totaltrt7[-1]]\n",
    "totaltrt7[0] = 'Total da 7ª Região'"
   ]
  },
  {
   "cell_type": "code",
   "execution_count": null,
   "id": "09be5930-feff-4713-bd11-d63502c49936",
   "metadata": {
    "execution": {
     "iopub.execute_input": "2025-03-31T13:42:45.111897Z",
     "iopub.status.busy": "2025-03-31T13:42:45.111897Z",
     "iopub.status.idle": "2025-03-31T13:42:45.124774Z",
     "shell.execute_reply": "2025-03-31T13:42:45.124774Z"
    }
   },
   "outputs": [],
   "source": [
    "tableFull = table + table2 \n",
    "tableFull"
   ]
  },
  {
   "cell_type": "code",
   "execution_count": null,
   "id": "62ce11da-bcd9-4cb9-bd62-6f8f0c8777be",
   "metadata": {
    "execution": {
     "iopub.execute_input": "2025-03-31T13:42:45.124774Z",
     "iopub.status.busy": "2025-03-31T13:42:45.124774Z",
     "iopub.status.idle": "2025-03-31T13:42:45.131740Z",
     "shell.execute_reply": "2025-03-31T13:42:45.131740Z"
    }
   },
   "outputs": [],
   "source": [
    "# Transforma cada linha em uma lista separada por \\n \n",
    "tableFull = [r.split('\\n') for r in tableFull]"
   ]
  },
  {
   "cell_type": "code",
   "execution_count": null,
   "id": "9000223f-f712-4794-ab64-c983043ba61a",
   "metadata": {
    "execution": {
     "iopub.execute_input": "2025-03-31T13:42:45.131740Z",
     "iopub.status.busy": "2025-03-31T13:42:45.131740Z",
     "iopub.status.idle": "2025-03-31T13:42:45.140791Z",
     "shell.execute_reply": "2025-03-31T13:42:45.140791Z"
    }
   },
   "outputs": [],
   "source": [
    "# Remove todos os elementos de cada linha(lista), deixando apenas o primeiro e último (unidade judiciária e cumprimento da meta)\n",
    "tableFull = [[l[0], l[-1]] for l in tableFull]\n",
    "tableFull"
   ]
  },
  {
   "cell_type": "code",
   "execution_count": null,
   "id": "5bac45d7-7b00-43de-b463-e69ce11aba88",
   "metadata": {
    "execution": {
     "iopub.execute_input": "2025-03-31T13:42:45.140791Z",
     "iopub.status.busy": "2025-03-31T13:42:45.140791Z",
     "iopub.status.idle": "2025-03-31T13:42:45.149557Z",
     "shell.execute_reply": "2025-03-31T13:42:45.149557Z"
    }
   },
   "outputs": [],
   "source": [
    "# Removendo linhas duplicadas\n",
    "tableFull = [list(tupla) for tupla in set(tuple(lista) for lista in tableFull)]\n",
    "tableFull"
   ]
  },
  {
   "cell_type": "code",
   "execution_count": null,
   "id": "ac76636e-eea7-4b02-95a9-c109b7489ac6",
   "metadata": {
    "execution": {
     "iopub.execute_input": "2025-03-31T13:42:45.149557Z",
     "iopub.status.busy": "2025-03-31T13:42:45.149557Z",
     "iopub.status.idle": "2025-03-31T13:42:45.170771Z",
     "shell.execute_reply": "2025-03-31T13:42:45.170771Z"
    }
   },
   "outputs": [],
   "source": [
    "meta5_23 = pd.DataFrame(tableFull)\n",
    "meta5_23.columns = ['Unidade Judiciária', 'Resultado']\n",
    "meta5_23['Unidade Judiciária'] = meta5_23['Unidade Judiciária'].apply(lambda orgao: conversorNomeVara[orgao])\n",
    "meta5_23.loc[len(meta5_23)] = total1grau\n",
    "meta5_23.loc[len(meta5_23)] = totaltrt7\n",
    "meta5_23.insert(0, 'Índices', meta5_23['Unidade Judiciária'].map(id_vara))\n",
    "\n",
    "# Inserindo o Ano\n",
    "meta5_23.insert(2, 'Ano', 2023)\n",
    "meta5_23.sort_values(by=['Ano', 'Índices'], ascending=[True, True], inplace=True)\n",
    "meta5_23"
   ]
  },
  {
   "cell_type": "code",
   "execution_count": null,
   "id": "f320d9d7-b505-4a4e-84dc-1e4cdd2a6b27",
   "metadata": {
    "execution": {
     "iopub.execute_input": "2025-03-31T13:42:45.170771Z",
     "iopub.status.busy": "2025-03-31T13:42:45.170771Z",
     "iopub.status.idle": "2025-03-31T13:42:45.274881Z",
     "shell.execute_reply": "2025-03-31T13:42:45.274881Z"
    }
   },
   "outputs": [],
   "source": [
    "driver.close()"
   ]
  },
  {
   "cell_type": "markdown",
   "id": "db977328-816f-4c64-909c-d9a266d2bb1c",
   "metadata": {},
   "source": [
    "# Meta 5- 2024"
   ]
  },
  {
   "cell_type": "code",
   "execution_count": null,
   "id": "74ecfcdd-03d9-46d1-bb4d-bf62ad91aadb",
   "metadata": {
    "execution": {
     "iopub.execute_input": "2025-03-31T13:42:45.274881Z",
     "iopub.status.busy": "2025-03-31T13:42:45.274881Z",
     "iopub.status.idle": "2025-03-31T13:42:50.575776Z",
     "shell.execute_reply": "2025-03-31T13:42:50.575776Z"
    }
   },
   "outputs": [],
   "source": [
    "# Meta 5 - 2024\n",
    "# Iniciando navegador\n",
    "driver = webdriver.Chrome()\n",
    "sleep(3)\n"
   ]
  },
  {
   "cell_type": "code",
   "execution_count": null,
   "id": "5a19bb1e-11ee-4945-9c1d-bad9c9c21d92",
   "metadata": {
    "execution": {
     "iopub.execute_input": "2025-03-31T13:42:50.575776Z",
     "iopub.status.busy": "2025-03-31T13:42:50.575776Z",
     "iopub.status.idle": "2025-03-31T13:43:05.852316Z",
     "shell.execute_reply": "2025-03-31T13:43:05.852316Z"
    }
   },
   "outputs": [],
   "source": [
    "# Entrando no site\n",
    "driver.get(ano[2024])\n",
    "sleep(12)"
   ]
  },
  {
   "cell_type": "code",
   "execution_count": null,
   "id": "a138a291-4a79-4733-8503-bc328fd0f536",
   "metadata": {
    "execution": {
     "iopub.execute_input": "2025-03-31T13:43:05.855856Z",
     "iopub.status.busy": "2025-03-31T13:43:05.855856Z",
     "iopub.status.idle": "2025-03-31T13:43:09.630892Z",
     "shell.execute_reply": "2025-03-31T13:43:09.630892Z"
    }
   },
   "outputs": [],
   "source": [
    "# Clicando na meta \n",
    "driver.find_elements(By.CLASS_NAME, 'tileSVG')[4].click()\n",
    "sleep(3)"
   ]
  },
  {
   "cell_type": "code",
   "execution_count": null,
   "id": "755df0cb-ac4b-45fc-b95e-c1c4d865a89c",
   "metadata": {
    "execution": {
     "iopub.execute_input": "2025-03-31T13:43:09.634478Z",
     "iopub.status.busy": "2025-03-31T13:43:09.634478Z",
     "iopub.status.idle": "2025-03-31T13:43:11.772261Z",
     "shell.execute_reply": "2025-03-31T13:43:11.772261Z"
    }
   },
   "outputs": [],
   "source": [
    "# Selecionando o UF\n",
    "driver.find_elements(By.CSS_SELECTOR, '.slicer-dropdown-menu')[3].click()\n",
    "sleep(2)\n"
   ]
  },
  {
   "cell_type": "code",
   "execution_count": null,
   "id": "d9f23660-1b73-41e2-ab3e-a1ec6ac9b2d7",
   "metadata": {
    "execution": {
     "iopub.execute_input": "2025-03-31T13:43:11.775375Z",
     "iopub.status.busy": "2025-03-31T13:43:11.775375Z",
     "iopub.status.idle": "2025-03-31T13:43:17.216320Z",
     "shell.execute_reply": "2025-03-31T13:43:17.216320Z"
    }
   },
   "outputs": [],
   "source": [
    "# Selecionando 07ª - CE\n",
    "driver.find_elements(By.CSS_SELECTOR, '.slicerText')[7].click()\n",
    "sleep(5)"
   ]
  },
  {
   "cell_type": "code",
   "execution_count": null,
   "id": "f2a4cdfc-9ff6-4aec-8c33-be598ed344d0",
   "metadata": {
    "execution": {
     "iopub.execute_input": "2025-03-31T13:43:17.216320Z",
     "iopub.status.busy": "2025-03-31T13:43:17.216320Z",
     "iopub.status.idle": "2025-03-31T13:43:24.767242Z",
     "shell.execute_reply": "2025-03-31T13:43:24.766248Z"
    }
   },
   "outputs": [],
   "source": [
    "# Selecionando a 1º Instância\n",
    "driver.find_elements(By.CSS_SELECTOR, '.slicer-dropdown-menu')[0].click()\n",
    "sleep(2)\n",
    "\n",
    "driver.find_elements(By.CSS_SELECTOR, '.slicerText')[1].click()\n",
    "sleep(5)"
   ]
  },
  {
   "cell_type": "code",
   "execution_count": null,
   "id": "ea5f9e66-fe0b-4df2-966a-5035ce00ab9f",
   "metadata": {
    "execution": {
     "iopub.execute_input": "2025-03-31T13:43:24.770159Z",
     "iopub.status.busy": "2025-03-31T13:43:24.770159Z",
     "iopub.status.idle": "2025-03-31T13:43:25.069445Z",
     "shell.execute_reply": "2025-03-31T13:43:25.069445Z"
    }
   },
   "outputs": [],
   "source": [
    "table = driver.find_elements(By.XPATH, '//*[@id=\"pvExplorationHost\"]/div/div/exploration/div/explore-canvas/div/div[2]/div/div[2]/div[2]/visual-container-repeat/visual-container[16]/transform/div/div[3]/div/div/visual-modern/div/div/div[2]/div[1]/div[2]/div/div')\n",
    "table = [r.text for r in table]\n",
    "table"
   ]
  },
  {
   "cell_type": "code",
   "execution_count": null,
   "id": "18403560-7ddd-4c9a-afe4-19cf0a6e68c6",
   "metadata": {
    "execution": {
     "iopub.execute_input": "2025-03-31T13:43:25.070397Z",
     "iopub.status.busy": "2025-03-31T13:43:25.070397Z",
     "iopub.status.idle": "2025-03-31T13:43:27.107165Z",
     "shell.execute_reply": "2025-03-31T13:43:27.107165Z"
    }
   },
   "outputs": [],
   "source": [
    "# Tabela só é usada para scrollar afim de obter a outra parte das linhas, table que armazena os dados\n",
    "tabela = driver.find_elements(By.CLASS_NAME, 'mid-viewport')[1]\n",
    "driver.execute_script(\"arguments[0].scrollTop += 500;\", tabela)\n",
    "sleep(2)"
   ]
  },
  {
   "cell_type": "code",
   "execution_count": null,
   "id": "d5425b19-3f9d-4ec9-933e-ce7386357984",
   "metadata": {
    "execution": {
     "iopub.execute_input": "2025-03-31T13:43:27.108687Z",
     "iopub.status.busy": "2025-03-31T13:43:27.108687Z",
     "iopub.status.idle": "2025-03-31T13:43:27.426164Z",
     "shell.execute_reply": "2025-03-31T13:43:27.426164Z"
    }
   },
   "outputs": [],
   "source": [
    "table2 = driver.find_elements(By.XPATH, '//*[@id=\"pvExplorationHost\"]/div/div/exploration/div/explore-canvas/div/div[2]/div/div[2]/div[2]/visual-container-repeat/visual-container[16]/transform/div/div[3]/div/div/visual-modern/div/div/div[2]/div[1]/div[2]/div/div')\n",
    "table2 = [r.text for r in table2]\n",
    "table2"
   ]
  },
  {
   "cell_type": "code",
   "execution_count": null,
   "id": "3701e700-bb58-48d4-b49a-401600b96421",
   "metadata": {
    "execution": {
     "iopub.execute_input": "2025-03-31T13:43:27.426164Z",
     "iopub.status.busy": "2025-03-31T13:43:27.426164Z",
     "iopub.status.idle": "2025-03-31T13:43:29.460113Z",
     "shell.execute_reply": "2025-03-31T13:43:29.460113Z"
    }
   },
   "outputs": [],
   "source": [
    "total1grau = driver.find_elements(By.XPATH, '//*[@id=\"pvExplorationHost\"]/div/div/exploration/div/explore-canvas/div/div[2]/div/div[2]/div[2]/visual-container-repeat/visual-container[16]/transform/div/div[3]/div/div/visual-modern/div/div/div[2]/div[1]/div[3]/div')\n",
    "total1grau = [r.text for r in total1grau]\n",
    "total1grau = [r.split('\\n') for r in total1grau]\n",
    "total1grau = total1grau[0]\n",
    "total1grau = [total1grau[0], total1grau[-1]]\n",
    "total1grau[0] = 'Total do 1º Grau'\n",
    "sleep(2)\n",
    "total1grau"
   ]
  },
  {
   "cell_type": "code",
   "execution_count": null,
   "id": "ca3aacfe-a394-466c-9612-536b157305a8",
   "metadata": {
    "execution": {
     "iopub.execute_input": "2025-03-31T13:43:29.460113Z",
     "iopub.status.busy": "2025-03-31T13:43:29.460113Z",
     "iopub.status.idle": "2025-03-31T13:43:34.891855Z",
     "shell.execute_reply": "2025-03-31T13:43:34.891855Z"
    }
   },
   "outputs": [],
   "source": [
    "# Selecionando todos os graus\n",
    "driver.find_elements(By.CSS_SELECTOR, '.slicerText')[1].click()\n",
    "sleep(5)"
   ]
  },
  {
   "cell_type": "code",
   "execution_count": null,
   "id": "55aa90d0-a558-4240-b554-cc8bc70ee049",
   "metadata": {
    "execution": {
     "iopub.execute_input": "2025-03-31T13:43:34.895414Z",
     "iopub.status.busy": "2025-03-31T13:43:34.895414Z",
     "iopub.status.idle": "2025-03-31T13:43:34.927911Z",
     "shell.execute_reply": "2025-03-31T13:43:34.927911Z"
    }
   },
   "outputs": [],
   "source": [
    "totaltrt7 = driver.find_elements(By.XPATH, '//*[@id=\"pvExplorationHost\"]/div/div/exploration/div/explore-canvas/div/div[2]/div/div[2]/div[2]/visual-container-repeat/visual-container[12]/transform/div/div[3]/div/div/visual-modern/div/div/div[2]/div[1]/div[3]/div')\n",
    "totaltrt7 = [r.text for r in totaltrt7]\n",
    "totaltrt7 = [r.split('\\n') for r in totaltrt7]\n",
    "totaltrt7 = totaltrt7[0]\n",
    "totaltrt7 = [totaltrt7[0], totaltrt7[-1]]\n",
    "totaltrt7[0] = 'Total da 7ª Região'\n",
    "totaltrt7"
   ]
  },
  {
   "cell_type": "code",
   "execution_count": null,
   "id": "f9a0677f-0ab2-468c-83d5-1444653fb076",
   "metadata": {
    "execution": {
     "iopub.execute_input": "2025-03-31T13:43:34.927911Z",
     "iopub.status.busy": "2025-03-31T13:43:34.927911Z",
     "iopub.status.idle": "2025-03-31T13:43:34.936404Z",
     "shell.execute_reply": "2025-03-31T13:43:34.936404Z"
    }
   },
   "outputs": [],
   "source": [
    "tableFull = table + table2 \n",
    "tableFull"
   ]
  },
  {
   "cell_type": "code",
   "execution_count": null,
   "id": "45c73917-9be4-4a5e-b3f7-406f5e169761",
   "metadata": {
    "execution": {
     "iopub.execute_input": "2025-03-31T13:43:34.936404Z",
     "iopub.status.busy": "2025-03-31T13:43:34.936404Z",
     "iopub.status.idle": "2025-03-31T13:43:34.947169Z",
     "shell.execute_reply": "2025-03-31T13:43:34.947169Z"
    }
   },
   "outputs": [],
   "source": [
    "# Transforma cada linha em uma lista separada por \\n \n",
    "tableFull = [r.split('\\n') for r in tableFull]\n",
    "tableFull"
   ]
  },
  {
   "cell_type": "code",
   "execution_count": null,
   "id": "c74b2612-22f0-4ece-bef3-428c5513719c",
   "metadata": {
    "execution": {
     "iopub.execute_input": "2025-03-31T13:43:34.948683Z",
     "iopub.status.busy": "2025-03-31T13:43:34.948683Z",
     "iopub.status.idle": "2025-03-31T13:43:34.955585Z",
     "shell.execute_reply": "2025-03-31T13:43:34.955585Z"
    }
   },
   "outputs": [],
   "source": [
    "# Remove todos os elementos de cada linha(lista), deixando apenas o primeiro e último (unidade judiciária e cumprimento da meta)\n",
    "tableFull = [[l[0], l[-1]] for l in tableFull]\n",
    "tableFull"
   ]
  },
  {
   "cell_type": "code",
   "execution_count": null,
   "id": "f5ffe149-a30c-4829-a672-aa8d2b63ec51",
   "metadata": {
    "execution": {
     "iopub.execute_input": "2025-03-31T13:43:34.956605Z",
     "iopub.status.busy": "2025-03-31T13:43:34.956605Z",
     "iopub.status.idle": "2025-03-31T13:43:34.964493Z",
     "shell.execute_reply": "2025-03-31T13:43:34.964493Z"
    }
   },
   "outputs": [],
   "source": [
    "# Removendo linhas duplicadas\n",
    "tableFull = [list(tupla) for tupla in set(tuple(lista) for lista in tableFull)]\n",
    "tableFull"
   ]
  },
  {
   "cell_type": "code",
   "execution_count": null,
   "id": "721bd6dc-82ff-4f8a-b354-6b1913e29bc2",
   "metadata": {
    "execution": {
     "iopub.execute_input": "2025-03-31T13:43:34.966500Z",
     "iopub.status.busy": "2025-03-31T13:43:34.966500Z",
     "iopub.status.idle": "2025-03-31T13:43:34.981502Z",
     "shell.execute_reply": "2025-03-31T13:43:34.981502Z"
    }
   },
   "outputs": [],
   "source": [
    "meta5_24 = pd.DataFrame(tableFull)\n",
    "meta5_24.columns = ['Unidade Judiciária', 'Resultado']\n",
    "meta5_24['Unidade Judiciária'] = meta5_24['Unidade Judiciária'].apply(lambda orgao: conversorNomeVara[orgao])\n",
    "meta5_24.loc[len(meta5_24)] = total1grau\n",
    "meta5_24.loc[len(meta5_24)] = totaltrt7\n",
    "meta5_24.insert(0, 'Índices', meta5_24['Unidade Judiciária'].map(id_vara))\n",
    "\n",
    "# Inserindo o Ano\n",
    "meta5_24.insert(2, 'Ano', 2024)\n",
    "meta5_24.sort_values(by=['Ano', 'Índices'], ascending=[True, True], inplace=True)\n",
    "meta5_24"
   ]
  },
  {
   "cell_type": "code",
   "execution_count": null,
   "id": "3bbc9439-5596-421d-b674-3820516b952c",
   "metadata": {
    "execution": {
     "iopub.execute_input": "2025-03-31T13:43:34.981502Z",
     "iopub.status.busy": "2025-03-31T13:43:34.981502Z",
     "iopub.status.idle": "2025-03-31T13:43:35.102470Z",
     "shell.execute_reply": "2025-03-31T13:43:35.102470Z"
    }
   },
   "outputs": [],
   "source": [
    "meta5 = pd.concat([meta5_23, meta5_24], ignore_index=True)\n",
    "meta5.sort_values(by=['Ano', 'Índices'], ascending=[True, True], inplace=True)\n",
    "meta5.to_csv('Resultados/Correições 2024 - Meta 5.csv', sep=',', index=False)\n",
    "driver.close()"
   ]
  }
 ],
 "metadata": {
  "kernelspec": {
   "display_name": "Python 3 (ipykernel)",
   "language": "python",
   "name": "python3"
  },
  "language_info": {
   "codemirror_mode": {
    "name": "ipython",
    "version": 3
   },
   "file_extension": ".py",
   "mimetype": "text/x-python",
   "name": "python",
   "nbconvert_exporter": "python",
   "pygments_lexer": "ipython3",
   "version": "3.12.7"
  }
 },
 "nbformat": 4,
 "nbformat_minor": 5
}
